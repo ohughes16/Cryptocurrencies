{
 "cells": [
  {
   "cell_type": "markdown",
   "metadata": {},
   "source": [
    "# Clustering Crypto"
   ]
  },
  {
   "cell_type": "code",
   "execution_count": 203,
   "metadata": {},
   "outputs": [],
   "source": [
    "# Initial imports\n",
    "import pandas as pd\n",
    "import hvplot.pandas\n",
    "from path import Path\n",
    "import plotly.express as px\n",
    "from sklearn.preprocessing import StandardScaler, MinMaxScaler\n",
    "from sklearn.decomposition import PCA\n",
    "from sklearn.cluster import KMeans\n"
   ]
  },
  {
   "cell_type": "markdown",
   "metadata": {},
   "source": [
    "### Deliverable 1: Preprocessing the Data for PCA"
   ]
  },
  {
   "cell_type": "code",
   "execution_count": 128,
   "metadata": {
    "scrolled": true
   },
   "outputs": [
    {
     "data": {
      "text/html": [
       "<div>\n",
       "<style scoped>\n",
       "    .dataframe tbody tr th:only-of-type {\n",
       "        vertical-align: middle;\n",
       "    }\n",
       "\n",
       "    .dataframe tbody tr th {\n",
       "        vertical-align: top;\n",
       "    }\n",
       "\n",
       "    .dataframe thead th {\n",
       "        text-align: right;\n",
       "    }\n",
       "</style>\n",
       "<table border=\"1\" class=\"dataframe\">\n",
       "  <thead>\n",
       "    <tr style=\"text-align: right;\">\n",
       "      <th></th>\n",
       "      <th>CoinName</th>\n",
       "      <th>Algorithm</th>\n",
       "      <th>IsTrading</th>\n",
       "      <th>ProofType</th>\n",
       "      <th>TotalCoinsMined</th>\n",
       "      <th>TotalCoinSupply</th>\n",
       "    </tr>\n",
       "  </thead>\n",
       "  <tbody>\n",
       "    <tr>\n",
       "      <th>42</th>\n",
       "      <td>42 Coin</td>\n",
       "      <td>Scrypt</td>\n",
       "      <td>True</td>\n",
       "      <td>PoW/PoS</td>\n",
       "      <td>4.199995e+01</td>\n",
       "      <td>42</td>\n",
       "    </tr>\n",
       "    <tr>\n",
       "      <th>365</th>\n",
       "      <td>365Coin</td>\n",
       "      <td>X11</td>\n",
       "      <td>True</td>\n",
       "      <td>PoW/PoS</td>\n",
       "      <td>NaN</td>\n",
       "      <td>2300000000</td>\n",
       "    </tr>\n",
       "    <tr>\n",
       "      <th>404</th>\n",
       "      <td>404Coin</td>\n",
       "      <td>Scrypt</td>\n",
       "      <td>True</td>\n",
       "      <td>PoW/PoS</td>\n",
       "      <td>1.055185e+09</td>\n",
       "      <td>532000000</td>\n",
       "    </tr>\n",
       "    <tr>\n",
       "      <th>611</th>\n",
       "      <td>SixEleven</td>\n",
       "      <td>SHA-256</td>\n",
       "      <td>True</td>\n",
       "      <td>PoW</td>\n",
       "      <td>NaN</td>\n",
       "      <td>611000</td>\n",
       "    </tr>\n",
       "    <tr>\n",
       "      <th>808</th>\n",
       "      <td>808</td>\n",
       "      <td>SHA-256</td>\n",
       "      <td>True</td>\n",
       "      <td>PoW/PoS</td>\n",
       "      <td>0.000000e+00</td>\n",
       "      <td>0</td>\n",
       "    </tr>\n",
       "  </tbody>\n",
       "</table>\n",
       "</div>"
      ],
      "text/plain": [
       "      CoinName Algorithm  IsTrading ProofType  TotalCoinsMined TotalCoinSupply\n",
       "42     42 Coin    Scrypt       True   PoW/PoS     4.199995e+01              42\n",
       "365    365Coin       X11       True   PoW/PoS              NaN      2300000000\n",
       "404    404Coin    Scrypt       True   PoW/PoS     1.055185e+09       532000000\n",
       "611  SixEleven   SHA-256       True       PoW              NaN          611000\n",
       "808        808   SHA-256       True   PoW/PoS     0.000000e+00               0"
      ]
     },
     "execution_count": 128,
     "metadata": {},
     "output_type": "execute_result"
    }
   ],
   "source": [
    "#Load the crypto_data.csv dataset\n",
    "file_path = \"Resources/crypto_data.csv\"\n",
    "crypto_df = pd.read_csv(file_path, index_col=0)\n",
    "crypto_df.head()"
   ]
  },
  {
   "cell_type": "code",
   "execution_count": 129,
   "metadata": {},
   "outputs": [
    {
     "data": {
      "text/html": [
       "<div>\n",
       "<style scoped>\n",
       "    .dataframe tbody tr th:only-of-type {\n",
       "        vertical-align: middle;\n",
       "    }\n",
       "\n",
       "    .dataframe tbody tr th {\n",
       "        vertical-align: top;\n",
       "    }\n",
       "\n",
       "    .dataframe thead th {\n",
       "        text-align: right;\n",
       "    }\n",
       "</style>\n",
       "<table border=\"1\" class=\"dataframe\">\n",
       "  <thead>\n",
       "    <tr style=\"text-align: right;\">\n",
       "      <th></th>\n",
       "      <th>CoinName</th>\n",
       "      <th>Algorithm</th>\n",
       "      <th>IsTrading</th>\n",
       "      <th>ProofType</th>\n",
       "      <th>TotalCoinsMined</th>\n",
       "      <th>TotalCoinSupply</th>\n",
       "    </tr>\n",
       "  </thead>\n",
       "  <tbody>\n",
       "    <tr>\n",
       "      <th>42</th>\n",
       "      <td>42 Coin</td>\n",
       "      <td>Scrypt</td>\n",
       "      <td>True</td>\n",
       "      <td>PoW/PoS</td>\n",
       "      <td>4.199995e+01</td>\n",
       "      <td>42</td>\n",
       "    </tr>\n",
       "    <tr>\n",
       "      <th>365</th>\n",
       "      <td>365Coin</td>\n",
       "      <td>X11</td>\n",
       "      <td>True</td>\n",
       "      <td>PoW/PoS</td>\n",
       "      <td>NaN</td>\n",
       "      <td>2300000000</td>\n",
       "    </tr>\n",
       "    <tr>\n",
       "      <th>404</th>\n",
       "      <td>404Coin</td>\n",
       "      <td>Scrypt</td>\n",
       "      <td>True</td>\n",
       "      <td>PoW/PoS</td>\n",
       "      <td>1.055185e+09</td>\n",
       "      <td>532000000</td>\n",
       "    </tr>\n",
       "    <tr>\n",
       "      <th>611</th>\n",
       "      <td>SixEleven</td>\n",
       "      <td>SHA-256</td>\n",
       "      <td>True</td>\n",
       "      <td>PoW</td>\n",
       "      <td>NaN</td>\n",
       "      <td>611000</td>\n",
       "    </tr>\n",
       "    <tr>\n",
       "      <th>808</th>\n",
       "      <td>808</td>\n",
       "      <td>SHA-256</td>\n",
       "      <td>True</td>\n",
       "      <td>PoW/PoS</td>\n",
       "      <td>0.000000e+00</td>\n",
       "      <td>0</td>\n",
       "    </tr>\n",
       "    <tr>\n",
       "      <th>...</th>\n",
       "      <td>...</td>\n",
       "      <td>...</td>\n",
       "      <td>...</td>\n",
       "      <td>...</td>\n",
       "      <td>...</td>\n",
       "      <td>...</td>\n",
       "    </tr>\n",
       "    <tr>\n",
       "      <th>SERO</th>\n",
       "      <td>Super Zero</td>\n",
       "      <td>Ethash</td>\n",
       "      <td>True</td>\n",
       "      <td>PoW</td>\n",
       "      <td>NaN</td>\n",
       "      <td>1000000000</td>\n",
       "    </tr>\n",
       "    <tr>\n",
       "      <th>UOS</th>\n",
       "      <td>UOS</td>\n",
       "      <td>SHA-256</td>\n",
       "      <td>True</td>\n",
       "      <td>DPoI</td>\n",
       "      <td>NaN</td>\n",
       "      <td>1000000000</td>\n",
       "    </tr>\n",
       "    <tr>\n",
       "      <th>BDX</th>\n",
       "      <td>Beldex</td>\n",
       "      <td>CryptoNight</td>\n",
       "      <td>True</td>\n",
       "      <td>PoW</td>\n",
       "      <td>9.802226e+08</td>\n",
       "      <td>1400222610</td>\n",
       "    </tr>\n",
       "    <tr>\n",
       "      <th>ZEN</th>\n",
       "      <td>Horizen</td>\n",
       "      <td>Equihash</td>\n",
       "      <td>True</td>\n",
       "      <td>PoW</td>\n",
       "      <td>7.296538e+06</td>\n",
       "      <td>21000000</td>\n",
       "    </tr>\n",
       "    <tr>\n",
       "      <th>XBC</th>\n",
       "      <td>BitcoinPlus</td>\n",
       "      <td>Scrypt</td>\n",
       "      <td>True</td>\n",
       "      <td>PoS</td>\n",
       "      <td>1.283270e+05</td>\n",
       "      <td>1000000</td>\n",
       "    </tr>\n",
       "  </tbody>\n",
       "</table>\n",
       "<p>1144 rows × 6 columns</p>\n",
       "</div>"
      ],
      "text/plain": [
       "         CoinName    Algorithm  IsTrading ProofType  TotalCoinsMined  \\\n",
       "42        42 Coin       Scrypt       True   PoW/PoS     4.199995e+01   \n",
       "365       365Coin          X11       True   PoW/PoS              NaN   \n",
       "404       404Coin       Scrypt       True   PoW/PoS     1.055185e+09   \n",
       "611     SixEleven      SHA-256       True       PoW              NaN   \n",
       "808           808      SHA-256       True   PoW/PoS     0.000000e+00   \n",
       "...           ...          ...        ...       ...              ...   \n",
       "SERO   Super Zero       Ethash       True       PoW              NaN   \n",
       "UOS           UOS      SHA-256       True      DPoI              NaN   \n",
       "BDX        Beldex  CryptoNight       True       PoW     9.802226e+08   \n",
       "ZEN       Horizen     Equihash       True       PoW     7.296538e+06   \n",
       "XBC   BitcoinPlus       Scrypt       True       PoS     1.283270e+05   \n",
       "\n",
       "     TotalCoinSupply  \n",
       "42                42  \n",
       "365       2300000000  \n",
       "404        532000000  \n",
       "611           611000  \n",
       "808                0  \n",
       "...              ...  \n",
       "SERO      1000000000  \n",
       "UOS       1000000000  \n",
       "BDX       1400222610  \n",
       "ZEN         21000000  \n",
       "XBC          1000000  \n",
       "\n",
       "[1144 rows x 6 columns]"
      ]
     },
     "execution_count": 129,
     "metadata": {},
     "output_type": "execute_result"
    }
   ],
   "source": [
    "#Keep all the cryptocurrencies that are being traded\n",
    "traded_crypto_df = crypto_df[crypto_df[\"IsTrading\"] == True]\n",
    "traded_crypto_df"
   ]
  },
  {
   "cell_type": "code",
   "execution_count": 130,
   "metadata": {},
   "outputs": [
    {
     "data": {
      "text/html": [
       "<div>\n",
       "<style scoped>\n",
       "    .dataframe tbody tr th:only-of-type {\n",
       "        vertical-align: middle;\n",
       "    }\n",
       "\n",
       "    .dataframe tbody tr th {\n",
       "        vertical-align: top;\n",
       "    }\n",
       "\n",
       "    .dataframe thead th {\n",
       "        text-align: right;\n",
       "    }\n",
       "</style>\n",
       "<table border=\"1\" class=\"dataframe\">\n",
       "  <thead>\n",
       "    <tr style=\"text-align: right;\">\n",
       "      <th></th>\n",
       "      <th>CoinName</th>\n",
       "      <th>Algorithm</th>\n",
       "      <th>ProofType</th>\n",
       "      <th>TotalCoinsMined</th>\n",
       "      <th>TotalCoinSupply</th>\n",
       "    </tr>\n",
       "  </thead>\n",
       "  <tbody>\n",
       "    <tr>\n",
       "      <th>42</th>\n",
       "      <td>42 Coin</td>\n",
       "      <td>Scrypt</td>\n",
       "      <td>PoW/PoS</td>\n",
       "      <td>4.199995e+01</td>\n",
       "      <td>42</td>\n",
       "    </tr>\n",
       "    <tr>\n",
       "      <th>365</th>\n",
       "      <td>365Coin</td>\n",
       "      <td>X11</td>\n",
       "      <td>PoW/PoS</td>\n",
       "      <td>NaN</td>\n",
       "      <td>2300000000</td>\n",
       "    </tr>\n",
       "    <tr>\n",
       "      <th>404</th>\n",
       "      <td>404Coin</td>\n",
       "      <td>Scrypt</td>\n",
       "      <td>PoW/PoS</td>\n",
       "      <td>1.055185e+09</td>\n",
       "      <td>532000000</td>\n",
       "    </tr>\n",
       "    <tr>\n",
       "      <th>611</th>\n",
       "      <td>SixEleven</td>\n",
       "      <td>SHA-256</td>\n",
       "      <td>PoW</td>\n",
       "      <td>NaN</td>\n",
       "      <td>611000</td>\n",
       "    </tr>\n",
       "    <tr>\n",
       "      <th>808</th>\n",
       "      <td>808</td>\n",
       "      <td>SHA-256</td>\n",
       "      <td>PoW/PoS</td>\n",
       "      <td>0.000000e+00</td>\n",
       "      <td>0</td>\n",
       "    </tr>\n",
       "    <tr>\n",
       "      <th>...</th>\n",
       "      <td>...</td>\n",
       "      <td>...</td>\n",
       "      <td>...</td>\n",
       "      <td>...</td>\n",
       "      <td>...</td>\n",
       "    </tr>\n",
       "    <tr>\n",
       "      <th>SERO</th>\n",
       "      <td>Super Zero</td>\n",
       "      <td>Ethash</td>\n",
       "      <td>PoW</td>\n",
       "      <td>NaN</td>\n",
       "      <td>1000000000</td>\n",
       "    </tr>\n",
       "    <tr>\n",
       "      <th>UOS</th>\n",
       "      <td>UOS</td>\n",
       "      <td>SHA-256</td>\n",
       "      <td>DPoI</td>\n",
       "      <td>NaN</td>\n",
       "      <td>1000000000</td>\n",
       "    </tr>\n",
       "    <tr>\n",
       "      <th>BDX</th>\n",
       "      <td>Beldex</td>\n",
       "      <td>CryptoNight</td>\n",
       "      <td>PoW</td>\n",
       "      <td>9.802226e+08</td>\n",
       "      <td>1400222610</td>\n",
       "    </tr>\n",
       "    <tr>\n",
       "      <th>ZEN</th>\n",
       "      <td>Horizen</td>\n",
       "      <td>Equihash</td>\n",
       "      <td>PoW</td>\n",
       "      <td>7.296538e+06</td>\n",
       "      <td>21000000</td>\n",
       "    </tr>\n",
       "    <tr>\n",
       "      <th>XBC</th>\n",
       "      <td>BitcoinPlus</td>\n",
       "      <td>Scrypt</td>\n",
       "      <td>PoS</td>\n",
       "      <td>1.283270e+05</td>\n",
       "      <td>1000000</td>\n",
       "    </tr>\n",
       "  </tbody>\n",
       "</table>\n",
       "<p>1144 rows × 5 columns</p>\n",
       "</div>"
      ],
      "text/plain": [
       "         CoinName    Algorithm ProofType  TotalCoinsMined TotalCoinSupply\n",
       "42        42 Coin       Scrypt   PoW/PoS     4.199995e+01              42\n",
       "365       365Coin          X11   PoW/PoS              NaN      2300000000\n",
       "404       404Coin       Scrypt   PoW/PoS     1.055185e+09       532000000\n",
       "611     SixEleven      SHA-256       PoW              NaN          611000\n",
       "808           808      SHA-256   PoW/PoS     0.000000e+00               0\n",
       "...           ...          ...       ...              ...             ...\n",
       "SERO   Super Zero       Ethash       PoW              NaN      1000000000\n",
       "UOS           UOS      SHA-256      DPoI              NaN      1000000000\n",
       "BDX        Beldex  CryptoNight       PoW     9.802226e+08      1400222610\n",
       "ZEN       Horizen     Equihash       PoW     7.296538e+06        21000000\n",
       "XBC   BitcoinPlus       Scrypt       PoS     1.283270e+05         1000000\n",
       "\n",
       "[1144 rows x 5 columns]"
      ]
     },
     "execution_count": 130,
     "metadata": {},
     "output_type": "execute_result"
    }
   ],
   "source": [
    "# Remove the \"IsTrading\" column. \n",
    "traded_crypto_df = traded_crypto_df.drop(['IsTrading'], axis=1)\n",
    "traded_crypto_df"
   ]
  },
  {
   "cell_type": "code",
   "execution_count": 131,
   "metadata": {},
   "outputs": [
    {
     "name": "stdout",
     "output_type": "stream",
     "text": [
      "Column CoinName has 0 null values\n",
      "Column Algorithm has 0 null values\n",
      "Column ProofType has 0 null values\n",
      "Column TotalCoinsMined has 459 null values\n",
      "Column TotalCoinSupply has 0 null values\n"
     ]
    }
   ],
   "source": [
    "#File null values\n",
    "for column in traded_crypto_df.columns:\n",
    "    print(f\"Column {column} has {traded_crypto_df[column].isnull().sum()} null values\")"
   ]
  },
  {
   "cell_type": "code",
   "execution_count": 132,
   "metadata": {},
   "outputs": [
    {
     "data": {
      "text/html": [
       "<div>\n",
       "<style scoped>\n",
       "    .dataframe tbody tr th:only-of-type {\n",
       "        vertical-align: middle;\n",
       "    }\n",
       "\n",
       "    .dataframe tbody tr th {\n",
       "        vertical-align: top;\n",
       "    }\n",
       "\n",
       "    .dataframe thead th {\n",
       "        text-align: right;\n",
       "    }\n",
       "</style>\n",
       "<table border=\"1\" class=\"dataframe\">\n",
       "  <thead>\n",
       "    <tr style=\"text-align: right;\">\n",
       "      <th></th>\n",
       "      <th>CoinName</th>\n",
       "      <th>Algorithm</th>\n",
       "      <th>ProofType</th>\n",
       "      <th>TotalCoinsMined</th>\n",
       "      <th>TotalCoinSupply</th>\n",
       "    </tr>\n",
       "  </thead>\n",
       "  <tbody>\n",
       "    <tr>\n",
       "      <th>42</th>\n",
       "      <td>42 Coin</td>\n",
       "      <td>Scrypt</td>\n",
       "      <td>PoW/PoS</td>\n",
       "      <td>4.199995e+01</td>\n",
       "      <td>42</td>\n",
       "    </tr>\n",
       "    <tr>\n",
       "      <th>404</th>\n",
       "      <td>404Coin</td>\n",
       "      <td>Scrypt</td>\n",
       "      <td>PoW/PoS</td>\n",
       "      <td>1.055185e+09</td>\n",
       "      <td>532000000</td>\n",
       "    </tr>\n",
       "    <tr>\n",
       "      <th>808</th>\n",
       "      <td>808</td>\n",
       "      <td>SHA-256</td>\n",
       "      <td>PoW/PoS</td>\n",
       "      <td>0.000000e+00</td>\n",
       "      <td>0</td>\n",
       "    </tr>\n",
       "    <tr>\n",
       "      <th>1337</th>\n",
       "      <td>EliteCoin</td>\n",
       "      <td>X13</td>\n",
       "      <td>PoW/PoS</td>\n",
       "      <td>2.927942e+10</td>\n",
       "      <td>314159265359</td>\n",
       "    </tr>\n",
       "    <tr>\n",
       "      <th>BTC</th>\n",
       "      <td>Bitcoin</td>\n",
       "      <td>SHA-256</td>\n",
       "      <td>PoW</td>\n",
       "      <td>1.792718e+07</td>\n",
       "      <td>21000000</td>\n",
       "    </tr>\n",
       "    <tr>\n",
       "      <th>...</th>\n",
       "      <td>...</td>\n",
       "      <td>...</td>\n",
       "      <td>...</td>\n",
       "      <td>...</td>\n",
       "      <td>...</td>\n",
       "    </tr>\n",
       "    <tr>\n",
       "      <th>ZEPH</th>\n",
       "      <td>ZEPHYR</td>\n",
       "      <td>SHA-256</td>\n",
       "      <td>DPoS</td>\n",
       "      <td>2.000000e+09</td>\n",
       "      <td>2000000000</td>\n",
       "    </tr>\n",
       "    <tr>\n",
       "      <th>GAP</th>\n",
       "      <td>Gapcoin</td>\n",
       "      <td>Scrypt</td>\n",
       "      <td>PoW/PoS</td>\n",
       "      <td>1.493105e+07</td>\n",
       "      <td>250000000</td>\n",
       "    </tr>\n",
       "    <tr>\n",
       "      <th>BDX</th>\n",
       "      <td>Beldex</td>\n",
       "      <td>CryptoNight</td>\n",
       "      <td>PoW</td>\n",
       "      <td>9.802226e+08</td>\n",
       "      <td>1400222610</td>\n",
       "    </tr>\n",
       "    <tr>\n",
       "      <th>ZEN</th>\n",
       "      <td>Horizen</td>\n",
       "      <td>Equihash</td>\n",
       "      <td>PoW</td>\n",
       "      <td>7.296538e+06</td>\n",
       "      <td>21000000</td>\n",
       "    </tr>\n",
       "    <tr>\n",
       "      <th>XBC</th>\n",
       "      <td>BitcoinPlus</td>\n",
       "      <td>Scrypt</td>\n",
       "      <td>PoS</td>\n",
       "      <td>1.283270e+05</td>\n",
       "      <td>1000000</td>\n",
       "    </tr>\n",
       "  </tbody>\n",
       "</table>\n",
       "<p>685 rows × 5 columns</p>\n",
       "</div>"
      ],
      "text/plain": [
       "         CoinName    Algorithm ProofType  TotalCoinsMined TotalCoinSupply\n",
       "42        42 Coin       Scrypt   PoW/PoS     4.199995e+01              42\n",
       "404       404Coin       Scrypt   PoW/PoS     1.055185e+09       532000000\n",
       "808           808      SHA-256   PoW/PoS     0.000000e+00               0\n",
       "1337    EliteCoin          X13   PoW/PoS     2.927942e+10    314159265359\n",
       "BTC       Bitcoin      SHA-256       PoW     1.792718e+07        21000000\n",
       "...           ...          ...       ...              ...             ...\n",
       "ZEPH       ZEPHYR      SHA-256      DPoS     2.000000e+09      2000000000\n",
       "GAP       Gapcoin       Scrypt   PoW/PoS     1.493105e+07       250000000\n",
       "BDX        Beldex  CryptoNight       PoW     9.802226e+08      1400222610\n",
       "ZEN       Horizen     Equihash       PoW     7.296538e+06        21000000\n",
       "XBC   BitcoinPlus       Scrypt       PoS     1.283270e+05         1000000\n",
       "\n",
       "[685 rows x 5 columns]"
      ]
     },
     "execution_count": 132,
     "metadata": {},
     "output_type": "execute_result"
    }
   ],
   "source": [
    "#Remove rows that have at least 1 null value.\n",
    "#Drop null rows\n",
    "traded_crypto_df = traded_crypto_df.dropna()\n",
    "traded_crypto_df\n"
   ]
  },
  {
   "cell_type": "code",
   "execution_count": 133,
   "metadata": {},
   "outputs": [
    {
     "data": {
      "text/html": [
       "<div>\n",
       "<style scoped>\n",
       "    .dataframe tbody tr th:only-of-type {\n",
       "        vertical-align: middle;\n",
       "    }\n",
       "\n",
       "    .dataframe tbody tr th {\n",
       "        vertical-align: top;\n",
       "    }\n",
       "\n",
       "    .dataframe thead th {\n",
       "        text-align: right;\n",
       "    }\n",
       "</style>\n",
       "<table border=\"1\" class=\"dataframe\">\n",
       "  <thead>\n",
       "    <tr style=\"text-align: right;\">\n",
       "      <th></th>\n",
       "      <th>CoinName</th>\n",
       "      <th>Algorithm</th>\n",
       "      <th>ProofType</th>\n",
       "      <th>TotalCoinsMined</th>\n",
       "      <th>TotalCoinSupply</th>\n",
       "    </tr>\n",
       "  </thead>\n",
       "  <tbody>\n",
       "    <tr>\n",
       "      <th>42</th>\n",
       "      <td>42 Coin</td>\n",
       "      <td>Scrypt</td>\n",
       "      <td>PoW/PoS</td>\n",
       "      <td>4.199995e+01</td>\n",
       "      <td>42</td>\n",
       "    </tr>\n",
       "    <tr>\n",
       "      <th>404</th>\n",
       "      <td>404Coin</td>\n",
       "      <td>Scrypt</td>\n",
       "      <td>PoW/PoS</td>\n",
       "      <td>1.055185e+09</td>\n",
       "      <td>532000000</td>\n",
       "    </tr>\n",
       "    <tr>\n",
       "      <th>1337</th>\n",
       "      <td>EliteCoin</td>\n",
       "      <td>X13</td>\n",
       "      <td>PoW/PoS</td>\n",
       "      <td>2.927942e+10</td>\n",
       "      <td>314159265359</td>\n",
       "    </tr>\n",
       "    <tr>\n",
       "      <th>BTC</th>\n",
       "      <td>Bitcoin</td>\n",
       "      <td>SHA-256</td>\n",
       "      <td>PoW</td>\n",
       "      <td>1.792718e+07</td>\n",
       "      <td>21000000</td>\n",
       "    </tr>\n",
       "    <tr>\n",
       "      <th>ETH</th>\n",
       "      <td>Ethereum</td>\n",
       "      <td>Ethash</td>\n",
       "      <td>PoW</td>\n",
       "      <td>1.076842e+08</td>\n",
       "      <td>0</td>\n",
       "    </tr>\n",
       "    <tr>\n",
       "      <th>...</th>\n",
       "      <td>...</td>\n",
       "      <td>...</td>\n",
       "      <td>...</td>\n",
       "      <td>...</td>\n",
       "      <td>...</td>\n",
       "    </tr>\n",
       "    <tr>\n",
       "      <th>ZEPH</th>\n",
       "      <td>ZEPHYR</td>\n",
       "      <td>SHA-256</td>\n",
       "      <td>DPoS</td>\n",
       "      <td>2.000000e+09</td>\n",
       "      <td>2000000000</td>\n",
       "    </tr>\n",
       "    <tr>\n",
       "      <th>GAP</th>\n",
       "      <td>Gapcoin</td>\n",
       "      <td>Scrypt</td>\n",
       "      <td>PoW/PoS</td>\n",
       "      <td>1.493105e+07</td>\n",
       "      <td>250000000</td>\n",
       "    </tr>\n",
       "    <tr>\n",
       "      <th>BDX</th>\n",
       "      <td>Beldex</td>\n",
       "      <td>CryptoNight</td>\n",
       "      <td>PoW</td>\n",
       "      <td>9.802226e+08</td>\n",
       "      <td>1400222610</td>\n",
       "    </tr>\n",
       "    <tr>\n",
       "      <th>ZEN</th>\n",
       "      <td>Horizen</td>\n",
       "      <td>Equihash</td>\n",
       "      <td>PoW</td>\n",
       "      <td>7.296538e+06</td>\n",
       "      <td>21000000</td>\n",
       "    </tr>\n",
       "    <tr>\n",
       "      <th>XBC</th>\n",
       "      <td>BitcoinPlus</td>\n",
       "      <td>Scrypt</td>\n",
       "      <td>PoS</td>\n",
       "      <td>1.283270e+05</td>\n",
       "      <td>1000000</td>\n",
       "    </tr>\n",
       "  </tbody>\n",
       "</table>\n",
       "<p>532 rows × 5 columns</p>\n",
       "</div>"
      ],
      "text/plain": [
       "         CoinName    Algorithm ProofType  TotalCoinsMined TotalCoinSupply\n",
       "42        42 Coin       Scrypt   PoW/PoS     4.199995e+01              42\n",
       "404       404Coin       Scrypt   PoW/PoS     1.055185e+09       532000000\n",
       "1337    EliteCoin          X13   PoW/PoS     2.927942e+10    314159265359\n",
       "BTC       Bitcoin      SHA-256       PoW     1.792718e+07        21000000\n",
       "ETH      Ethereum       Ethash       PoW     1.076842e+08               0\n",
       "...           ...          ...       ...              ...             ...\n",
       "ZEPH       ZEPHYR      SHA-256      DPoS     2.000000e+09      2000000000\n",
       "GAP       Gapcoin       Scrypt   PoW/PoS     1.493105e+07       250000000\n",
       "BDX        Beldex  CryptoNight       PoW     9.802226e+08      1400222610\n",
       "ZEN       Horizen     Equihash       PoW     7.296538e+06        21000000\n",
       "XBC   BitcoinPlus       Scrypt       PoS     1.283270e+05         1000000\n",
       "\n",
       "[532 rows x 5 columns]"
      ]
     },
     "execution_count": 133,
     "metadata": {},
     "output_type": "execute_result"
    }
   ],
   "source": [
    "# Keep the rows where coins are mined.\n",
    "mined_and_traded_crypto = traded_crypto_df[traded_crypto_df[\"TotalCoinsMined\"] > 0]\n",
    "mined_and_traded_crypto"
   ]
  },
  {
   "cell_type": "code",
   "execution_count": 134,
   "metadata": {},
   "outputs": [
    {
     "data": {
      "text/html": [
       "<div>\n",
       "<style scoped>\n",
       "    .dataframe tbody tr th:only-of-type {\n",
       "        vertical-align: middle;\n",
       "    }\n",
       "\n",
       "    .dataframe tbody tr th {\n",
       "        vertical-align: top;\n",
       "    }\n",
       "\n",
       "    .dataframe thead th {\n",
       "        text-align: right;\n",
       "    }\n",
       "</style>\n",
       "<table border=\"1\" class=\"dataframe\">\n",
       "  <thead>\n",
       "    <tr style=\"text-align: right;\">\n",
       "      <th></th>\n",
       "      <th>Algorithm</th>\n",
       "      <th>ProofType</th>\n",
       "      <th>TotalCoinsMined</th>\n",
       "      <th>TotalCoinSupply</th>\n",
       "    </tr>\n",
       "  </thead>\n",
       "  <tbody>\n",
       "    <tr>\n",
       "      <th>42</th>\n",
       "      <td>Scrypt</td>\n",
       "      <td>PoW/PoS</td>\n",
       "      <td>4.199995e+01</td>\n",
       "      <td>42</td>\n",
       "    </tr>\n",
       "    <tr>\n",
       "      <th>404</th>\n",
       "      <td>Scrypt</td>\n",
       "      <td>PoW/PoS</td>\n",
       "      <td>1.055185e+09</td>\n",
       "      <td>532000000</td>\n",
       "    </tr>\n",
       "    <tr>\n",
       "      <th>1337</th>\n",
       "      <td>X13</td>\n",
       "      <td>PoW/PoS</td>\n",
       "      <td>2.927942e+10</td>\n",
       "      <td>314159265359</td>\n",
       "    </tr>\n",
       "    <tr>\n",
       "      <th>BTC</th>\n",
       "      <td>SHA-256</td>\n",
       "      <td>PoW</td>\n",
       "      <td>1.792718e+07</td>\n",
       "      <td>21000000</td>\n",
       "    </tr>\n",
       "    <tr>\n",
       "      <th>ETH</th>\n",
       "      <td>Ethash</td>\n",
       "      <td>PoW</td>\n",
       "      <td>1.076842e+08</td>\n",
       "      <td>0</td>\n",
       "    </tr>\n",
       "    <tr>\n",
       "      <th>...</th>\n",
       "      <td>...</td>\n",
       "      <td>...</td>\n",
       "      <td>...</td>\n",
       "      <td>...</td>\n",
       "    </tr>\n",
       "    <tr>\n",
       "      <th>ZEPH</th>\n",
       "      <td>SHA-256</td>\n",
       "      <td>DPoS</td>\n",
       "      <td>2.000000e+09</td>\n",
       "      <td>2000000000</td>\n",
       "    </tr>\n",
       "    <tr>\n",
       "      <th>GAP</th>\n",
       "      <td>Scrypt</td>\n",
       "      <td>PoW/PoS</td>\n",
       "      <td>1.493105e+07</td>\n",
       "      <td>250000000</td>\n",
       "    </tr>\n",
       "    <tr>\n",
       "      <th>BDX</th>\n",
       "      <td>CryptoNight</td>\n",
       "      <td>PoW</td>\n",
       "      <td>9.802226e+08</td>\n",
       "      <td>1400222610</td>\n",
       "    </tr>\n",
       "    <tr>\n",
       "      <th>ZEN</th>\n",
       "      <td>Equihash</td>\n",
       "      <td>PoW</td>\n",
       "      <td>7.296538e+06</td>\n",
       "      <td>21000000</td>\n",
       "    </tr>\n",
       "    <tr>\n",
       "      <th>XBC</th>\n",
       "      <td>Scrypt</td>\n",
       "      <td>PoS</td>\n",
       "      <td>1.283270e+05</td>\n",
       "      <td>1000000</td>\n",
       "    </tr>\n",
       "  </tbody>\n",
       "</table>\n",
       "<p>532 rows × 4 columns</p>\n",
       "</div>"
      ],
      "text/plain": [
       "        Algorithm ProofType  TotalCoinsMined TotalCoinSupply\n",
       "42         Scrypt   PoW/PoS     4.199995e+01              42\n",
       "404        Scrypt   PoW/PoS     1.055185e+09       532000000\n",
       "1337          X13   PoW/PoS     2.927942e+10    314159265359\n",
       "BTC       SHA-256       PoW     1.792718e+07        21000000\n",
       "ETH        Ethash       PoW     1.076842e+08               0\n",
       "...           ...       ...              ...             ...\n",
       "ZEPH      SHA-256      DPoS     2.000000e+09      2000000000\n",
       "GAP        Scrypt   PoW/PoS     1.493105e+07       250000000\n",
       "BDX   CryptoNight       PoW     9.802226e+08      1400222610\n",
       "ZEN      Equihash       PoW     7.296538e+06        21000000\n",
       "XBC        Scrypt       PoS     1.283270e+05         1000000\n",
       "\n",
       "[532 rows x 4 columns]"
      ]
     },
     "execution_count": 134,
     "metadata": {},
     "output_type": "execute_result"
    }
   ],
   "source": [
    "crypto_df = mined_and_traded_crypto.drop(['CoinName'], axis=1)\n",
    "crypto_df"
   ]
  },
  {
   "cell_type": "code",
   "execution_count": 141,
   "metadata": {},
   "outputs": [],
   "source": [
    "# Use get_dummies() to create variables for text features.\n",
    "X = pd.get_dummies(crypto_df, columns=[\"Algorithm\", \"ProofType\"])\n",
    "X.head()\n",
    "index = list(X.index.values)"
   ]
  },
  {
   "cell_type": "code",
   "execution_count": 136,
   "metadata": {},
   "outputs": [
    {
     "data": {
      "text/plain": [
       "array([[-0.11710817, -0.1528703 , -0.0433963 , ..., -0.0433963 ,\n",
       "        -0.0433963 , -0.0433963 ],\n",
       "       [-0.09396955, -0.145009  , -0.0433963 , ..., -0.0433963 ,\n",
       "        -0.0433963 , -0.0433963 ],\n",
       "       [ 0.52494561,  4.48942416, -0.0433963 , ..., -0.0433963 ,\n",
       "        -0.0433963 , -0.0433963 ],\n",
       "       ...,\n",
       "       [-0.09561336, -0.13217937, -0.0433963 , ..., -0.0433963 ,\n",
       "        -0.0433963 , -0.0433963 ],\n",
       "       [-0.11694817, -0.15255998, -0.0433963 , ..., -0.0433963 ,\n",
       "        -0.0433963 , -0.0433963 ],\n",
       "       [-0.11710536, -0.15285552, -0.0433963 , ..., -0.0433963 ,\n",
       "        -0.0433963 , -0.0433963 ]])"
      ]
     },
     "execution_count": 136,
     "metadata": {},
     "output_type": "execute_result"
    }
   ],
   "source": [
    "#Standardize the data with StandardScaler()\n",
    "X_scaled = StandardScaler().fit_transform(X)\n",
    "X_scaled"
   ]
  },
  {
   "cell_type": "markdown",
   "metadata": {},
   "source": [
    "### Deliverable 2: Reducing Data Dimensions Using PCA"
   ]
  },
  {
   "cell_type": "code",
   "execution_count": 137,
   "metadata": {},
   "outputs": [
    {
     "data": {
      "text/plain": [
       "array([[-0.33433983,  1.04460832, -0.54292783],\n",
       "       [-0.31765749,  1.04468778, -0.54317578],\n",
       "       [ 2.31704484,  1.69713459, -0.57834655],\n",
       "       ...,\n",
       "       [ 0.32934533, -2.317403  ,  0.40276002],\n",
       "       [-0.15231249, -2.05572608,  0.31271763],\n",
       "       [-0.28992596,  0.82072188, -0.27698514]])"
      ]
     },
     "execution_count": 137,
     "metadata": {},
     "output_type": "execute_result"
    }
   ],
   "source": [
    "# Using PCA to reduce dimension to three principal components.\n",
    "pca = PCA(n_components=3)\n",
    "X_pca = pca.fit_transform(X_scaled)\n",
    "X_pca"
   ]
  },
  {
   "cell_type": "code",
   "execution_count": 143,
   "metadata": {},
   "outputs": [
    {
     "data": {
      "text/html": [
       "<div>\n",
       "<style scoped>\n",
       "    .dataframe tbody tr th:only-of-type {\n",
       "        vertical-align: middle;\n",
       "    }\n",
       "\n",
       "    .dataframe tbody tr th {\n",
       "        vertical-align: top;\n",
       "    }\n",
       "\n",
       "    .dataframe thead th {\n",
       "        text-align: right;\n",
       "    }\n",
       "</style>\n",
       "<table border=\"1\" class=\"dataframe\">\n",
       "  <thead>\n",
       "    <tr style=\"text-align: right;\">\n",
       "      <th></th>\n",
       "      <th>PC1</th>\n",
       "      <th>PC2</th>\n",
       "      <th>PC3</th>\n",
       "    </tr>\n",
       "  </thead>\n",
       "  <tbody>\n",
       "    <tr>\n",
       "      <th>42</th>\n",
       "      <td>-0.334340</td>\n",
       "      <td>1.044608</td>\n",
       "      <td>-0.542928</td>\n",
       "    </tr>\n",
       "    <tr>\n",
       "      <th>404</th>\n",
       "      <td>-0.317657</td>\n",
       "      <td>1.044688</td>\n",
       "      <td>-0.543176</td>\n",
       "    </tr>\n",
       "    <tr>\n",
       "      <th>1337</th>\n",
       "      <td>2.317045</td>\n",
       "      <td>1.697135</td>\n",
       "      <td>-0.578347</td>\n",
       "    </tr>\n",
       "    <tr>\n",
       "      <th>BTC</th>\n",
       "      <td>-0.149734</td>\n",
       "      <td>-1.309000</td>\n",
       "      <td>0.196479</td>\n",
       "    </tr>\n",
       "    <tr>\n",
       "      <th>ETH</th>\n",
       "      <td>-0.156702</td>\n",
       "      <td>-2.023416</td>\n",
       "      <td>0.374114</td>\n",
       "    </tr>\n",
       "    <tr>\n",
       "      <th>...</th>\n",
       "      <td>...</td>\n",
       "      <td>...</td>\n",
       "      <td>...</td>\n",
       "    </tr>\n",
       "    <tr>\n",
       "      <th>ZEPH</th>\n",
       "      <td>2.453577</td>\n",
       "      <td>0.874060</td>\n",
       "      <td>-0.105702</td>\n",
       "    </tr>\n",
       "    <tr>\n",
       "      <th>GAP</th>\n",
       "      <td>-0.332382</td>\n",
       "      <td>1.044481</td>\n",
       "      <td>-0.542933</td>\n",
       "    </tr>\n",
       "    <tr>\n",
       "      <th>BDX</th>\n",
       "      <td>0.329345</td>\n",
       "      <td>-2.317403</td>\n",
       "      <td>0.402760</td>\n",
       "    </tr>\n",
       "    <tr>\n",
       "      <th>ZEN</th>\n",
       "      <td>-0.152312</td>\n",
       "      <td>-2.055726</td>\n",
       "      <td>0.312718</td>\n",
       "    </tr>\n",
       "    <tr>\n",
       "      <th>XBC</th>\n",
       "      <td>-0.289926</td>\n",
       "      <td>0.820722</td>\n",
       "      <td>-0.276985</td>\n",
       "    </tr>\n",
       "  </tbody>\n",
       "</table>\n",
       "<p>532 rows × 3 columns</p>\n",
       "</div>"
      ],
      "text/plain": [
       "           PC1       PC2       PC3\n",
       "42   -0.334340  1.044608 -0.542928\n",
       "404  -0.317657  1.044688 -0.543176\n",
       "1337  2.317045  1.697135 -0.578347\n",
       "BTC  -0.149734 -1.309000  0.196479\n",
       "ETH  -0.156702 -2.023416  0.374114\n",
       "...        ...       ...       ...\n",
       "ZEPH  2.453577  0.874060 -0.105702\n",
       "GAP  -0.332382  1.044481 -0.542933\n",
       "BDX   0.329345 -2.317403  0.402760\n",
       "ZEN  -0.152312 -2.055726  0.312718\n",
       "XBC  -0.289926  0.820722 -0.276985\n",
       "\n",
       "[532 rows x 3 columns]"
      ]
     },
     "execution_count": 143,
     "metadata": {},
     "output_type": "execute_result"
    }
   ],
   "source": [
    "# Create a DataFrame with the three principal components\n",
    "pcs_df = pd.DataFrame(data=X_pca, columns=[\"PC1\", \"PC2\", \"PC3\"], index=index)\n",
    "pcs_df"
   ]
  },
  {
   "cell_type": "markdown",
   "metadata": {},
   "source": [
    "### Deliverable 3: Clustering Crytocurrencies Using K-Means\n",
    "\n",
    "#### Finding the Best Value for `k` Using the Elbow Curve"
   ]
  },
  {
   "cell_type": "code",
   "execution_count": 121,
   "metadata": {},
   "outputs": [
    {
     "data": {},
     "metadata": {},
     "output_type": "display_data"
    },
    {
     "data": {
      "application/vnd.holoviews_exec.v0+json": "",
      "text/html": [
       "<div id='1001'>\n",
       "\n",
       "\n",
       "\n",
       "\n",
       "\n",
       "  <div class=\"bk-root\" id=\"559bd6d0-c271-48c6-aaf2-95a2963ac83e\" data-root-id=\"1001\"></div>\n",
       "</div>\n",
       "<script type=\"application/javascript\">(function(root) {\n",
       "  function embed_document(root) {\n",
       "    var docs_json = {\"40214c12-9909-48cf-95bf-a82102770000\":{\"roots\":{\"references\":[{\"attributes\":{},\"id\":\"1013\",\"type\":\"LinearScale\"},{\"attributes\":{\"children\":[{\"id\":\"1002\"},{\"id\":\"1006\"},{\"id\":\"1065\"}],\"margin\":[0,0,0,0],\"name\":\"Row01534\",\"tags\":[\"embedded\"]},\"id\":\"1001\",\"type\":\"Row\"},{\"attributes\":{\"ticks\":[1,2,3,4,5,6,7,8,9]},\"id\":\"1044\",\"type\":\"FixedTicker\"},{\"attributes\":{},\"id\":\"1027\",\"type\":\"ResetTool\"},{\"attributes\":{\"margin\":[5,5,5,5],\"name\":\"HSpacer01538\",\"sizing_mode\":\"stretch_width\"},\"id\":\"1002\",\"type\":\"Spacer\"},{\"attributes\":{\"axis_label\":\"k\",\"bounds\":\"auto\",\"formatter\":{\"id\":\"1046\"},\"major_label_orientation\":\"horizontal\",\"ticker\":{\"id\":\"1044\"}},\"id\":\"1015\",\"type\":\"LinearAxis\"},{\"attributes\":{\"axis_label\":\"inertia\",\"bounds\":\"auto\",\"formatter\":{\"id\":\"1050\"},\"major_label_orientation\":\"horizontal\",\"ticker\":{\"id\":\"1020\"}},\"id\":\"1019\",\"type\":\"LinearAxis\"},{\"attributes\":{\"end\":3988.2503031431343,\"reset_end\":3988.2503031431343,\"reset_start\":-211.93275574743714,\"start\":-211.93275574743714,\"tags\":[[[\"inertia\",\"inertia\",null]]]},\"id\":\"1004\",\"type\":\"Range1d\"},{\"attributes\":{\"axis\":{\"id\":\"1015\"},\"grid_line_color\":null,\"ticker\":null},\"id\":\"1018\",\"type\":\"Grid\"},{\"attributes\":{},\"id\":\"1020\",\"type\":\"BasicTicker\"},{\"attributes\":{\"callback\":null,\"renderers\":[{\"id\":\"1042\"}],\"tags\":[\"hv_created\"],\"tooltips\":[[\"k\",\"@{k}\"],[\"inertia\",\"@{inertia}\"]]},\"id\":\"1005\",\"type\":\"HoverTool\"},{\"attributes\":{\"axis\":{\"id\":\"1019\"},\"dimension\":1,\"grid_line_color\":null,\"ticker\":null},\"id\":\"1022\",\"type\":\"Grid\"},{\"attributes\":{\"active_drag\":\"auto\",\"active_inspect\":\"auto\",\"active_multi\":null,\"active_scroll\":\"auto\",\"active_tap\":\"auto\",\"tools\":[{\"id\":\"1005\"},{\"id\":\"1023\"},{\"id\":\"1024\"},{\"id\":\"1025\"},{\"id\":\"1026\"},{\"id\":\"1027\"}]},\"id\":\"1029\",\"type\":\"Toolbar\"},{\"attributes\":{\"source\":{\"id\":\"1036\"}},\"id\":\"1043\",\"type\":\"CDSView\"},{\"attributes\":{\"data\":{\"inertia\":{\"__ndarray__\":\"pwk+WHhsrED7dbhhhFWjQKnYFXAES5dA56RluzC2gECK4zD+TF51QAukKVxsenFA54RUTCWya0BOuzOsuy1mQOdTR9WjQmFA\",\"dtype\":\"float64\",\"order\":\"little\",\"shape\":[9]},\"k\":[1,2,3,4,5,6,7,8,9]},\"selected\":{\"id\":\"1037\"},\"selection_policy\":{\"id\":\"1057\"}},\"id\":\"1036\",\"type\":\"ColumnDataSource\"},{\"attributes\":{\"line_color\":\"#1f77b3\",\"line_width\":2,\"x\":{\"field\":\"k\"},\"y\":{\"field\":\"inertia\"}},\"id\":\"1039\",\"type\":\"Line\"},{\"attributes\":{\"bottom_units\":\"screen\",\"fill_alpha\":0.5,\"fill_color\":\"lightgrey\",\"left_units\":\"screen\",\"level\":\"overlay\",\"line_alpha\":1.0,\"line_color\":\"black\",\"line_dash\":[4,4],\"line_width\":2,\"right_units\":\"screen\",\"top_units\":\"screen\"},\"id\":\"1028\",\"type\":\"BoxAnnotation\"},{\"attributes\":{\"line_alpha\":0.1,\"line_color\":\"#1f77b3\",\"line_width\":2,\"x\":{\"field\":\"k\"},\"y\":{\"field\":\"inertia\"}},\"id\":\"1040\",\"type\":\"Line\"},{\"attributes\":{},\"id\":\"1057\",\"type\":\"UnionRenderers\"},{\"attributes\":{\"text\":\"Elbow Curve\",\"text_color\":{\"value\":\"black\"},\"text_font_size\":{\"value\":\"12pt\"}},\"id\":\"1007\",\"type\":\"Title\"},{\"attributes\":{},\"id\":\"1011\",\"type\":\"LinearScale\"},{\"attributes\":{},\"id\":\"1046\",\"type\":\"BasicTickFormatter\"},{\"attributes\":{\"below\":[{\"id\":\"1015\"}],\"center\":[{\"id\":\"1018\"},{\"id\":\"1022\"}],\"left\":[{\"id\":\"1019\"}],\"margin\":[5,5,5,5],\"min_border_bottom\":10,\"min_border_left\":10,\"min_border_right\":10,\"min_border_top\":10,\"plot_height\":300,\"plot_width\":700,\"renderers\":[{\"id\":\"1042\"}],\"sizing_mode\":\"fixed\",\"title\":{\"id\":\"1007\"},\"toolbar\":{\"id\":\"1029\"},\"x_range\":{\"id\":\"1003\"},\"x_scale\":{\"id\":\"1011\"},\"y_range\":{\"id\":\"1004\"},\"y_scale\":{\"id\":\"1013\"}},\"id\":\"1006\",\"subtype\":\"Figure\",\"type\":\"Plot\"},{\"attributes\":{\"end\":9.0,\"reset_end\":9.0,\"reset_start\":1.0,\"start\":1.0,\"tags\":[[[\"k\",\"k\",null]]]},\"id\":\"1003\",\"type\":\"Range1d\"},{\"attributes\":{},\"id\":\"1023\",\"type\":\"SaveTool\"},{\"attributes\":{},\"id\":\"1024\",\"type\":\"PanTool\"},{\"attributes\":{\"line_alpha\":0.2,\"line_color\":\"#1f77b3\",\"line_width\":2,\"x\":{\"field\":\"k\"},\"y\":{\"field\":\"inertia\"}},\"id\":\"1041\",\"type\":\"Line\"},{\"attributes\":{},\"id\":\"1025\",\"type\":\"WheelZoomTool\"},{\"attributes\":{},\"id\":\"1037\",\"type\":\"Selection\"},{\"attributes\":{\"data_source\":{\"id\":\"1036\"},\"glyph\":{\"id\":\"1039\"},\"hover_glyph\":null,\"muted_glyph\":{\"id\":\"1041\"},\"nonselection_glyph\":{\"id\":\"1040\"},\"selection_glyph\":null,\"view\":{\"id\":\"1043\"}},\"id\":\"1042\",\"type\":\"GlyphRenderer\"},{\"attributes\":{\"overlay\":{\"id\":\"1028\"}},\"id\":\"1026\",\"type\":\"BoxZoomTool\"},{\"attributes\":{},\"id\":\"1050\",\"type\":\"BasicTickFormatter\"},{\"attributes\":{\"margin\":[5,5,5,5],\"name\":\"HSpacer01539\",\"sizing_mode\":\"stretch_width\"},\"id\":\"1065\",\"type\":\"Spacer\"}],\"root_ids\":[\"1001\"]},\"title\":\"Bokeh Application\",\"version\":\"2.2.3\"}};\n",
       "    var render_items = [{\"docid\":\"40214c12-9909-48cf-95bf-a82102770000\",\"root_ids\":[\"1001\"],\"roots\":{\"1001\":\"559bd6d0-c271-48c6-aaf2-95a2963ac83e\"}}];\n",
       "    root.Bokeh.embed.embed_items_notebook(docs_json, render_items);\n",
       "  }\n",
       "  if (root.Bokeh !== undefined && root.Bokeh.Panel !== undefined) {\n",
       "    embed_document(root);\n",
       "  } else {\n",
       "    var attempts = 0;\n",
       "    var timer = setInterval(function(root) {\n",
       "      if (root.Bokeh !== undefined && root.Bokeh.Panel !== undefined) {\n",
       "        clearInterval(timer);\n",
       "        embed_document(root);\n",
       "      } else if (document.readyState == \"complete\") {\n",
       "        attempts++;\n",
       "        if (attempts > 100) {\n",
       "          clearInterval(timer);\n",
       "          console.log(\"Bokeh: ERROR: Unable to run BokehJS code because BokehJS library is missing\");\n",
       "        }\n",
       "      }\n",
       "    }, 10, root)\n",
       "  }\n",
       "})(window);</script>"
      ],
      "text/plain": [
       ":Curve   [k]   (inertia)"
      ]
     },
     "execution_count": 121,
     "metadata": {
      "application/vnd.holoviews_exec.v0+json": {
       "id": "1001"
      }
     },
     "output_type": "execute_result"
    }
   ],
   "source": [
    "inertia=[]\n",
    "k = list(range(1,10))\n",
    "\n",
    "#Looking for the best K\n",
    "for i in k:\n",
    "    km=KMeans(n_clusters=i, random_state=0)\n",
    "    km.fit(pcs_df)\n",
    "    inertia.append(km.inertia_)\n",
    "    \n",
    "#Define a dataframe to plot the elbow curve using hvPlot\n",
    "elbow_data = {\"k\":k, \"inertia\": inertia}\n",
    "df_elbow = pd.DataFrame(elbow_data)\n",
    "df_elbow.hvplot.line(x=\"k\", y=\"inertia\", title=\"Elbow Curve\", xticks=k)"
   ]
  },
  {
   "cell_type": "markdown",
   "metadata": {},
   "source": [
    "Running K-Means with `k=4`"
   ]
  },
  {
   "cell_type": "code",
   "execution_count": 144,
   "metadata": {},
   "outputs": [
    {
     "data": {
      "text/plain": [
       "array([1, 1, 1, 0, 0, 0, 1, 0, 0, 0, 1, 0, 1, 1, 0, 1, 0, 0, 1, 1, 0, 0,\n",
       "       0, 0, 0, 1, 0, 0, 0, 1, 0, 1, 0, 0, 1, 1, 0, 0, 0, 0, 0, 0, 1, 1,\n",
       "       0, 0, 0, 0, 0, 1, 1, 0, 1, 0, 0, 0, 0, 1, 0, 0, 1, 0, 1, 1, 1, 0,\n",
       "       0, 0, 1, 1, 1, 1, 1, 0, 0, 0, 1, 1, 0, 1, 0, 1, 1, 0, 0, 0, 0, 1,\n",
       "       1, 0, 1, 0, 0, 1, 1, 0, 1, 1, 0, 0, 1, 1, 0, 1, 1, 0, 1, 0, 1, 0,\n",
       "       1, 0, 1, 1, 0, 0, 1, 0, 0, 0, 1, 0, 0, 0, 0, 0, 1, 1, 0, 0, 0, 1,\n",
       "       0, 1, 0, 0, 1, 0, 1, 0, 1, 1, 0, 0, 1, 0, 0, 1, 1, 0, 1, 0, 1, 1,\n",
       "       1, 0, 0, 0, 0, 1, 1, 1, 1, 1, 0, 0, 1, 1, 1, 1, 1, 0, 1, 1, 1, 1,\n",
       "       1, 0, 1, 0, 1, 1, 0, 1, 0, 1, 1, 0, 1, 0, 1, 0, 1, 0, 1, 1, 1, 1,\n",
       "       0, 1, 1, 1, 1, 1, 0, 0, 1, 1, 0, 0, 1, 1, 1, 1, 1, 0, 1, 1, 1, 1,\n",
       "       1, 1, 1, 1, 0, 1, 1, 1, 1, 1, 1, 0, 0, 0, 1, 1, 1, 1, 0, 1, 0, 1,\n",
       "       1, 0, 1, 0, 0, 1, 0, 0, 1, 0, 1, 1, 1, 0, 1, 1, 0, 1, 1, 1, 1, 1,\n",
       "       1, 1, 0, 1, 0, 1, 1, 1, 1, 0, 1, 0, 1, 0, 0, 0, 0, 1, 0, 1, 1, 0,\n",
       "       1, 0, 0, 0, 1, 0, 1, 0, 0, 0, 1, 0, 1, 0, 1, 1, 1, 0, 1, 0, 0, 0,\n",
       "       0, 0, 1, 1, 0, 1, 1, 1, 0, 1, 0, 1, 0, 1, 0, 1, 1, 1, 1, 0, 1, 1,\n",
       "       0, 1, 1, 1, 0, 0, 0, 0, 1, 1, 1, 1, 0, 1, 0, 0, 0, 1, 1, 0, 0, 1,\n",
       "       1, 0, 1, 0, 0, 0, 1, 0, 0, 1, 1, 1, 0, 0, 0, 1, 1, 1, 0, 0, 1, 0,\n",
       "       0, 0, 0, 1, 3, 3, 0, 0, 0, 1, 3, 1, 1, 1, 1, 0, 0, 0, 0, 1, 1, 1,\n",
       "       0, 1, 0, 1, 1, 1, 1, 0, 1, 1, 0, 1, 1, 0, 0, 1, 0, 1, 0, 0, 0, 0,\n",
       "       1, 1, 0, 1, 0, 1, 1, 1, 1, 1, 1, 0, 0, 0, 1, 1, 1, 1, 1, 1, 0, 1,\n",
       "       0, 0, 0, 0, 1, 1, 1, 1, 0, 1, 1, 0, 1, 1, 0, 3, 0, 1, 0, 0, 1, 1,\n",
       "       0, 1, 0, 0, 1, 0, 0, 1, 0, 1, 0, 1, 1, 0, 1, 1, 1, 1, 1, 0, 0, 0,\n",
       "       1, 1, 1, 0, 1, 0, 1, 0, 1, 1, 1, 1, 0, 1, 1, 1, 0, 1, 0, 1, 0, 1,\n",
       "       1, 1, 0, 0, 1, 1, 1, 1, 1, 1, 0, 1, 0, 1, 0, 1, 1, 3, 1, 2, 1, 1,\n",
       "       1, 0, 0, 1])"
      ]
     },
     "execution_count": 144,
     "metadata": {},
     "output_type": "execute_result"
    }
   ],
   "source": [
    "# Initialize the K-Means model.\n",
    "model = KMeans(n_clusters=4, random_state=0)\n",
    "\n",
    "# Fit the model\n",
    "model.fit(pcs_df)\n",
    "\n",
    "# Predict clusters\n",
    "predictions = model.predict(pcs_df)\n",
    "predictions"
   ]
  },
  {
   "cell_type": "code",
   "execution_count": 165,
   "metadata": {},
   "outputs": [
    {
     "name": "stdout",
     "output_type": "stream",
     "text": [
      "(532, 9)\n"
     ]
    },
    {
     "data": {
      "text/html": [
       "<div>\n",
       "<style scoped>\n",
       "    .dataframe tbody tr th:only-of-type {\n",
       "        vertical-align: middle;\n",
       "    }\n",
       "\n",
       "    .dataframe tbody tr th {\n",
       "        vertical-align: top;\n",
       "    }\n",
       "\n",
       "    .dataframe thead th {\n",
       "        text-align: right;\n",
       "    }\n",
       "</style>\n",
       "<table border=\"1\" class=\"dataframe\">\n",
       "  <thead>\n",
       "    <tr style=\"text-align: right;\">\n",
       "      <th></th>\n",
       "      <th>Algorithm</th>\n",
       "      <th>ProofType</th>\n",
       "      <th>TotalCoinsMined</th>\n",
       "      <th>TotalCoinSupply</th>\n",
       "      <th>PC1</th>\n",
       "      <th>PC2</th>\n",
       "      <th>PC3</th>\n",
       "      <th>CoinName</th>\n",
       "      <th>Class</th>\n",
       "    </tr>\n",
       "  </thead>\n",
       "  <tbody>\n",
       "    <tr>\n",
       "      <th>42</th>\n",
       "      <td>Scrypt</td>\n",
       "      <td>PoW/PoS</td>\n",
       "      <td>4.199995e+01</td>\n",
       "      <td>42</td>\n",
       "      <td>-0.334340</td>\n",
       "      <td>1.044608</td>\n",
       "      <td>-0.542928</td>\n",
       "      <td>42 Coin</td>\n",
       "      <td>1</td>\n",
       "    </tr>\n",
       "    <tr>\n",
       "      <th>404</th>\n",
       "      <td>Scrypt</td>\n",
       "      <td>PoW/PoS</td>\n",
       "      <td>1.055185e+09</td>\n",
       "      <td>532000000</td>\n",
       "      <td>-0.317657</td>\n",
       "      <td>1.044688</td>\n",
       "      <td>-0.543176</td>\n",
       "      <td>404Coin</td>\n",
       "      <td>1</td>\n",
       "    </tr>\n",
       "    <tr>\n",
       "      <th>1337</th>\n",
       "      <td>X13</td>\n",
       "      <td>PoW/PoS</td>\n",
       "      <td>2.927942e+10</td>\n",
       "      <td>314159265359</td>\n",
       "      <td>2.317045</td>\n",
       "      <td>1.697135</td>\n",
       "      <td>-0.578347</td>\n",
       "      <td>EliteCoin</td>\n",
       "      <td>1</td>\n",
       "    </tr>\n",
       "    <tr>\n",
       "      <th>BTC</th>\n",
       "      <td>SHA-256</td>\n",
       "      <td>PoW</td>\n",
       "      <td>1.792718e+07</td>\n",
       "      <td>21000000</td>\n",
       "      <td>-0.149734</td>\n",
       "      <td>-1.309000</td>\n",
       "      <td>0.196479</td>\n",
       "      <td>Bitcoin</td>\n",
       "      <td>0</td>\n",
       "    </tr>\n",
       "    <tr>\n",
       "      <th>ETH</th>\n",
       "      <td>Ethash</td>\n",
       "      <td>PoW</td>\n",
       "      <td>1.076842e+08</td>\n",
       "      <td>0</td>\n",
       "      <td>-0.156702</td>\n",
       "      <td>-2.023416</td>\n",
       "      <td>0.374114</td>\n",
       "      <td>Ethereum</td>\n",
       "      <td>0</td>\n",
       "    </tr>\n",
       "  </tbody>\n",
       "</table>\n",
       "</div>"
      ],
      "text/plain": [
       "     Algorithm ProofType  TotalCoinsMined TotalCoinSupply       PC1       PC2  \\\n",
       "42      Scrypt   PoW/PoS     4.199995e+01              42 -0.334340  1.044608   \n",
       "404     Scrypt   PoW/PoS     1.055185e+09       532000000 -0.317657  1.044688   \n",
       "1337       X13   PoW/PoS     2.927942e+10    314159265359  2.317045  1.697135   \n",
       "BTC    SHA-256       PoW     1.792718e+07        21000000 -0.149734 -1.309000   \n",
       "ETH     Ethash       PoW     1.076842e+08               0 -0.156702 -2.023416   \n",
       "\n",
       "           PC3   CoinName  Class  \n",
       "42   -0.542928    42 Coin      1  \n",
       "404  -0.543176    404Coin      1  \n",
       "1337 -0.578347  EliteCoin      1  \n",
       "BTC   0.196479    Bitcoin      0  \n",
       "ETH   0.374114   Ethereum      0  "
      ]
     },
     "execution_count": 165,
     "metadata": {},
     "output_type": "execute_result"
    }
   ],
   "source": [
    "# Concatentate the crypto_df and pcs_df DataFrames on the same columns.\n",
    "clustered_df=pd.concat([crypto_df, pcs_df], axis =1)\n",
    "clustered_df\n",
    "\n",
    "#  Add a new column, \"CoinName\" to the clustered_df DataFrame that holds the names of the cryptocurrencies. \n",
    "coin_name = mined_and_traded_crypto[\"CoinName\"]\n",
    "clustered_df = clustered_df.join(coin_name)\n",
    "clustered_df.head()\n",
    "\n",
    "#  Add a new column, \"Class\" to the clustered_df DataFrame that holds the predictions.\n",
    "clustered_df[\"Class\"]=model.labels_\n",
    "\n",
    "print(clustered_df.shape)\n",
    "clustered_df.head()"
   ]
  },
  {
   "cell_type": "markdown",
   "metadata": {},
   "source": [
    "### Deliverable 4: Visualizing Cryptocurrencies Results\n",
    "\n",
    "#### 3D-Scatter with Clusters"
   ]
  },
  {
   "cell_type": "code",
   "execution_count": 184,
   "metadata": {},
   "outputs": [
    {
     "data": {
      "application/vnd.plotly.v1+json": {
       "config": {
        "plotlyServerURL": "https://plot.ly"
       },
       "data": [
        {
         "customdata": [
          [
           "Scrypt"
          ],
          [
           "Scrypt"
          ],
          [
           "X13"
          ],
          [
           "SHA-256"
          ],
          [
           "Ethash"
          ],
          [
           "Scrypt"
          ],
          [
           "X11"
          ],
          [
           "CryptoNight-V7"
          ],
          [
           "Ethash"
          ],
          [
           "Equihash"
          ],
          [
           "SHA-512"
          ],
          [
           "Multiple"
          ],
          [
           "SHA-256"
          ],
          [
           "SHA-256"
          ],
          [
           "Scrypt"
          ],
          [
           "X15"
          ],
          [
           "X11"
          ],
          [
           "Scrypt"
          ],
          [
           "Scrypt"
          ],
          [
           "Scrypt"
          ],
          [
           "Multiple"
          ],
          [
           "Scrypt"
          ],
          [
           "SHA-256"
          ],
          [
           "Scrypt"
          ],
          [
           "Scrypt"
          ],
          [
           "Scrypt"
          ],
          [
           "Quark"
          ],
          [
           "Groestl"
          ],
          [
           "Scrypt"
          ],
          [
           "Scrypt"
          ],
          [
           "Scrypt"
          ],
          [
           "Scrypt"
          ],
          [
           "Scrypt"
          ],
          [
           "X11"
          ],
          [
           "Scrypt"
          ],
          [
           "Groestl"
          ],
          [
           "Multiple"
          ],
          [
           "SHA-256"
          ],
          [
           "Scrypt"
          ],
          [
           "Scrypt"
          ],
          [
           "Scrypt"
          ],
          [
           "Scrypt"
          ],
          [
           "PoS"
          ],
          [
           "Scrypt"
          ],
          [
           "Scrypt"
          ],
          [
           "NeoScrypt"
          ],
          [
           "Scrypt"
          ],
          [
           "Scrypt"
          ],
          [
           "Scrypt"
          ],
          [
           "Scrypt"
          ],
          [
           "X11"
          ],
          [
           "Scrypt"
          ],
          [
           "X11"
          ],
          [
           "SHA-256"
          ],
          [
           "Scrypt"
          ],
          [
           "Scrypt"
          ],
          [
           "Scrypt"
          ],
          [
           "SHA3"
          ],
          [
           "Scrypt"
          ],
          [
           "HybridScryptHash256"
          ],
          [
           "Scrypt"
          ],
          [
           "Scrypt"
          ],
          [
           "SHA-256"
          ],
          [
           "Scrypt"
          ],
          [
           "X13"
          ],
          [
           "Scrypt"
          ],
          [
           "SHA-256"
          ],
          [
           "Scrypt"
          ],
          [
           "X13"
          ],
          [
           "NeoScrypt"
          ],
          [
           "Scrypt"
          ],
          [
           "Scrypt"
          ],
          [
           "Scrypt"
          ],
          [
           "Scrypt"
          ],
          [
           "Scrypt"
          ],
          [
           "Scrypt"
          ],
          [
           "X11"
          ],
          [
           "X11"
          ],
          [
           "SHA-256"
          ],
          [
           "Multiple"
          ],
          [
           "SHA-256"
          ],
          [
           "PHI1612"
          ],
          [
           "X11"
          ],
          [
           "SHA-256"
          ],
          [
           "SHA-256"
          ],
          [
           "SHA-256"
          ],
          [
           "X11"
          ],
          [
           "Scrypt"
          ],
          [
           "Scrypt"
          ],
          [
           "Scrypt"
          ],
          [
           "Scrypt"
          ],
          [
           "Lyra2REv2"
          ],
          [
           "Scrypt"
          ],
          [
           "X11"
          ],
          [
           "Multiple"
          ],
          [
           "SHA-256"
          ],
          [
           "X13"
          ],
          [
           "Scrypt"
          ],
          [
           "CryptoNight"
          ],
          [
           "CryptoNight"
          ],
          [
           "Shabal256"
          ],
          [
           "Counterparty"
          ],
          [
           "Scrypt"
          ],
          [
           "SHA-256"
          ],
          [
           "Groestl"
          ],
          [
           "Scrypt"
          ],
          [
           "Scrypt"
          ],
          [
           "Scrypt"
          ],
          [
           "X13"
          ],
          [
           "Scrypt"
          ],
          [
           "Scrypt"
          ],
          [
           "Scrypt"
          ],
          [
           "Scrypt"
          ],
          [
           "X13"
          ],
          [
           "Scrypt"
          ],
          [
           "Stanford Folding"
          ],
          [
           "X11"
          ],
          [
           "Multiple"
          ],
          [
           "QuBit"
          ],
          [
           "Scrypt"
          ],
          [
           "Scrypt"
          ],
          [
           "Scrypt"
          ],
          [
           "M7 POW"
          ],
          [
           "Scrypt"
          ],
          [
           "SHA-256"
          ],
          [
           "Scrypt"
          ],
          [
           "X11"
          ],
          [
           "SHA3"
          ],
          [
           "X11"
          ],
          [
           "Lyra2RE"
          ],
          [
           "SHA-256"
          ],
          [
           "QUAIT"
          ],
          [
           "X11"
          ],
          [
           "X11"
          ],
          [
           "Scrypt"
          ],
          [
           "Scrypt"
          ],
          [
           "Scrypt"
          ],
          [
           "Ethash"
          ],
          [
           "X13"
          ],
          [
           "Blake2b"
          ],
          [
           "SHA-256"
          ],
          [
           "X15"
          ],
          [
           "X11"
          ],
          [
           "SHA-256"
          ],
          [
           "BLAKE256"
          ],
          [
           "Scrypt"
          ],
          [
           "1GB AES Pattern Search"
          ],
          [
           "SHA-256"
          ],
          [
           "X11"
          ],
          [
           "Scrypt"
          ],
          [
           "SHA-256"
          ],
          [
           "SHA-256"
          ],
          [
           "NIST5"
          ],
          [
           "Scrypt"
          ],
          [
           "Scrypt"
          ],
          [
           "X11"
          ],
          [
           "Dagger"
          ],
          [
           "Scrypt"
          ],
          [
           "X11GOST"
          ],
          [
           "X11"
          ],
          [
           "Scrypt"
          ],
          [
           "SHA-256"
          ],
          [
           "Scrypt"
          ],
          [
           "PoS"
          ],
          [
           "Scrypt"
          ],
          [
           "X11"
          ],
          [
           "X11"
          ],
          [
           "SHA-256"
          ],
          [
           "SHA-256"
          ],
          [
           "NIST5"
          ],
          [
           "X11"
          ],
          [
           "Scrypt"
          ],
          [
           "POS 3.0"
          ],
          [
           "Scrypt"
          ],
          [
           "Scrypt"
          ],
          [
           "Scrypt"
          ],
          [
           "X13"
          ],
          [
           "X11"
          ],
          [
           "X11"
          ],
          [
           "Equihash"
          ],
          [
           "X11"
          ],
          [
           "Scrypt"
          ],
          [
           "CryptoNight"
          ],
          [
           "SHA-256"
          ],
          [
           "SHA-256"
          ],
          [
           "X11"
          ],
          [
           "Scrypt"
          ],
          [
           "Multiple"
          ],
          [
           "Scrypt"
          ],
          [
           "Scrypt"
          ],
          [
           "Scrypt"
          ],
          [
           "SHA-256"
          ],
          [
           "Scrypt"
          ],
          [
           "Scrypt"
          ],
          [
           "SHA-256D"
          ],
          [
           "PoS"
          ],
          [
           "Scrypt"
          ],
          [
           "X11"
          ],
          [
           "Lyra2Z"
          ],
          [
           "PoS"
          ],
          [
           "X13"
          ],
          [
           "X14"
          ],
          [
           "PoS"
          ],
          [
           "SHA-256D"
          ],
          [
           "Ethash"
          ],
          [
           "Equihash"
          ],
          [
           "DPoS"
          ],
          [
           "X11"
          ],
          [
           "Scrypt"
          ],
          [
           "X11"
          ],
          [
           "X13"
          ],
          [
           "X11"
          ],
          [
           "PoS"
          ],
          [
           "Scrypt"
          ],
          [
           "Scrypt"
          ],
          [
           "X11"
          ],
          [
           "PoS"
          ],
          [
           "X11"
          ],
          [
           "SHA-256"
          ],
          [
           "Scrypt"
          ],
          [
           "X11"
          ],
          [
           "Scrypt"
          ],
          [
           "Scrypt"
          ],
          [
           "X11"
          ],
          [
           "CryptoNight"
          ],
          [
           "Scrypt"
          ],
          [
           "Scrypt"
          ],
          [
           "Scrypt"
          ],
          [
           "Scrypt"
          ],
          [
           "Quark"
          ],
          [
           "QuBit"
          ],
          [
           "Scrypt"
          ],
          [
           "CryptoNight"
          ],
          [
           "Lyra2RE"
          ],
          [
           "Scrypt"
          ],
          [
           "SHA-256"
          ],
          [
           "X11"
          ],
          [
           "Scrypt"
          ],
          [
           "X11"
          ],
          [
           "Scrypt"
          ],
          [
           "CryptoNight-V7"
          ],
          [
           "Scrypt"
          ],
          [
           "Scrypt"
          ],
          [
           "Scrypt"
          ],
          [
           "X13"
          ],
          [
           "X11"
          ],
          [
           "Equihash"
          ],
          [
           "Scrypt"
          ],
          [
           "Scrypt"
          ],
          [
           "Lyra2RE"
          ],
          [
           "Scrypt"
          ],
          [
           "Dagger-Hashimoto"
          ],
          [
           "X11"
          ],
          [
           "Blake2S"
          ],
          [
           "X11"
          ],
          [
           "Scrypt"
          ],
          [
           "PoS"
          ],
          [
           "X11"
          ],
          [
           "NIST5"
          ],
          [
           "PoS"
          ],
          [
           "X11"
          ],
          [
           "Scrypt"
          ],
          [
           "Scrypt"
          ],
          [
           "Scrypt"
          ],
          [
           "SHA-256"
          ],
          [
           "X11"
          ],
          [
           "Scrypt"
          ],
          [
           "Scrypt"
          ],
          [
           "SHA-256"
          ],
          [
           "PoS"
          ],
          [
           "Scrypt"
          ],
          [
           "X15"
          ],
          [
           "SHA-256"
          ],
          [
           "Scrypt"
          ],
          [
           "POS 3.0"
          ],
          [
           "CryptoNight-V7"
          ],
          [
           "536"
          ],
          [
           "Argon2d"
          ],
          [
           "Blake2b"
          ],
          [
           "Cloverhash"
          ],
          [
           "CryptoNight"
          ],
          [
           "NIST5"
          ],
          [
           "X11"
          ],
          [
           "NIST5"
          ],
          [
           "Skein"
          ],
          [
           "Scrypt"
          ],
          [
           "X13"
          ],
          [
           "Scrypt"
          ],
          [
           "X11"
          ],
          [
           "X11"
          ],
          [
           "Scrypt"
          ],
          [
           "CryptoNight"
          ],
          [
           "X13"
          ],
          [
           "Time Travel"
          ],
          [
           "Scrypt"
          ],
          [
           "Keccak"
          ],
          [
           "SkunkHash v2 Raptor"
          ],
          [
           "X11"
          ],
          [
           "Skein"
          ],
          [
           "SHA-256"
          ],
          [
           "X11"
          ],
          [
           "Scrypt"
          ],
          [
           "VeChainThor Authority"
          ],
          [
           "Scrypt"
          ],
          [
           "PoS"
          ],
          [
           "Scrypt"
          ],
          [
           "Scrypt"
          ],
          [
           "Scrypt"
          ],
          [
           "Scrypt"
          ],
          [
           "Scrypt"
          ],
          [
           "Scrypt"
          ],
          [
           "Scrypt"
          ],
          [
           "CryptoNight"
          ],
          [
           "SHA-512"
          ],
          [
           "Ouroboros"
          ],
          [
           "X11"
          ],
          [
           "Equihash"
          ],
          [
           "NeoScrypt"
          ],
          [
           "X11"
          ],
          [
           "Scrypt"
          ],
          [
           "NeoScrypt"
          ],
          [
           "Lyra2REv2"
          ],
          [
           "Equihash"
          ],
          [
           "Scrypt"
          ],
          [
           "SHA-256"
          ],
          [
           "NIST5"
          ],
          [
           "PHI1612"
          ],
          [
           "Dagger"
          ],
          [
           "Scrypt"
          ],
          [
           "Quark"
          ],
          [
           "Scrypt"
          ],
          [
           "POS 2.0"
          ],
          [
           "Scrypt"
          ],
          [
           "SHA-256"
          ],
          [
           "X11"
          ],
          [
           "NeoScrypt"
          ],
          [
           "Ethash"
          ],
          [
           "NeoScrypt"
          ],
          [
           "X11"
          ],
          [
           "DPoS"
          ],
          [
           "NIST5"
          ],
          [
           "X13"
          ],
          [
           "Multiple"
          ],
          [
           "Scrypt"
          ],
          [
           "CryptoNight"
          ],
          [
           "CryptoNight"
          ],
          [
           "Ethash"
          ],
          [
           "NIST5"
          ],
          [
           "Quark"
          ],
          [
           "X11"
          ],
          [
           "CryptoNight-V7"
          ],
          [
           "Scrypt"
          ],
          [
           "Scrypt"
          ],
          [
           "Scrypt"
          ],
          [
           "X11"
          ],
          [
           "BLAKE256"
          ],
          [
           "X11"
          ],
          [
           "NeoScrypt"
          ],
          [
           "Quark"
          ],
          [
           "NeoScrypt"
          ],
          [
           "Scrypt"
          ],
          [
           "Scrypt"
          ],
          [
           "Scrypt"
          ],
          [
           "X11"
          ],
          [
           "X11"
          ],
          [
           "SHA-256"
          ],
          [
           "C11"
          ],
          [
           "POS 3.0"
          ],
          [
           "Ethash"
          ],
          [
           "Scrypt"
          ],
          [
           "CryptoNight"
          ],
          [
           "SkunkHash"
          ],
          [
           "Scrypt"
          ],
          [
           "CryptoNight"
          ],
          [
           "Scrypt"
          ],
          [
           "Dagger"
          ],
          [
           "Lyra2REv2"
          ],
          [
           "X13"
          ],
          [
           "Proof-of-BibleHash"
          ],
          [
           "SHA-256 + Hive"
          ],
          [
           "Scrypt"
          ],
          [
           "Scrypt"
          ],
          [
           "X11"
          ],
          [
           "C11"
          ],
          [
           "Proof-of-Authority"
          ],
          [
           "X11"
          ],
          [
           "XEVAN"
          ],
          [
           "Scrypt"
          ],
          [
           "VBFT"
          ],
          [
           "Ethash"
          ],
          [
           "CryptoNight"
          ],
          [
           "Scrypt"
          ],
          [
           "IMesh"
          ],
          [
           "NIST5"
          ],
          [
           "Scrypt"
          ],
          [
           "Scrypt"
          ],
          [
           "Equihash"
          ],
          [
           "Scrypt"
          ],
          [
           "Lyra2Z"
          ],
          [
           "Green Protocol"
          ],
          [
           "PoS"
          ],
          [
           "Scrypt"
          ],
          [
           "Semux BFT consensus"
          ],
          [
           "X11"
          ],
          [
           "Quark"
          ],
          [
           "PoS"
          ],
          [
           "CryptoNight"
          ],
          [
           "X16R"
          ],
          [
           "Scrypt"
          ],
          [
           "NIST5"
          ],
          [
           "Lyra2RE"
          ],
          [
           "XEVAN"
          ],
          [
           "Tribus"
          ],
          [
           "Scrypt"
          ],
          [
           "Lyra2Z"
          ],
          [
           "CryptoNight"
          ],
          [
           "CryptoNight Heavy"
          ],
          [
           "CryptoNight"
          ],
          [
           "Scrypt"
          ],
          [
           "Scrypt"
          ],
          [
           "Jump Consistent Hash"
          ],
          [
           "SHA-256D"
          ],
          [
           "CryptoNight"
          ],
          [
           "Scrypt"
          ],
          [
           "X15"
          ],
          [
           "Scrypt"
          ],
          [
           "Quark"
          ],
          [
           "SHA-256"
          ],
          [
           "DPoS"
          ],
          [
           "X16R"
          ],
          [
           "HMQ1725"
          ],
          [
           "X11"
          ],
          [
           "X16R"
          ],
          [
           "Quark"
          ],
          [
           "Quark"
          ],
          [
           "Scrypt"
          ],
          [
           "Lyra2REv2"
          ],
          [
           "Quark"
          ],
          [
           "Scrypt"
          ],
          [
           "Scrypt"
          ],
          [
           "CryptoNight-V7"
          ],
          [
           "Cryptonight-GPU"
          ],
          [
           "XEVAN"
          ],
          [
           "CryptoNight Heavy"
          ],
          [
           "X11"
          ],
          [
           "X11"
          ],
          [
           "Scrypt"
          ],
          [
           "PoS"
          ],
          [
           "SHA-256"
          ],
          [
           "Keccak"
          ],
          [
           "X11"
          ],
          [
           "X11"
          ],
          [
           "Scrypt"
          ],
          [
           "SHA-512"
          ],
          [
           "X16R"
          ],
          [
           "ECC 256K1"
          ],
          [
           "Equihash"
          ],
          [
           "XEVAN"
          ],
          [
           "Lyra2Z"
          ],
          [
           "SHA-256"
          ],
          [
           "XEVAN"
          ],
          [
           "X11"
          ],
          [
           "CryptoNight"
          ],
          [
           "Quark"
          ],
          [
           "Blake"
          ],
          [
           "Blake"
          ],
          [
           "Equihash"
          ],
          [
           "Exosis"
          ],
          [
           "Scrypt"
          ],
          [
           "Scrypt"
          ],
          [
           "Equihash"
          ],
          [
           "Quark"
          ],
          [
           "Equihash"
          ],
          [
           "Quark"
          ],
          [
           "Scrypt"
          ],
          [
           "QuBit"
          ],
          [
           "X11"
          ],
          [
           "Scrypt"
          ],
          [
           "XEVAN"
          ],
          [
           "SHA-256D"
          ],
          [
           "X11"
          ],
          [
           "SHA-256"
          ],
          [
           "X13"
          ],
          [
           "SHA-256"
          ],
          [
           "X11"
          ],
          [
           "DPoS"
          ],
          [
           "Scrypt"
          ],
          [
           "Scrypt"
          ],
          [
           "X11"
          ],
          [
           "NeoScrypt"
          ],
          [
           "Scrypt"
          ],
          [
           "Blake"
          ],
          [
           "Scrypt"
          ],
          [
           "SHA-256"
          ],
          [
           "Scrypt"
          ],
          [
           "X11"
          ],
          [
           "Scrypt"
          ],
          [
           "Scrypt"
          ],
          [
           "SHA-256"
          ],
          [
           "X11"
          ],
          [
           "SHA-256"
          ],
          [
           "Scrypt"
          ],
          [
           "Scrypt"
          ],
          [
           "Scrypt"
          ],
          [
           "Groestl"
          ],
          [
           "X11"
          ],
          [
           "Scrypt"
          ],
          [
           "PoS"
          ],
          [
           "Scrypt"
          ],
          [
           "Scrypt"
          ],
          [
           "X11"
          ],
          [
           "SHA-256"
          ],
          [
           "DPoS"
          ],
          [
           "Scrypt"
          ],
          [
           "Scrypt"
          ],
          [
           "NeoScrypt"
          ],
          [
           "Multiple"
          ],
          [
           "X13"
          ],
          [
           "Equihash+Scrypt"
          ],
          [
           "DPoS"
          ],
          [
           "Ethash"
          ],
          [
           "DPoS"
          ],
          [
           "SHA-256"
          ],
          [
           "Leased POS"
          ],
          [
           "PoS"
          ],
          [
           "TRC10"
          ],
          [
           "PoS"
          ],
          [
           "SHA-256"
          ],
          [
           "Scrypt"
          ],
          [
           "CryptoNight"
          ],
          [
           "Equihash"
          ],
          [
           "Scrypt"
          ]
         ],
         "hovertemplate": "<b>%{hovertext}</b><br><br>PC1=%{x}<br>PC2=%{y}<br>PC3=%{z}<br>Algorithm=%{customdata[0]}<br>Class=%{marker.color}<extra></extra>",
         "hovertext": [
          "42 Coin",
          "404Coin",
          "EliteCoin",
          "Bitcoin",
          "Ethereum",
          "Litecoin",
          "Dash",
          "Monero",
          "Ethereum Classic",
          "ZCash",
          "Bitshares",
          "DigiByte",
          "BitcoinDark",
          "PayCoin",
          "ProsperCoin",
          "KoboCoin",
          "Spreadcoin",
          "Argentum",
          "Aurora Coin",
          "BlueCoin",
          "MyriadCoin",
          "MoonCoin",
          "ZetaCoin",
          "SexCoin",
          "Quatloo",
          "EnergyCoin",
          "QuarkCoin",
          "Riecoin",
          "Digitalcoin ",
          "BitBar",
          "Catcoin",
          "CryptoBullion",
          "CannaCoin",
          "CryptCoin",
          "CasinoCoin",
          "Diamond",
          "Verge",
          "DevCoin",
          "EarthCoin",
          "E-Gulden",
          "Einsteinium",
          "Emerald",
          "Exclusive Coin",
          "FlutterCoin",
          "Franko",
          "FeatherCoin",
          "GrandCoin",
          "GlobalCoin",
          "GoldCoin",
          "HoboNickels",
          "HyperStake",
          "Infinite Coin",
          "IOCoin",
          "IXcoin",
          "KrugerCoin",
          "LuckyCoin",
          "Litebar ",
          "MaxCoin",
          "MegaCoin",
          "MediterraneanCoin",
          "MintCoin",
          "MinCoin",
          "MazaCoin",
          "Nautilus Coin",
          "NavCoin",
          "NobleCoin",
          "Namecoin",
          "NyanCoin",
          "OpalCoin",
          "Orbitcoin",
          "PotCoin",
          "PhoenixCoin",
          "Reddcoin",
          "RonPaulCoin",
          "StableCoin",
          "SmartCoin",
          "SuperCoin",
          "SyncCoin",
          "SysCoin",
          "TeslaCoin",
          "TigerCoin",
          "TittieCoin",
          "TorCoin",
          "TerraCoin",
          "UnbreakableCoin",
          "Unobtanium",
          "UroCoin",
          "UnitaryStatus Dollar",
          "UltraCoin",
          "ViaCoin",
          "VeriCoin",
          "Vertcoin",
          "WorldCoin",
          "X11 Coin",
          "Crypti",
          "JouleCoin",
          "StealthCoin",
          "ZCC Coin",
          "ByteCoin",
          "DigitalNote ",
          "BurstCoin",
          "StorjCoin",
          "MonaCoin",
          "Neutron",
          "FairCoin",
          "Gulden",
          "RubyCoin",
          "PesetaCoin",
          "Kore",
          "Wild Beast Coin",
          "Dnotes",
          "Flo",
          "8BIT Coin",
          "Sativa Coin",
          "ArtByte",
          "Folding Coin",
          "Ucoin",
          "Unitus",
          "CypherPunkCoin",
          "OmniCron",
          "Vtorrent",
          "GreenCoin",
          "Cryptonite",
          "MasterCoin",
          "SoonCoin",
          "1Credit",
          "IslaCoin",
          "Nexus",
          "MarsCoin ",
          "Crypto",
          "Anarchists Prime",
          "Droidz",
          "BowsCoin",
          "Squall Coin",
          "Song Coin",
          "BitZeny",
          "Diggits",
          "Expanse",
          "Paycon",
          "Siacoin",
          "Emercoin",
          "EverGreenCoin",
          "MindCoin",
          "I0coin",
          "Decred",
          "Revolution VR",
          "HOdlcoin",
          "EDRCoin",
          "Hitcoin",
          "Gamecredits",
          "DubaiCoin",
          "CarpeDiemCoin",
          "PWR Coin",
          "BillaryCoin",
          "GPU Coin",
          "Adzcoin",
          "SoilCoin",
          "YoCoin",
          "SibCoin",
          "EuropeCoin",
          "ZeitCoin",
          "SwingCoin",
          "SafeExchangeCoin",
          "Nebuchadnezzar",
          "Francs",
          "BolivarCoin",
          "Ratecoin",
          "Revenu",
          "Clockcoin",
          "VIP Tokens",
          "BitSend",
          "Omni",
          "Let it Ride",
          "PutinCoin",
          "iBankCoin",
          "Frankywillcoin",
          "MudraCoin",
          "PizzaCoin",
          "Lutetium Coin",
          "Komodo",
          "GoldBlocks",
          "CarterCoin",
          "Karbo",
          "BitTokens",
          "ZayedCoin",
          "MustangCoin",
          "ZoneCoin",
          "Circuits of Value",
          "RootCoin",
          "DopeCoin",
          "BitCurrency",
          "DollarCoin",
          "Swiscoin",
          "Shilling",
          "BuzzCoin",
          "Opair",
          "PesoBit",
          "Halloween Coin",
          "ZCoin",
          "CoffeeCoin",
          "RoyalCoin",
          "GanjaCoin V2",
          "TeamUP",
          "LanaCoin",
          "Elementrem",
          "ZClassic",
          "ARK",
          "InsaneCoin",
          "KiloCoin",
          "ArtexCoin",
          "EmberCoin",
          "XenixCoin",
          "FreeCoin",
          "PLNCoin",
          "AquariusCoin",
          "Kurrent",
          "Creatio",
          "Eternity",
          "Eurocoin",
          "BitcoinFast",
          "Stakenet",
          "BitConnect Coin",
          "MoneyCoin",
          "Enigma",
          "Cannabis Industry Coin",
          "Russiacoin",
          "PandaCoin",
          "GameUnits",
          "GAKHcoin",
          "Allsafe",
          "LiteCreed",
          "OsmiumCoin",
          "Bikercoins",
          "HexxCoin",
          "Klingon Empire Darsek",
          "Internet of People",
          "KushCoin",
          "Printerium",
          "PacCoin",
          "Impeach",
          "Citadel",
          "Zilbercoin",
          "FirstCoin",
          "BeaverCoin",
          "FindCoin",
          "VaultCoin",
          "Zero",
          "OpenChat",
          "Canada eCoin",
          "Zoin",
          "RenosCoin",
          "DubaiCoin",
          "VirtacoinPlus",
          "TajCoin",
          "Impact",
          "EB3coin",
          "Atmos",
          "HappyCoin",
          "Coinonat",
          "MacronCoin",
          "Condensate",
          "Independent Money System",
          "ArgusCoin",
          "LomoCoin",
          "ProCurrency",
          "GoldReserve",
          "BenjiRolls",
          "GrowthCoin",
          "ILCoin",
          "Phreak",
          "Degas Coin",
          "HTML5 Coin",
          "Ultimate Secure Cash",
          "EquiTrader",
          "QTUM",
          "Quantum Resistant Ledger",
          "Espers",
          "Dynamic",
          "Nano",
          "ChanCoin",
          "Dinastycoin",
          "Denarius",
          "DigitalPrice",
          "Virta Unique Coin",
          "Bitcoin Planet",
          "Unify",
          "BritCoin",
          "SocialCoin",
          "ArcticCoin",
          "DAS",
          "Linda",
          "LeviarCoin",
          "DeepOnion",
          "Bitcore",
          "gCn Coin",
          "SmartCash",
          "Signatum",
          "Onix",
          "Cream",
          "Bitcoin Cash",
          "Monoeci",
          "Draftcoin",
          "Vechain",
          "Sojourn Coin",
          "Stakecoin",
          "NewYorkCoin",
          "FrazCoin",
          "Kronecoin",
          "AdCoin",
          "Linx",
          "CoinonatX",
          "Ethereum Dark",
          "Sumokoin",
          "Obsidian",
          "Cardano",
          "Regalcoin",
          "BitcoinZ",
          "TrezarCoin",
          "Elements",
          "TerraNovaCoin",
          "VIVO Coin",
          "Rupee",
          "Bitcoin Gold",
          "WomenCoin",
          "Theresa May Coin",
          "NamoCoin",
          "LUXCoin",
          "Pirl",
          "Xios",
          "Bitcloud 2.0",
          "eBoost",
          "KekCoin",
          "BlackholeCoin",
          "Infinity Economics",
          "Pura",
          "Innova",
          "Ellaism",
          "GoByte",
          "Magnet",
          "Lamden Tau",
          "Electra",
          "Bitcoin Diamond",
          "SHIELD",
          "Cash & Back Coin",
          "UltraNote",
          "BitCoal",
          "DaxxCoin",
          "Bulwark",
          "Kalkulus",
          "AC3",
          "Lethean",
          "GermanCoin",
          "LiteCoin Ultra",
          "PopularCoin",
          "PhantomX",
          "Photon",
          "Sucre",
          "SparksPay",
          "Digiwage",
          "GunCoin",
          "IrishCoin",
          "Trollcoin",
          "Litecoin Plus",
          "Monkey Project",
          "Pioneer Coin",
          "UnitedBitcoin",
          "Interzone",
          "TokenPay",
          "1717 Masonic Commemorative Token",
          "My Big Coin",
          "TurtleCoin",
          "MUNcoin",
          "Unified Society USDEX",
          "Niobio Cash",
          "ShareChain",
          "Travelflex",
          "KREDS",
          "Tokyo Coin",
          "BiblePay",
          "LitecoinCash",
          "BitFlip",
          "LottoCoin",
          "Crypto Improvement Fund",
          "Stipend",
          "Poa Network",
          "Pushi",
          "Ellerium",
          "Velox",
          "Ontology",
          "Callisto Network",
          "BitTube",
          "Poseidon",
          "Aidos Kuneen",
          "Bitspace",
          "Briacoin",
          "Ignition",
          "Bitrolium",
          "MedicCoin",
          "Alpenschillling",
          "Bitcoin Green",
          "Deviant Coin",
          "Abjcoin",
          "Semux",
          "FuturoCoin",
          "Carebit",
          "Zealium",
          "Monero Classic",
          "Proton",
          "iDealCash",
          "Jumpcoin",
          "Infinex",
          "Bitcoin Incognito",
          "KEYCO",
          "HollyWoodCoin",
          "GINcoin",
          "PlatinCoin",
          "Loki",
          "Newton Coin",
          "Swisscoin",
          "Xt3ch",
          "MassGrid",
          "TheVig",
          "PluraCoin",
          "EmaratCoin",
          "Dekado",
          "Lynx",
          "Poseidon Quark",
          "BitcoinWSpectrum",
          "Muse",
          "Motion",
          "PlusOneCoin",
          "Axe",
          "Trivechain",
          "Dystem",
          "Giant",
          "Peony Coin",
          "Absolute Coin",
          "Vitae",
          "HexCoin",
          "TPCash",
          "Webchain",
          "Ryo",
          "Urals Coin",
          "Qwertycoin",
          "ARENON",
          "EUNO",
          "MMOCoin",
          "Ketan",
          "Project Pai",
          "XDNA",
          "PAXEX",
          "Azart",
          "ThunderStake",
          "Kcash",
          "Xchange",
          "Acute Angle Cloud",
          "CrypticCoin",
          "Bettex coin",
          "Actinium",
          "Bitcoin SV",
          "BitMoney",
          "Junson Ming Chan Coin",
          "FREDEnergy",
          "HerbCoin",
          "Universal Molecule",
          "Lithium",
          "PirateCash",
          "Exosis",
          "Block-Logic",
          "Oduwa",
          "Beam",
          "Galilel",
          "Bithereum",
          "Crypto Sports",
          "Credit",
          "SLICE",
          "Dash Platinum",
          "Nasdacoin",
          "Beetle Coin",
          "Titan Coin",
          "Award",
          "BLAST",
          "Bitcoin Rhodium",
          "GlobalToken",
          "Insane Coin",
          "ALAX",
          "LiteDoge",
          "SolarCoin",
          "TruckCoin",
          "UFO Coin",
          "OrangeCoin",
          "BlakeCoin",
          "BitstarCoin",
          "NeosCoin",
          "HyperCoin",
          "PinkCoin",
          "Crypto Escudo",
          "AudioCoin",
          "IncaKoin",
          "Piggy Coin",
          "Crown Coin",
          "Genstake",
          "SmileyCoin",
          "XiaoMiCoin",
          "Groestlcoin",
          "CapriCoin",
          " ClubCoin",
          "Radium",
          "Bata",
          "Pakcoin",
          "Creditbit ",
          "OKCash",
          "Lisk",
          "HiCoin",
          "WhiteCoin",
          "FriendshipCoin",
          "JoinCoin",
          "Triangles Coin",
          "Vollar",
          "EOS",
          "Reality Clash",
          "Oxycoin",
          "TigerCash",
          "Waves",
          "Particl",
          "BitTorrent",
          "Nxt",
          "ZEPHYR",
          "Gapcoin",
          "Beldex",
          "Horizen",
          "BitcoinPlus"
         ],
         "legendgroup": "",
         "marker": {
          "color": [
           1,
           1,
           1,
           0,
           0,
           0,
           1,
           0,
           0,
           0,
           1,
           0,
           1,
           1,
           0,
           1,
           0,
           0,
           1,
           1,
           0,
           0,
           0,
           0,
           0,
           1,
           0,
           0,
           0,
           1,
           0,
           1,
           0,
           0,
           1,
           1,
           0,
           0,
           0,
           0,
           0,
           0,
           1,
           1,
           0,
           0,
           0,
           0,
           0,
           1,
           1,
           0,
           1,
           0,
           0,
           0,
           0,
           1,
           0,
           0,
           1,
           0,
           1,
           1,
           1,
           0,
           0,
           0,
           1,
           1,
           1,
           1,
           1,
           0,
           0,
           0,
           1,
           1,
           0,
           1,
           0,
           1,
           1,
           0,
           0,
           0,
           0,
           1,
           1,
           0,
           1,
           0,
           0,
           1,
           1,
           0,
           1,
           1,
           0,
           0,
           1,
           1,
           0,
           1,
           1,
           0,
           1,
           0,
           1,
           0,
           1,
           0,
           1,
           1,
           0,
           0,
           1,
           0,
           0,
           0,
           1,
           0,
           0,
           0,
           0,
           0,
           1,
           1,
           0,
           0,
           0,
           1,
           0,
           1,
           0,
           0,
           1,
           0,
           1,
           0,
           1,
           1,
           0,
           0,
           1,
           0,
           0,
           1,
           1,
           0,
           1,
           0,
           1,
           1,
           1,
           0,
           0,
           0,
           0,
           1,
           1,
           1,
           1,
           1,
           0,
           0,
           1,
           1,
           1,
           1,
           1,
           0,
           1,
           1,
           1,
           1,
           1,
           0,
           1,
           0,
           1,
           1,
           0,
           1,
           0,
           1,
           1,
           0,
           1,
           0,
           1,
           0,
           1,
           0,
           1,
           1,
           1,
           1,
           0,
           1,
           1,
           1,
           1,
           1,
           0,
           0,
           1,
           1,
           0,
           0,
           1,
           1,
           1,
           1,
           1,
           0,
           1,
           1,
           1,
           1,
           1,
           1,
           1,
           1,
           0,
           1,
           1,
           1,
           1,
           1,
           1,
           0,
           0,
           0,
           1,
           1,
           1,
           1,
           0,
           1,
           0,
           1,
           1,
           0,
           1,
           0,
           0,
           1,
           0,
           0,
           1,
           0,
           1,
           1,
           1,
           0,
           1,
           1,
           0,
           1,
           1,
           1,
           1,
           1,
           1,
           1,
           0,
           1,
           0,
           1,
           1,
           1,
           1,
           0,
           1,
           0,
           1,
           0,
           0,
           0,
           0,
           1,
           0,
           1,
           1,
           0,
           1,
           0,
           0,
           0,
           1,
           0,
           1,
           0,
           0,
           0,
           1,
           0,
           1,
           0,
           1,
           1,
           1,
           0,
           1,
           0,
           0,
           0,
           0,
           0,
           1,
           1,
           0,
           1,
           1,
           1,
           0,
           1,
           0,
           1,
           0,
           1,
           0,
           1,
           1,
           1,
           1,
           0,
           1,
           1,
           0,
           1,
           1,
           1,
           0,
           0,
           0,
           0,
           1,
           1,
           1,
           1,
           0,
           1,
           0,
           0,
           0,
           1,
           1,
           0,
           0,
           1,
           1,
           0,
           1,
           0,
           0,
           0,
           1,
           0,
           0,
           1,
           1,
           1,
           0,
           0,
           0,
           1,
           1,
           1,
           0,
           0,
           1,
           0,
           0,
           0,
           0,
           1,
           3,
           3,
           0,
           0,
           0,
           1,
           3,
           1,
           1,
           1,
           1,
           0,
           0,
           0,
           0,
           1,
           1,
           1,
           0,
           1,
           0,
           1,
           1,
           1,
           1,
           0,
           1,
           1,
           0,
           1,
           1,
           0,
           0,
           1,
           0,
           1,
           0,
           0,
           0,
           0,
           1,
           1,
           0,
           1,
           0,
           1,
           1,
           1,
           1,
           1,
           1,
           0,
           0,
           0,
           1,
           1,
           1,
           1,
           1,
           1,
           0,
           1,
           0,
           0,
           0,
           0,
           1,
           1,
           1,
           1,
           0,
           1,
           1,
           0,
           1,
           1,
           0,
           3,
           0,
           1,
           0,
           0,
           1,
           1,
           0,
           1,
           0,
           0,
           1,
           0,
           0,
           1,
           0,
           1,
           0,
           1,
           1,
           0,
           1,
           1,
           1,
           1,
           1,
           0,
           0,
           0,
           1,
           1,
           1,
           0,
           1,
           0,
           1,
           0,
           1,
           1,
           1,
           1,
           0,
           1,
           1,
           1,
           0,
           1,
           0,
           1,
           0,
           1,
           1,
           1,
           0,
           0,
           1,
           1,
           1,
           1,
           1,
           1,
           0,
           1,
           0,
           1,
           0,
           1,
           1,
           3,
           1,
           2,
           1,
           1,
           1,
           0,
           0,
           1
          ],
          "coloraxis": "coloraxis",
          "symbol": "circle"
         },
         "mode": "markers",
         "name": "",
         "scene": "scene",
         "showlegend": false,
         "type": "scatter3d",
         "x": [
          -0.3343398276969394,
          -0.317657489700279,
          2.3170448429301187,
          -0.14973429649198516,
          -0.15670212792489632,
          -0.16687673707854261,
          -0.39572177986000323,
          -0.15394306752764403,
          -0.15514124800378287,
          -0.1523114368971362,
          -0.3324981702492654,
          0.17284385136173686,
          -0.3160262554800291,
          -0.27155760036827326,
          -0.1680245499691753,
          -0.24418525503067756,
          -0.2296144877858399,
          -0.16764042839705387,
          -0.3339989581677817,
          -0.3265691804011813,
          -0.08094078293198839,
          2.5590225650724325,
          -0.1468153020830458,
          -0.16489184527508846,
          -0.16744403370993827,
          -0.33283488397856853,
          -0.2266698126209192,
          -0.19293986386471124,
          -0.16749317426162738,
          -0.3343357566724799,
          -0.16800679766986026,
          -0.33432001881350853,
          -0.16809339071437535,
          -0.2297039347299164,
          0.6766062082502654,
          -0.3601664582674303,
          0.19659024482886275,
          0.22863168457606853,
          0.08097682332282094,
          -0.16783937521358272,
          -0.16343843392846333,
          -0.16777853853837393,
          -0.34479306673372256,
          -0.3033614625077957,
          -0.16815046428749855,
          -0.17236707622831107,
          -0.14734266054615378,
          -0.1669439636843437,
          -0.16722168409805913,
          -0.3323959053843737,
          -0.3310565254027758,
          1.583122756025848,
          -0.3956163698640561,
          -0.14969562602113573,
          -0.16450708662447164,
          -0.16786585028213885,
          -0.1682211453238705,
          -0.3819595349657639,
          -0.16747937991180273,
          -0.1606634991938412,
          -0.029529568048365634,
          -0.16810223583808867,
          -0.27928075916642214,
          -0.2896218512424814,
          -0.2714472603853281,
          -0.03277557082736212,
          -0.14977331672669014,
          -0.16175759274464466,
          -0.27207009625171996,
          -0.34333469453762844,
          -0.32863374339300605,
          -0.3327393535936574,
          0.02416251386094588,
          -0.168081588252448,
          -0.16617254482426097,
          -0.1675676151141978,
          -0.35096316972512637,
          -0.3959884524233719,
          -0.13690678601405956,
          -0.2357897461597779,
          -0.14923637071398144,
          -0.29544095439178053,
          -0.39589994112944865,
          -0.1495239031660625,
          -0.149506636450654,
          -0.15009844417718143,
          -0.2298781196052383,
          -0.3095370404267733,
          -0.3330152724896078,
          -0.16779777251039188,
          -0.2701008759302829,
          -0.19828060217629068,
          -0.1648964691195016,
          -0.39586440925205635,
          -0.23625857557110333,
          -0.14930374739529254,
          -0.2718507388732109,
          -0.3254277871237606,
          3.8685161101200407,
          0.46289713928375453,
          0.03522271384013137,
          -0.34486689103756374,
          -0.16666369123226382,
          -0.315236891010385,
          -0.3595874655101819,
          -0.15123698259937798,
          -0.2896021909999019,
          -0.16538080824845364,
          -0.2721454846380937,
          -0.168223349045667,
          -0.2842477427307623,
          -0.16524574755569907,
          -0.33432187816752923,
          -0.27209763429962913,
          -0.15144998174581198,
          -0.14214991013067008,
          -0.35140833858431747,
          -0.11499481394720434,
          -0.18701809162442076,
          -0.16809629099038426,
          -0.33405586831838163,
          -0.04084145258054506,
          -0.0970958362989742,
          -0.16823226314576453,
          -0.14980112295848957,
          0.48516451170841557,
          -0.39596996271575097,
          -0.33742834445929365,
          -0.22926446926682503,
          -0.15780762675834972,
          -0.14954051470356453,
          -0.3959886622099189,
          -0.2295497363915481,
          -0.3480556815111157,
          -0.1663528163310569,
          -0.16554397857850098,
          -0.2880014987611252,
          -0.15777058547848274,
          -0.2716185419508477,
          0.3651699269709955,
          -0.308569427868658,
          -0.24663116534658977,
          -0.22958520050437234,
          -0.1496967495325806,
          -0.08188366583087432,
          -0.16418465817833003,
          -0.15850046323918332,
          -0.3159971401273812,
          -0.07294871659339738,
          -0.16679361779131707,
          -0.31606096992260296,
          0.2693525294525143,
          -0.23217575532296442,
          -0.3339314873739836,
          -0.2878696626874475,
          -0.22874463663225142,
          -0.158622496061747,
          -0.16704078088333954,
          -0.14067327242008562,
          -0.39313393580814826,
          0.8653129505346341,
          -0.31586064877177317,
          -0.0551334246583794,
          -0.3444758975906257,
          -0.16802183842044877,
          -0.22954835062748385,
          -0.3938103218208316,
          -0.3146017963092687,
          -0.3122658107354712,
          -0.35365610314470436,
          -0.39470302078225594,
          -0.16823232171970892,
          -0.3533341270225523,
          -0.3101919447033073,
          -0.3339696090040925,
          -0.3324066950307358,
          -0.2263686514888305,
          -0.2296984768065631,
          -0.3388825906984254,
          -0.2637039845483063,
          -0.3954430292454942,
          -0.3331727511079265,
          0.30758005498069646,
          -0.31604183778321343,
          -0.14995717272716555,
          -0.39595912486153423,
          -0.33415910599440174,
          -0.09503930332176136,
          -0.33431610545596147,
          -0.16539487767601332,
          -0.2878605976231614,
          -0.1499157540666398,
          -0.2522601650004521,
          -0.16789519320507912,
          0.03927430465281433,
          -0.34343159208652807,
          -0.33392987367023774,
          -0.38209831459757027,
          -0.16071841889352395,
          -0.3427597652528606,
          -0.22780191760183172,
          -0.413121447538274,
          -0.3425068387946678,
          -0.27564572464730897,
          -0.15751241858029935,
          -0.1523330763261741,
          3.6881954127754697,
          -0.39555109051887605,
          -0.09482112240403645,
          -0.2162649953976958,
          0.8612146465568626,
          -0.39591398396930466,
          -0.3438959575471909,
          -0.33385711747002755,
          -0.33401157763031736,
          -0.22752313417589398,
          -0.3444758975906257,
          -0.39548811431476205,
          -0.31590437858695003,
          -0.3338578882843423,
          -0.3927055135510627,
          -0.3340054582919881,
          -0.32958520169792827,
          -0.3959429999579806,
          0.307574480486078,
          -0.33321464979986165,
          0.3544982293394806,
          -0.3342050277857713,
          -0.3342757298816285,
          -0.3530534520941944,
          -0.35226195784292985,
          -0.16821402781159353,
          0.30770535625844353,
          -0.1583489727756853,
          -0.33049562546869304,
          -0.3160182277211879,
          -0.3958528338693121,
          -0.33405321453519354,
          0.48689964130931723,
          -0.3341802835896102,
          -0.15270535939365412,
          -0.2895082672152219,
          -0.2713093019965101,
          -0.16818227816638873,
          -0.22756946356921143,
          -0.22241903947162917,
          -0.15234548845141996,
          -0.3150084937276985,
          -0.1663130199760954,
          -0.15806699397308296,
          -0.28924926421836383,
          -0.14740956391304366,
          -0.3951172799109813,
          -0.42663095755000713,
          -0.3938543180314589,
          -0.13905137370362175,
          -0.34272012735531365,
          -0.3950150622750448,
          -0.18875374220300836,
          -0.3371126079508237,
          -0.39094948903503174,
          -0.33412351745778296,
          -0.3341226610069532,
          -0.3272314566719882,
          0.26210580860106486,
          -0.39549439346635984,
          -0.16774400547472337,
          -0.2721208831568675,
          -0.11623219718149719,
          -0.34451016461131595,
          -0.3333328935126506,
          0.889442056063213,
          -0.27024553426425846,
          -0.16756566281018692,
          -0.3521108369241533,
          -0.15256343782467402,
          0.588492133016454,
          -0.1493411170566152,
          -0.03554542917777948,
          -0.1634588480451347,
          0.3437459997628121,
          -0.35519379301914195,
          -0.2287529409150129,
          -0.3536938333579202,
          -0.4141938774804157,
          -0.16788557744221766,
          -0.2717822877415526,
          -0.16764837206412297,
          -0.22914827436312157,
          -0.2297265757537167,
          0.13138419773080223,
          0.30797007895210793,
          -0.2718531999026017,
          -0.16149805496683248,
          3.246220642472655,
          -0.12186723076521787,
          -0.3503456045419005,
          -0.22058263679318893,
          -0.41369826427062845,
          -0.14973345984396624,
          -0.39576724034895194,
          -0.28958277621208617,
          4.384357514599316,
          -0.0936646031324948,
          -0.3443761091753311,
          1.580595406378993,
          -0.16798352185489293,
          -0.16743420561549577,
          -0.16713477334882235,
          -0.1671216907436473,
          -0.3337581792540636,
          -0.33425863690277036,
          0.30815409233809354,
          -0.39064242558387785,
          0.6736295790788094,
          -0.3957079004949116,
          0.06032901959242311,
          -0.3383264531494388,
          -0.18405538935630344,
          -0.33421413619404294,
          -0.17706255829986953,
          -0.3207294409451025,
          -0.15219135585743063,
          0.43583124737097506,
          -0.31436234463846335,
          -0.33993794793654925,
          -0.3754931913939165,
          -0.15737953452252526,
          -0.33416439240447426,
          -0.39589777949038063,
          -0.1663112272767679,
          -0.34237659639037255,
          -0.3340346995372407,
          -0.09781105755615507,
          -0.22526436552246504,
          -0.17690770007199524,
          -0.1558743759839099,
          -0.17700808967242576,
          -0.3944986152923534,
          3.6930586294652166,
          0.20504729954370948,
          -0.2685195187617251,
          -0.10521247932129588,
          -0.3314912084220923,
          1.1469041296917197,
          0.30755718033672325,
          -0.08062640770871998,
          -0.3105517836765901,
          -0.3529392101027084,
          -0.22500444926026136,
          -0.14165876345523834,
          0.08083615374976687,
          -0.3331715283907885,
          -0.08425442776809083,
          -0.3950809220897872,
          1.0911081032470031,
          -0.22970054193427003,
          -0.17706015110931098,
          -0.35210248783368586,
          -0.17008788414163334,
          -0.16723347828075105,
          -0.3207201339610158,
          -0.33428079192352483,
          -0.3513802336201868,
          -0.2296258525800381,
          -0.14971284101017493,
          -0.20137082832444456,
          -0.35361637994490364,
          -0.279678121647087,
          -0.28873782189055297,
          8.059521831658012,
          -0.12854269643939026,
          -0.3298201516348365,
          0.31143760024989486,
          0.025069109329156205,
          -0.15688257984354176,
          -0.18381748610956555,
          -0.21935209909928896,
          -0.21480458614337866,
          -0.33059423943819616,
          -0.16780794386915165,
          0.13969860658477656,
          -0.22375778005050978,
          -0.36750054373763363,
          -0.3910768845076317,
          -0.3957844069612247,
          -0.28285308890231703,
          -0.28874125466240574,
          -0.3226287820066982,
          -0.10882626231653883,
          0.3154945550072439,
          -0.16804531613936521,
          -0.14694943914880157,
          -0.35479210213833856,
          -0.3343081803666132,
          -0.3342898605756123,
          -0.15118110259939938,
          -0.28311469959551994,
          -0.15849793399496062,
          -0.34487642273111013,
          -0.3439699951683235,
          -0.33400593136083156,
          3.895165363810106,
          -0.22879375563003543,
          -0.39456446706830106,
          -0.344158903561951,
          0.30773992427699964,
          -0.328424926391242,
          -0.28079086184983265,
          -0.18881343164823725,
          -0.15819395151754045,
          -0.23507308005381694,
          -0.15454736192926657,
          -0.2892766249774019,
          -0.1608029493725763,
          0.3116757602408969,
          0.5674680730543977,
          2.119222599038656,
          -0.1371602137410923,
          -0.28952882505673927,
          -0.14175229907625794,
          -0.3410724205922792,
          0.321364963079058,
          -0.33347909889736804,
          -0.20156865952148983,
          2.2310890834753816,
          -0.3486389239530881,
          -0.2703740072764415,
          0.9996283494952225,
          -0.20685182948981481,
          -0.1579389972698104,
          -0.22968267633024056,
          -0.37216577601109957,
          -0.35305285008462256,
          -0.39758483125467614,
          -0.17003578619593243,
          -0.36506267512345253,
          -0.351770604894092,
          -0.16806991673450197,
          -0.32717148769130433,
          -0.14153393990369953,
          -0.12590560746272322,
          -0.11551695578343747,
          3.0937646093278452,
          -0.3509570051681299,
          -0.39525705857054577,
          -0.2867701926510924,
          -0.3432569880386479,
          -0.10950687366695078,
          -0.348223015103374,
          -0.35081796434046636,
          -0.22965398785836333,
          -0.19353693656457713,
          -0.48563269487781763,
          -0.20627848348568678,
          -0.3551903870633289,
          -0.04678221006992292,
          -0.2384410388529396,
          -0.16019962904735616,
          -0.14973349744837935,
          0.6299583614200595,
          -0.14112178689887694,
          0.3876319689511053,
          -0.3968784475313994,
          -0.13330603892619158,
          -0.13369895693714914,
          -0.27333073093806987,
          -0.15756651879895567,
          -0.1669604680663104,
          -0.334009965309041,
          -0.15024797360213588,
          -0.3973352420804408,
          -0.15202394101933298,
          -0.3531699918146733,
          0.5738790134504512,
          -0.1862276369654667,
          -0.35143461132609727,
          -0.3334919738103707,
          -0.2773003930605019,
          -0.2957161619793702,
          -0.39281695061105937,
          -0.14900862686028568,
          -0.10613062824101524,
          -0.14787475732530786,
          -0.39548464813931383,
          3.7053157537252956,
          0.10157503399293602,
          0.5291667120878237,
          -0.39302201639109413,
          -0.10212386663476276,
          -0.33287612096780794,
          -0.08407049606472666,
          -0.3337028555875555,
          -0.2715902097945579,
          -0.334222047817881,
          -0.3871011429862991,
          -0.1516007240808604,
          -0.24777267279155324,
          -0.09546255024354,
          -0.3828421092210035,
          -0.14952327296396797,
          -0.3334995500003975,
          0.5486535241108782,
          -0.32655450808249104,
          -0.1925002805336126,
          -0.39204870443881473,
          -0.3319362673885677,
          -0.34475187366031096,
          -0.16814693909805065,
          -0.16609945104919127,
          -0.38619235178147004,
          -0.3145393103331604,
          3.688587838326611,
          -0.09655553929199548,
          -0.3291273557487488,
          -0.3429598242916863,
          -0.11573044467460625,
          -0.2722528707525511,
          -0.12526310066718596,
          3.698464736991675,
          -0.15754562198309102,
          3.6997101188530555,
          -0.25246173568308705,
          -0.45043062012300106,
          -0.3446876781939644,
          34.08293828050273,
          -0.3299276648510711,
          2.453576597410348,
          -0.33238167126399276,
          0.3293453305875632,
          -0.1523124949416337,
          -0.2899259606611609
         ],
         "y": [
          1.0446083177991128,
          1.0446877765680467,
          1.6971345919137955,
          -1.3089997963195006,
          -2.0234160719534646,
          -1.117298102658212,
          1.2031293026199805,
          -2.2186265903142317,
          -2.0235249466788043,
          -2.0557260456354642,
          1.8528244818205222,
          -1.75352254218831,
          0.8528776104055459,
          0.629000319165818,
          -1.11728440822286,
          1.7538775042285688,
          -0.9587525327213501,
          -1.1173049008977876,
          1.0446056597561706,
          1.0448252168590504,
          -1.7468138753593259,
          -1.3199029982423214,
          -1.309026333092817,
          -1.1173632016777204,
          -1.1173255520878016,
          1.0446503247332062,
          -0.4482997171624576,
          -1.166114391139561,
          -1.1172892964521266,
          1.044608068503096,
          -1.1172839127098935,
          1.044608144828365,
          -1.1172806240255728,
          -0.9587535775811494,
          0.30104868977792365,
          0.9957954510498677,
          -1.7496330092256882,
          -1.3136676662546052,
          -1.1201187904811865,
          -1.1172792395125535,
          -1.1173587784598293,
          -1.1172855265094312,
          1.5444906622780301,
          0.1877276145305633,
          -1.1172808348126304,
          -1.5501856352888472,
          -1.1177231257301048,
          -1.1172898162644709,
          -1.1172991983613416,
          1.044575467510932,
          0.9798248251197882,
          -1.134158322137238,
          1.203132244887848,
          -1.3089987169258173,
          -1.1173636563095395,
          -1.117279252581926,
          -1.1172756314068661,
          1.9206564765908456,
          -1.117284435400348,
          -2.366267979701462,
          0.827990943433274,
          -1.1172785915309158,
          0.8521631004100215,
          0.8207193442031572,
          1.852937153562078,
          -1.1243827946771288,
          -1.309000885476002,
          -1.117338871454622,
          1.8529197685888859,
          0.6118031595234837,
          1.044462703613762,
          1.0445818511900573,
          1.0546150530447091,
          -1.1172860003100844,
          -1.1173989493418028,
          -1.1172935767281689,
          0.9792691787664356,
          1.2031378285816756,
          -1.309271118677218,
          0.19163748331915062,
          -1.3090047804899676,
          1.761131948737507,
          1.203133040700321,
          -1.309009167988555,
          -1.309036270945028,
          -1.3089948978152617,
          -0.958745372996306,
          1.0441391581728108,
          1.0445726977365015,
          -1.1172795301102796,
          0.3514474415454604,
          -1.3075243731417177,
          -1.117374524990364,
          1.2031372991224083,
          0.1916969889506845,
          -1.3090052006233845,
          1.8529258914253355,
          1.0441311572921756,
          -2.3515074596092322,
          -2.319917965487291,
          0.4202886056349227,
          1.421378625228185,
          -1.1173074873987678,
          0.852866251360146,
          0.9958147917720293,
          -1.1180201227792121,
          0.8207316383384592,
          -1.117316152932348,
          1.8529089532764764,
          -1.117276620642753,
          0.8205181355375585,
          -1.1173077473185706,
          1.0446088188477756,
          1.852911740741861,
          -1.1175324433366667,
          -2.2258708967995493,
          0.9792422345661211,
          -1.7463125745079568,
          -1.5226158750715828,
          -1.117273613723427,
          1.0446017254997428,
          -1.120978340321939,
          -2.1506348626604423,
          -1.1172754114345917,
          -1.3090016616204416,
          -1.1658214862300904,
          1.2031383454035496,
          1.959512504851387,
          -0.9587521997365304,
          -2.20771488355877,
          -1.3090181684653213,
          1.9212958317476205,
          -0.9587514512599132,
          0.5461006231178845,
          -1.1173751186569822,
          -1.1173814044187789,
          0.8207037259499845,
          -2.023458168061914,
          1.8528960767054536,
          -2.1760745922925775,
          0.852375801293866,
          1.7540442138704746,
          -0.9587488115616335,
          -1.3089987482859518,
          0.9374767682444021,
          -1.117314425488541,
          -2.2712571937503365,
          0.8528784230909621,
          1.192881565794363,
          -1.1172957825821568,
          0.8528849895014697,
          -1.312985669731478,
          1.5571768182867047,
          1.0445892270819954,
          0.8206195314536415,
          -0.95877471171245,
          -2.2755155362850923,
          -1.1173639137455544,
          -2.222883392388871,
          1.2029387534794302,
          0.7811023674621391,
          0.8528691663816901,
          0.30810178284491346,
          1.544484996919299,
          -1.117283606617634,
          -0.9587543162549433,
          1.203144182700373,
          0.8527716607184663,
          0.8526174370531217,
          1.5537206523014964,
          1.2030728063393819,
          -1.1172754108700096,
          1.4413294890547188,
          1.0438305105548085,
          1.0445864691975297,
          1.0445896847203584,
          1.6289248077282414,
          -0.9587585066680836,
          0.9791294505583744,
          -1.5135078829868354,
          1.2031167575493005,
          1.0445755612859058,
          -2.317001341220525,
          0.8528779013816601,
          -1.3089978406267173,
          1.2031364701598333,
          1.0445981179481638,
          -1.7466266667642298,
          1.0446089799792089,
          -1.1173409466822999,
          0.8207802507511358,
          -1.3089973395190038,
          0.38193800946147827,
          -1.117287330807719,
          1.9652078465458118,
          1.5444749465923409,
          1.0446197607155203,
          1.2024366610309898,
          -2.272782605359248,
          1.5445183803454348,
          1.6290281704123575,
          1.841488463405516,
          1.5443359752938548,
          1.9654872371724685,
          -2.0234577123728448,
          -2.0557266496483577,
          1.9625626291535319,
          1.2031282596539632,
          -1.1224850536688462,
          -0.9587283546157159,
          1.8839356700084096,
          1.2031371107138735,
          1.5444794069933243,
          1.0445938146190987,
          1.0445869915540908,
          -0.958845148705065,
          1.544484996919299,
          1.203108239919153,
          0.8528824641451082,
          1.0445978146939774,
          0.534831939971545,
          1.0445973252243956,
          1.044268705615348,
          1.2031354684102813,
          -2.317009481926332,
          1.0445351921673542,
          0.8151069702624302,
          1.044602643501854,
          1.0446076999731047,
          1.489735350322841,
          0.63923428461847,
          -1.1172764230994352,
          -2.3170087325175603,
          -2.2076894955788715,
          1.0443526601234503,
          0.8528785604000588,
          1.2031348245303568,
          1.0446017995737518,
          -1.0113301195209292,
          1.0445968493022582,
          -2.2187263376361384,
          0.820694334460583,
          0.4317331500785932,
          -1.1172760056199948,
          1.6290259298344745,
          -0.9592630894484682,
          -2.0557240924278215,
          1.0444219869411255,
          -1.1172939825451587,
          -2.2076896099230288,
          0.8207164986565618,
          -2.2306265629429505,
          1.2030895541211974,
          2.004243678557611,
          1.203117547492368,
          -1.119364122343442,
          1.544468461812162,
          1.2030924072819675,
          -0.6081659619881893,
          1.5444146763790427,
          1.2029155205009845,
          1.0445989573343966,
          1.0445936182396953,
          1.0440808121716776,
          0.5894614182998049,
          1.2031225830282508,
          -1.1172871181262214,
          0.8197677495668643,
          -1.3098642181434126,
          1.5444767812490978,
          1.0445602025113436,
          1.7204413755498091,
          0.6289007714493159,
          -1.1173086213459298,
          1.4413153606691524,
          -2.2186643027286896,
          1.904764297171544,
          -2.227751507187191,
          -2.1875066202008844,
          -2.129666714095956,
          -2.3174364338631515,
          1.5537358048736571,
          -0.9587865582079114,
          1.5536978215879678,
          1.9706284836876207,
          -1.1172792782339085,
          1.8529060245100304,
          -1.1173131077333762,
          -0.9587685562421685,
          -0.958754862878111,
          1.0213119483599782,
          -2.3170223950629265,
          1.8529121041813466,
          -2.3079199908368495,
          -1.1671524432493539,
          -1.1262599634315922,
          1.4915207689059284,
          -0.9592844225439122,
          1.9706423175447108,
          -1.3089997729664713,
          1.2031371024064064,
          0.820719544991648,
          2.6884955770519423,
          -1.1228157316149585,
          1.5444575840762815,
          -1.0684606210906218,
          -1.117282537102372,
          -1.1173136630587823,
          -1.117316919824668,
          -1.117316554655042,
          1.0445895261190334,
          1.0446075352173039,
          -2.317042585270219,
          1.8537489050002038,
          1.4143541006168892,
          1.2031260604351093,
          -2.0650197471220046,
          0.6116553217826884,
          -0.9587729949970382,
          1.044600405084535,
          -1.5500923895194554,
          0.6304956668532763,
          -2.055722693860512,
          1.047957830159443,
          0.852867432827382,
          1.5532977918851185,
          1.9856489638230825,
          -2.2755725304228616,
          1.0445979703906736,
          1.7135305820302473,
          -1.1172939325062456,
          1.538697996134117,
          1.0446060996642192,
          0.6273258427710343,
          -0.9588706626790003,
          -1.5501011335614274,
          -2.0235962245105745,
          -1.5500943535684089,
          1.2030748822354829,
          1.9624261546519781,
          1.5476032889999751,
          1.8528664315112036,
          -1.7465186304668376,
          1.0445353872676488,
          -2.3552694589315815,
          -2.317003794508562,
          -2.0285517885169413,
          1.3298435957078614,
          1.4897349095205827,
          -0.9590085915042708,
          -2.219009245806285,
          1.0199010206389434,
          1.0445320402853504,
          -1.1185605155179665,
          1.2031268649042786,
          -1.2616191979135192,
          -0.9587547895332691,
          -1.5500879668155123,
          1.4896856727380572,
          -1.5502410677823475,
          -1.1172935418588428,
          1.0443351520510036,
          1.0446070619966672,
          0.9792422931301294,
          -0.9587550276988807,
          -1.3089985920247489,
          -1.2600117579970707,
          1.4413277809496805,
          -0.08545547591827671,
          0.2805894288281967,
          -2.8265360020448047,
          -2.0539408780669968,
          1.0445660606059233,
          -2.3171303166112516,
          -1.1191386046648641,
          -2.2755177850043595,
          -1.3078582033879207,
          1.6286851067046262,
          3.233275777726695,
          2.6955783913059235,
          -1.1172921546395305,
          -1.1220417814448025,
          -0.9589374977742201,
          0.9018735597197787,
          2.4788790199251185,
          1.2031253767777885,
          1.3818004453715205,
          0.820665655381816,
          1.6387586771052787,
          -2.0267982040917096,
          -2.3174990865275866,
          -1.1172849878608213,
          -2.20212410606406,
          1.5537179803604395,
          1.0446070234326295,
          1.044606082948109,
          -2.0557300650803088,
          0.8205497617260861,
          -2.272922866821336,
          1.4932268998166818,
          1.5444497554947254,
          1.0445958601821514,
          2.104011540395607,
          -0.9587876974530396,
          1.71356779825681,
          1.5444502899194823,
          -2.3170029765697446,
          0.5781877711541125,
          1.042384888270268,
          -0.6081478453363113,
          -2.207696986490582,
          0.7247872860286109,
          -2.1725201569087225,
          0.8207218518455509,
          -2.272777052310103,
          -2.3173153118919076,
          -2.2913686429962645,
          -2.399995479083793,
          1.0427077429756333,
          0.8207017457447436,
          -2.2906354603347485,
          1.9690371623285876,
          -2.31733522813011,
          1.0445713658332212,
          1.5301303598425668,
          0.186213548937576,
          1.4893976128581468,
          0.6289696480983117,
          1.717158360897819,
          -1.3597965167692567,
          -2.2772319398086798,
          -0.9587551619602683,
          0.802065017814094,
          1.4897310116135203,
          1.7136249365742384,
          0.8118155386440071,
          0.8543629455866276,
          1.4897094548329413,
          -1.1172864768588056,
          1.044082486062309,
          -2.219550577154992,
          -2.041444066512283,
          -0.7801574294739293,
          -2.354654477555999,
          0.9792294252996661,
          1.2031219484757916,
          0.8206219479016346,
          1.5443810952857981,
          -1.309386129294719,
          1.037305539075621,
          0.9792006399444075,
          -0.9587572648655259,
          1.035471954757503,
          2.5426705225813837,
          -1.3598370799038304,
          2.8493911266477294,
          -2.0582821885373037,
          1.1579219370963085,
          -2.272813567100534,
          -1.3089997740161081,
          0.9620576929675042,
          0.9851263989619556,
          -2.3206250485064333,
          1.7136091931770736,
          -2.1332003162102495,
          -2.1331532890490945,
          -0.11777063563077803,
          -2.2483458695002394,
          -1.1173265728862924,
          1.0446022808536046,
          -2.0558439761670404,
          1.7136218238767185,
          -2.0557251973093655,
          1.4897332806430355,
          1.015660345579914,
          -1.522666403303757,
          0.9792417190010357,
          1.044571006460825,
          1.3816360313071196,
          1.9667461715161831,
          1.2029214682850125,
          -1.3090107554974335,
          -0.3089697274268946,
          -1.3090546018002174,
          1.2031301142340376,
          1.962405323538008,
          1.0313686793117263,
          -1.169021374934327,
          1.2032206302727948,
          -1.5508847307285396,
          1.044503989935374,
          -2.13683114703715,
          1.0445867118437946,
          0.6289932386416431,
          1.0446116053731607,
          1.20302293787449,
          -1.1175366509483273,
          1.0394024851518677,
          0.858912164216626,
          1.2027788591982884,
          -1.3090091503979715,
          1.0446208833888506,
          -1.133560751489335,
          1.0445352588698684,
          -1.1661173655179171,
          1.2030968068309105,
          1.0445592604528016,
          1.5444852788146608,
          -1.1172762097213251,
          -1.1173475466235188,
          0.5191861660828302,
          0.8528588636592235,
          1.9625482348499268,
          0.8188544715427841,
          1.0445360358652835,
          0.6117726826541801,
          -1.7463351404525767,
          1.852914579765689,
          -2.1904018450157854,
          1.9629400126253045,
          -2.023457392331848,
          1.9629747744806239,
          0.6288164897009633,
          3.801724709064833,
          1.5444873362621918,
          1.6220691901154294,
          1.6810113172933745,
          0.8740601217573928,
          1.0444814953744959,
          -2.3174030043912874,
          -2.0557260751682453,
          0.8207218751640932
         ],
         "z": [
          -0.5429278300385784,
          -0.543175780255178,
          -0.5783465502058136,
          0.19647895045388653,
          0.3741141998870952,
          -0.012610720313599704,
          -0.5247410935956571,
          0.38515910839974005,
          0.3741112120674531,
          0.3127176059887161,
          -0.1251047894233061,
          0.39103373641076317,
          -0.3338495546529534,
          -0.06790922648621102,
          -0.012596990113465252,
          -0.7111676077620006,
          0.005590772955307011,
          -0.012598820284230133,
          -0.5429321523582645,
          -0.5430745852702548,
          0.3934298943528914,
          -0.01566206102396349,
          0.1964425927895441,
          -0.012627266390440867,
          -0.012597988098273756,
          -0.542956252174966,
          0.048152550790513705,
          0.1536430476891459,
          -0.012603598702562245,
          -0.5429278438554802,
          -0.012597325380606598,
          -0.5429280780050888,
          -0.012596681507519308,
          0.0055922099437550506,
          -0.33700742163589803,
          -0.37667797595097696,
          0.39002454563854333,
          0.19197961217212675,
          -0.015599265618656712,
          -0.0126004872948638,
          -0.012648434157073235,
          -0.012600248637954573,
          -0.13383349330313352,
          -0.5232834001970488,
          -0.012595843831027737,
          0.27919692792788187,
          -0.01281102952124337,
          -0.012611216730050428,
          -0.01260568845921658,
          -0.5429494051051227,
          -0.25918377206549015,
          -0.03424268181366137,
          -0.5247430843523109,
          0.1964782201294377,
          -0.01263258760579844,
          -0.012600113437126442,
          -0.0125957560183568,
          -0.45185502995166676,
          -0.012604637038305503,
          0.3239028235717285,
          -0.28190307420893784,
          -0.012596910559144069,
          -0.334241126529278,
          -0.27698897108506215,
          -0.5690907093893101,
          -0.013261736355067267,
          0.1964796873839208,
          -0.012675484667987395,
          -0.5690789466087993,
          -0.2510853091271124,
          -0.5429826128297266,
          -0.5429456940137312,
          -0.5496984490527079,
          -0.012595912897391147,
          -0.012603079299571164,
          -0.012601810096551832,
          -0.25880781830221666,
          -0.5247388323509284,
          0.1963460609064779,
          0.1294268291932747,
          0.19647282801809782,
          -0.15936819689306744,
          -0.524739242624931,
          0.1964776260699029,
          0.1964820935311576,
          0.1964832101551547,
          0.005593228939386865,
          -0.5431944175852668,
          -0.5429402307602147,
          -0.012601020704480432,
          -0.34127019841455236,
          0.1273526393102101,
          -0.012625233789053137,
          -0.5247404813325489,
          0.12942306880640655,
          0.19647384668130546,
          -0.5690830893578543,
          -0.5429699951885485,
          0.35901304330652034,
          0.40132261470997,
          -0.26225228921593513,
          -0.1919384402068148,
          -0.012612079655116293,
          -0.3338586597387695,
          -0.3766894632380057,
          -0.012704760839502503,
          -0.27699138343174556,
          -0.012628579505459663,
          -0.5690760090804813,
          -0.012595553184297129,
          -0.27702943357408377,
          -0.012631935810517117,
          -0.542928169035877,
          -0.5690771650669829,
          -0.012786517625217623,
          0.3521096965463816,
          -0.2587968879878219,
          0.3938207409305681,
          0.22245237477186133,
          -0.012597859013626776,
          -0.5429306699310537,
          -0.013740136657874753,
          0.462521867509364,
          -0.012595638201531189,
          0.19648021252805445,
          -0.013330209814736,
          -0.5247391816707933,
          -0.09531780171572163,
          0.005585802461770701,
          0.3876316486853608,
          0.19647942327276807,
          -0.5921309075307396,
          0.005589676216883717,
          -0.2558054638170232,
          -0.012604690295306215,
          -0.01261495030312844,
          -0.2770089992287584,
          0.37413651128760733,
          -0.5690811672797124,
          0.45199863365691506,
          -0.33386701209144254,
          -0.7111622484787123,
          0.005589715255276749,
          0.19647824134789862,
          -0.3695521510916017,
          -0.012645668065308771,
          0.4291962944801869,
          -0.3338501045209382,
          -0.5274905271733998,
          -0.012612290091425058,
          -0.33385034972338024,
          0.19128956755820875,
          -0.560724274578178,
          -0.5429302437524303,
          -0.27699621872784735,
          0.005582418443209579,
          0.35595903555795505,
          -0.012596981607326696,
          0.521393897565101,
          -0.5247443022679069,
          -0.2863144503410394,
          -0.3338504116426671,
          -0.32796285489148636,
          -0.13383696038471432,
          -0.012597167469605597,
          0.005590154630585608,
          -0.5247705073408866,
          -0.3338511360582247,
          -0.33385712225590075,
          -0.5584186626145052,
          -0.5247455746078828,
          -0.012595637477536104,
          -0.20943080012492277,
          -0.5431315906633224,
          -0.5429292294520794,
          -0.5429517242586768,
          -0.30313547307343686,
          0.005592989890063495,
          -0.25895309213315404,
          0.1539592819314007,
          -0.5247428259408801,
          -0.5429385181062837,
          0.40299570771096627,
          -0.33384938651427515,
          0.19648173874808722,
          -0.5247390079140403,
          -0.5429285940542357,
          0.3935952397933617,
          -0.5429282780584024,
          -0.012624073512202122,
          -0.2770242748911737,
          0.19648107034327358,
          -0.28688509706619036,
          -0.01259829780872317,
          -0.5611546503630962,
          -0.13384987107688226,
          -0.5429355723713455,
          -0.5248119400577972,
          0.3606287409757037,
          -0.13386684807869623,
          -0.30313331850431713,
          -0.7389516148984231,
          -0.13383870062239872,
          -0.5567831913943749,
          0.37413280863999804,
          0.3127180146675801,
          -0.26299814099735735,
          -0.5247433080377385,
          -0.012720685077700914,
          0.0053992067382515,
          -0.5903747602425844,
          -0.5247397527938743,
          -0.1338441286537539,
          -0.5429320847568214,
          -0.5429287311804075,
          0.005577514400241312,
          -0.13383696038471432,
          -0.5247407130087697,
          -0.33385210869335796,
          -0.5429327690496024,
          -0.4234861450152362,
          -0.5429306127968583,
          -0.5429355468629886,
          -0.524739060153928,
          0.40299720059881544,
          -0.5429309149163246,
          -0.28505412793775226,
          -0.5429287359525342,
          -0.5429286223107997,
          -0.21617769405482198,
          -0.30788610583160303,
          -0.012595718339006334,
          0.4029952334845246,
          0.387634834875134,
          -0.5429373579162983,
          -0.3338498324102045,
          -0.5247402137757412,
          -0.5429307200499867,
          0.004670902155897272,
          -0.5429280763610296,
          0.3851590702953888,
          -0.2769862192175262,
          -0.09854348019852972,
          -0.012596236503423694,
          -0.30313619172037465,
          0.00557850417775174,
          0.31271774449600653,
          -0.5431667723298621,
          -0.012619348246306146,
          0.3876308970766266,
          -0.2769937059872272,
          0.37380262466058606,
          -0.5247426706789252,
          -0.6037426129513794,
          -0.524765261316385,
          -0.012642237024065929,
          -0.1338587298368163,
          -0.5247446011451695,
          -0.028069053984500228,
          -0.13392808674092935,
          -0.5247709244214228,
          -0.542929239415488,
          -0.5429283236370075,
          -0.5429359313682796,
          -0.06852851756400033,
          -0.5247431173468207,
          -0.012600456738699549,
          -0.27706924015822637,
          0.1961589516285469,
          -0.13383505176057273,
          -0.542933601488096,
          -0.7212681035387586,
          -0.06791034291637019,
          -0.01259922312533096,
          -0.20944551426387126,
          0.3851462982863971,
          -0.5898005186575341,
          0.4063781980092599,
          0.4596094063868665,
          0.46685137233737467,
          0.4025637143984778,
          -0.5583997137451432,
          0.005584593616690383,
          -0.5584141656599299,
          -0.6180305002590557,
          -0.012599832102046835,
          -0.5690805977275085,
          -0.012597282652561523,
          0.005587013971955569,
          0.005592751070210925,
          -0.5454161081531855,
          0.4029938922146702,
          -0.5690806589436217,
          0.3655261447837862,
          -0.051851287295196065,
          0.13717727963868104,
          -0.14397361632181885,
          0.0055564367903349985,
          -0.6180398603324226,
          0.19647893465308322,
          -0.5247418109469825,
          -0.2769895544083742,
          4.509533801047233,
          -0.012679453791233378,
          -0.13383359729323693,
          -0.04562380149357885,
          -0.012597891110254522,
          -0.01260019205022305,
          -0.012603828740961245,
          -0.012604075816991153,
          -0.5429327281560147,
          -0.5429288335862106,
          0.40299481806931925,
          -0.12444935624969654,
          -0.12085568341195481,
          -0.5247407249878876,
          0.3113481339780763,
          -0.2511299110575858,
          0.00495489130210166,
          -0.5429282191328387,
          0.27924662687286816,
          -0.13703022040818533,
          0.3127153381570295,
          -0.5543195037990913,
          -0.3338711396042217,
          -0.5585377191983851,
          -0.4249202651150552,
          0.35595149430268436,
          -0.542928494215924,
          -0.4821265603521452,
          -0.01261938210294454,
          -0.09060959618777094,
          -0.5429317271608067,
          -0.07005683697264685,
          0.005550245492884505,
          0.27924597287726965,
          0.3741338880454626,
          0.27924620368894076,
          -0.5247488042466333,
          -0.26304268209913434,
          -0.5651972129498852,
          -0.5691195115447424,
          0.393719249821784,
          -0.5429551379070392,
          0.39786553515548595,
          0.40299645508354603,
          0.3739389083256168,
          -0.29245922630744947,
          -0.2161792208798792,
          0.005570566006346048,
          0.38505318981058645,
          -0.544461465720587,
          -0.5429309724229576,
          -0.013550977296696886,
          -0.5247496646398437,
          0.15311461938451043,
          0.00559237293120972,
          0.27924582453350794,
          -0.21618240845983525,
          0.2791745714495263,
          -0.012606505880316024,
          -0.5430715178136288,
          -0.5429284403992138,
          -0.2587972926275114,
          0.0055913660277967835,
          0.19647844004304363,
          0.1313136198925912,
          -0.20942654178366674,
          0.10974906881867051,
          -0.3779161463232321,
          0.3827387455435305,
          0.5010189781332935,
          -0.5429839220058622,
          0.4029639783953941,
          -0.014984913195202915,
          0.3559350060110122,
          0.12720765576428636,
          -0.3031922988279551,
          14.142386031753373,
          19.1143995279964,
          -0.012598684123438866,
          -0.016089278873736977,
          0.005540714294322085,
          -0.3990185370875859,
          10.106978251898875,
          -0.5247395323912737,
          -0.29737410565963807,
          -0.2769920008046539,
          -0.014814857655771847,
          0.3740299744613532,
          0.40297112049808204,
          -0.012596597926831344,
          0.37988526998587696,
          -0.5584022541658852,
          -0.5429280492916284,
          -0.5429281429838163,
          0.31270243983896046,
          -0.2770508320490726,
          0.3606219495930545,
          -0.09383941452226922,
          -0.1338379368331161,
          -0.5429303515700419,
          -0.10753027870025712,
          0.005585364436998404,
          -0.4821517410814827,
          -0.1338353783088643,
          0.4029937480730558,
          -0.14106674122799964,
          -0.5432930324455985,
          -0.02807136443677033,
          0.38763396082913704,
          -0.028442771663194477,
          0.34502350470233517,
          -0.2769942522179367,
          0.3606289624108841,
          0.40299278322012033,
          0.3282775145523542,
          0.3919909603656293,
          -0.5453650415019793,
          -0.2769872185741726,
          0.38178231494821546,
          -0.556481792246985,
          0.402860252891729,
          -0.5429334893475052,
          -0.44522390152518104,
          -0.4775113385482779,
          -0.21618096326842048,
          -0.06792050876615961,
          -0.22565850422053224,
          0.1233221970239945,
          0.31528129676040684,
          0.005592186899720669,
          -0.40701727664609366,
          -0.21617694854674363,
          -0.482119278428926,
          -0.2771201470004796,
          -0.4029707093345745,
          -0.216191199274116,
          -0.01259599389905945,
          -0.5429370639330455,
          0.38514550750950793,
          0.4677452135496592,
          0.23295372742297696,
          0.30381755223364604,
          -0.25880099668098433,
          -0.5247463381538864,
          -0.27701207008189427,
          -0.13383601273071324,
          0.19598147972072638,
          -0.39260155737806623,
          -0.25879794600272604,
          0.0055921496787637035,
          -0.5433163787565791,
          -0.04478663601735401,
          0.12332119875997172,
          10.412784338529177,
          0.3116806600335533,
          -0.03143277153169158,
          0.3606268399476521,
          0.19647893536327435,
          0.42401445335859156,
          -0.2627708497547547,
          0.40250186010330663,
          -0.4821264569626938,
          0.4430103079020353,
          0.44300765051401747,
          0.04832591317363454,
          0.36013854542096024,
          -0.012604597718071854,
          -0.5429314107018337,
          0.312709137909224,
          -0.4821222405902939,
          0.3127134234685367,
          -0.2161756987223324,
          -0.5506445687058275,
          0.22245006099473416,
          -0.2587964296488171,
          -0.5429332461939168,
          -0.29742346864991837,
          -0.556720266779967,
          -0.5247457475354129,
          0.1964706698600241,
          -0.03874339335923863,
          0.19646237498842092,
          -0.5247445628581009,
          -0.2632110950978852,
          -0.5467453308035232,
          -0.013391736308834125,
          -0.5247948561228376,
          0.27833252556837285,
          -0.5429302441284193,
          0.44295021645834204,
          -0.5429330155929718,
          -0.06790753838652194,
          -0.5429300544162063,
          -0.5248436036814712,
          -0.012783670729114533,
          -0.5432381880677399,
          -0.33799389363421445,
          -0.5248609659972531,
          0.19647761416800488,
          -0.5429418072028559,
          -0.019827396106938257,
          -0.5430244038668964,
          0.15363739485866196,
          -0.5247869995184675,
          -0.5429530399059925,
          -0.13383313595275356,
          -0.012596697031666939,
          -0.012613037682565626,
          -0.47114237646127244,
          -0.33386716672657935,
          -0.26300114745935216,
          -0.27937465508184545,
          -0.5429884280949157,
          -0.25108527445295026,
          0.3938349871466548,
          -0.5690754796206854,
          0.46240340073924463,
          -0.2632078541262764,
          0.37413321904607805,
          -0.26323137421283144,
          -0.06814529856441984,
          14.282379856750687,
          -0.133834394490134,
          -0.6656693663126496,
          -0.04845511611972036,
          -0.10570223607712916,
          -0.5429332749151863,
          0.402760023506186,
          0.3127176259707788,
          -0.27698514262243445
         ]
        }
       ],
       "layout": {
        "coloraxis": {
         "colorbar": {
          "title": {
           "text": "Class"
          }
         },
         "colorscale": [
          [
           0,
           "#0d0887"
          ],
          [
           0.1111111111111111,
           "#46039f"
          ],
          [
           0.2222222222222222,
           "#7201a8"
          ],
          [
           0.3333333333333333,
           "#9c179e"
          ],
          [
           0.4444444444444444,
           "#bd3786"
          ],
          [
           0.5555555555555556,
           "#d8576b"
          ],
          [
           0.6666666666666666,
           "#ed7953"
          ],
          [
           0.7777777777777778,
           "#fb9f3a"
          ],
          [
           0.8888888888888888,
           "#fdca26"
          ],
          [
           1,
           "#f0f921"
          ]
         ]
        },
        "legend": {
         "tracegroupgap": 0
        },
        "margin": {
         "t": 60
        },
        "scene": {
         "domain": {
          "x": [
           0,
           1
          ],
          "y": [
           0,
           1
          ]
         },
         "xaxis": {
          "title": {
           "text": "PC1"
          }
         },
         "yaxis": {
          "title": {
           "text": "PC2"
          }
         },
         "zaxis": {
          "title": {
           "text": "PC3"
          }
         }
        },
        "template": {
         "data": {
          "bar": [
           {
            "error_x": {
             "color": "#2a3f5f"
            },
            "error_y": {
             "color": "#2a3f5f"
            },
            "marker": {
             "line": {
              "color": "#E5ECF6",
              "width": 0.5
             }
            },
            "type": "bar"
           }
          ],
          "barpolar": [
           {
            "marker": {
             "line": {
              "color": "#E5ECF6",
              "width": 0.5
             }
            },
            "type": "barpolar"
           }
          ],
          "carpet": [
           {
            "aaxis": {
             "endlinecolor": "#2a3f5f",
             "gridcolor": "white",
             "linecolor": "white",
             "minorgridcolor": "white",
             "startlinecolor": "#2a3f5f"
            },
            "baxis": {
             "endlinecolor": "#2a3f5f",
             "gridcolor": "white",
             "linecolor": "white",
             "minorgridcolor": "white",
             "startlinecolor": "#2a3f5f"
            },
            "type": "carpet"
           }
          ],
          "choropleth": [
           {
            "colorbar": {
             "outlinewidth": 0,
             "ticks": ""
            },
            "type": "choropleth"
           }
          ],
          "contour": [
           {
            "colorbar": {
             "outlinewidth": 0,
             "ticks": ""
            },
            "colorscale": [
             [
              0,
              "#0d0887"
             ],
             [
              0.1111111111111111,
              "#46039f"
             ],
             [
              0.2222222222222222,
              "#7201a8"
             ],
             [
              0.3333333333333333,
              "#9c179e"
             ],
             [
              0.4444444444444444,
              "#bd3786"
             ],
             [
              0.5555555555555556,
              "#d8576b"
             ],
             [
              0.6666666666666666,
              "#ed7953"
             ],
             [
              0.7777777777777778,
              "#fb9f3a"
             ],
             [
              0.8888888888888888,
              "#fdca26"
             ],
             [
              1,
              "#f0f921"
             ]
            ],
            "type": "contour"
           }
          ],
          "contourcarpet": [
           {
            "colorbar": {
             "outlinewidth": 0,
             "ticks": ""
            },
            "type": "contourcarpet"
           }
          ],
          "heatmap": [
           {
            "colorbar": {
             "outlinewidth": 0,
             "ticks": ""
            },
            "colorscale": [
             [
              0,
              "#0d0887"
             ],
             [
              0.1111111111111111,
              "#46039f"
             ],
             [
              0.2222222222222222,
              "#7201a8"
             ],
             [
              0.3333333333333333,
              "#9c179e"
             ],
             [
              0.4444444444444444,
              "#bd3786"
             ],
             [
              0.5555555555555556,
              "#d8576b"
             ],
             [
              0.6666666666666666,
              "#ed7953"
             ],
             [
              0.7777777777777778,
              "#fb9f3a"
             ],
             [
              0.8888888888888888,
              "#fdca26"
             ],
             [
              1,
              "#f0f921"
             ]
            ],
            "type": "heatmap"
           }
          ],
          "heatmapgl": [
           {
            "colorbar": {
             "outlinewidth": 0,
             "ticks": ""
            },
            "colorscale": [
             [
              0,
              "#0d0887"
             ],
             [
              0.1111111111111111,
              "#46039f"
             ],
             [
              0.2222222222222222,
              "#7201a8"
             ],
             [
              0.3333333333333333,
              "#9c179e"
             ],
             [
              0.4444444444444444,
              "#bd3786"
             ],
             [
              0.5555555555555556,
              "#d8576b"
             ],
             [
              0.6666666666666666,
              "#ed7953"
             ],
             [
              0.7777777777777778,
              "#fb9f3a"
             ],
             [
              0.8888888888888888,
              "#fdca26"
             ],
             [
              1,
              "#f0f921"
             ]
            ],
            "type": "heatmapgl"
           }
          ],
          "histogram": [
           {
            "marker": {
             "colorbar": {
              "outlinewidth": 0,
              "ticks": ""
             }
            },
            "type": "histogram"
           }
          ],
          "histogram2d": [
           {
            "colorbar": {
             "outlinewidth": 0,
             "ticks": ""
            },
            "colorscale": [
             [
              0,
              "#0d0887"
             ],
             [
              0.1111111111111111,
              "#46039f"
             ],
             [
              0.2222222222222222,
              "#7201a8"
             ],
             [
              0.3333333333333333,
              "#9c179e"
             ],
             [
              0.4444444444444444,
              "#bd3786"
             ],
             [
              0.5555555555555556,
              "#d8576b"
             ],
             [
              0.6666666666666666,
              "#ed7953"
             ],
             [
              0.7777777777777778,
              "#fb9f3a"
             ],
             [
              0.8888888888888888,
              "#fdca26"
             ],
             [
              1,
              "#f0f921"
             ]
            ],
            "type": "histogram2d"
           }
          ],
          "histogram2dcontour": [
           {
            "colorbar": {
             "outlinewidth": 0,
             "ticks": ""
            },
            "colorscale": [
             [
              0,
              "#0d0887"
             ],
             [
              0.1111111111111111,
              "#46039f"
             ],
             [
              0.2222222222222222,
              "#7201a8"
             ],
             [
              0.3333333333333333,
              "#9c179e"
             ],
             [
              0.4444444444444444,
              "#bd3786"
             ],
             [
              0.5555555555555556,
              "#d8576b"
             ],
             [
              0.6666666666666666,
              "#ed7953"
             ],
             [
              0.7777777777777778,
              "#fb9f3a"
             ],
             [
              0.8888888888888888,
              "#fdca26"
             ],
             [
              1,
              "#f0f921"
             ]
            ],
            "type": "histogram2dcontour"
           }
          ],
          "mesh3d": [
           {
            "colorbar": {
             "outlinewidth": 0,
             "ticks": ""
            },
            "type": "mesh3d"
           }
          ],
          "parcoords": [
           {
            "line": {
             "colorbar": {
              "outlinewidth": 0,
              "ticks": ""
             }
            },
            "type": "parcoords"
           }
          ],
          "pie": [
           {
            "automargin": true,
            "type": "pie"
           }
          ],
          "scatter": [
           {
            "marker": {
             "colorbar": {
              "outlinewidth": 0,
              "ticks": ""
             }
            },
            "type": "scatter"
           }
          ],
          "scatter3d": [
           {
            "line": {
             "colorbar": {
              "outlinewidth": 0,
              "ticks": ""
             }
            },
            "marker": {
             "colorbar": {
              "outlinewidth": 0,
              "ticks": ""
             }
            },
            "type": "scatter3d"
           }
          ],
          "scattercarpet": [
           {
            "marker": {
             "colorbar": {
              "outlinewidth": 0,
              "ticks": ""
             }
            },
            "type": "scattercarpet"
           }
          ],
          "scattergeo": [
           {
            "marker": {
             "colorbar": {
              "outlinewidth": 0,
              "ticks": ""
             }
            },
            "type": "scattergeo"
           }
          ],
          "scattergl": [
           {
            "marker": {
             "colorbar": {
              "outlinewidth": 0,
              "ticks": ""
             }
            },
            "type": "scattergl"
           }
          ],
          "scattermapbox": [
           {
            "marker": {
             "colorbar": {
              "outlinewidth": 0,
              "ticks": ""
             }
            },
            "type": "scattermapbox"
           }
          ],
          "scatterpolar": [
           {
            "marker": {
             "colorbar": {
              "outlinewidth": 0,
              "ticks": ""
             }
            },
            "type": "scatterpolar"
           }
          ],
          "scatterpolargl": [
           {
            "marker": {
             "colorbar": {
              "outlinewidth": 0,
              "ticks": ""
             }
            },
            "type": "scatterpolargl"
           }
          ],
          "scatterternary": [
           {
            "marker": {
             "colorbar": {
              "outlinewidth": 0,
              "ticks": ""
             }
            },
            "type": "scatterternary"
           }
          ],
          "surface": [
           {
            "colorbar": {
             "outlinewidth": 0,
             "ticks": ""
            },
            "colorscale": [
             [
              0,
              "#0d0887"
             ],
             [
              0.1111111111111111,
              "#46039f"
             ],
             [
              0.2222222222222222,
              "#7201a8"
             ],
             [
              0.3333333333333333,
              "#9c179e"
             ],
             [
              0.4444444444444444,
              "#bd3786"
             ],
             [
              0.5555555555555556,
              "#d8576b"
             ],
             [
              0.6666666666666666,
              "#ed7953"
             ],
             [
              0.7777777777777778,
              "#fb9f3a"
             ],
             [
              0.8888888888888888,
              "#fdca26"
             ],
             [
              1,
              "#f0f921"
             ]
            ],
            "type": "surface"
           }
          ],
          "table": [
           {
            "cells": {
             "fill": {
              "color": "#EBF0F8"
             },
             "line": {
              "color": "white"
             }
            },
            "header": {
             "fill": {
              "color": "#C8D4E3"
             },
             "line": {
              "color": "white"
             }
            },
            "type": "table"
           }
          ]
         },
         "layout": {
          "annotationdefaults": {
           "arrowcolor": "#2a3f5f",
           "arrowhead": 0,
           "arrowwidth": 1
          },
          "autotypenumbers": "strict",
          "coloraxis": {
           "colorbar": {
            "outlinewidth": 0,
            "ticks": ""
           }
          },
          "colorscale": {
           "diverging": [
            [
             0,
             "#8e0152"
            ],
            [
             0.1,
             "#c51b7d"
            ],
            [
             0.2,
             "#de77ae"
            ],
            [
             0.3,
             "#f1b6da"
            ],
            [
             0.4,
             "#fde0ef"
            ],
            [
             0.5,
             "#f7f7f7"
            ],
            [
             0.6,
             "#e6f5d0"
            ],
            [
             0.7,
             "#b8e186"
            ],
            [
             0.8,
             "#7fbc41"
            ],
            [
             0.9,
             "#4d9221"
            ],
            [
             1,
             "#276419"
            ]
           ],
           "sequential": [
            [
             0,
             "#0d0887"
            ],
            [
             0.1111111111111111,
             "#46039f"
            ],
            [
             0.2222222222222222,
             "#7201a8"
            ],
            [
             0.3333333333333333,
             "#9c179e"
            ],
            [
             0.4444444444444444,
             "#bd3786"
            ],
            [
             0.5555555555555556,
             "#d8576b"
            ],
            [
             0.6666666666666666,
             "#ed7953"
            ],
            [
             0.7777777777777778,
             "#fb9f3a"
            ],
            [
             0.8888888888888888,
             "#fdca26"
            ],
            [
             1,
             "#f0f921"
            ]
           ],
           "sequentialminus": [
            [
             0,
             "#0d0887"
            ],
            [
             0.1111111111111111,
             "#46039f"
            ],
            [
             0.2222222222222222,
             "#7201a8"
            ],
            [
             0.3333333333333333,
             "#9c179e"
            ],
            [
             0.4444444444444444,
             "#bd3786"
            ],
            [
             0.5555555555555556,
             "#d8576b"
            ],
            [
             0.6666666666666666,
             "#ed7953"
            ],
            [
             0.7777777777777778,
             "#fb9f3a"
            ],
            [
             0.8888888888888888,
             "#fdca26"
            ],
            [
             1,
             "#f0f921"
            ]
           ]
          },
          "colorway": [
           "#636efa",
           "#EF553B",
           "#00cc96",
           "#ab63fa",
           "#FFA15A",
           "#19d3f3",
           "#FF6692",
           "#B6E880",
           "#FF97FF",
           "#FECB52"
          ],
          "font": {
           "color": "#2a3f5f"
          },
          "geo": {
           "bgcolor": "white",
           "lakecolor": "white",
           "landcolor": "#E5ECF6",
           "showlakes": true,
           "showland": true,
           "subunitcolor": "white"
          },
          "hoverlabel": {
           "align": "left"
          },
          "hovermode": "closest",
          "mapbox": {
           "style": "light"
          },
          "paper_bgcolor": "white",
          "plot_bgcolor": "#E5ECF6",
          "polar": {
           "angularaxis": {
            "gridcolor": "white",
            "linecolor": "white",
            "ticks": ""
           },
           "bgcolor": "#E5ECF6",
           "radialaxis": {
            "gridcolor": "white",
            "linecolor": "white",
            "ticks": ""
           }
          },
          "scene": {
           "xaxis": {
            "backgroundcolor": "#E5ECF6",
            "gridcolor": "white",
            "gridwidth": 2,
            "linecolor": "white",
            "showbackground": true,
            "ticks": "",
            "zerolinecolor": "white"
           },
           "yaxis": {
            "backgroundcolor": "#E5ECF6",
            "gridcolor": "white",
            "gridwidth": 2,
            "linecolor": "white",
            "showbackground": true,
            "ticks": "",
            "zerolinecolor": "white"
           },
           "zaxis": {
            "backgroundcolor": "#E5ECF6",
            "gridcolor": "white",
            "gridwidth": 2,
            "linecolor": "white",
            "showbackground": true,
            "ticks": "",
            "zerolinecolor": "white"
           }
          },
          "shapedefaults": {
           "line": {
            "color": "#2a3f5f"
           }
          },
          "ternary": {
           "aaxis": {
            "gridcolor": "white",
            "linecolor": "white",
            "ticks": ""
           },
           "baxis": {
            "gridcolor": "white",
            "linecolor": "white",
            "ticks": ""
           },
           "bgcolor": "#E5ECF6",
           "caxis": {
            "gridcolor": "white",
            "linecolor": "white",
            "ticks": ""
           }
          },
          "title": {
           "x": 0.05
          },
          "xaxis": {
           "automargin": true,
           "gridcolor": "white",
           "linecolor": "white",
           "ticks": "",
           "title": {
            "standoff": 15
           },
           "zerolinecolor": "white",
           "zerolinewidth": 2
          },
          "yaxis": {
           "automargin": true,
           "gridcolor": "white",
           "linecolor": "white",
           "ticks": "",
           "title": {
            "standoff": 15
           },
           "zerolinecolor": "white",
           "zerolinewidth": 2
          }
         }
        }
       }
      },
      "text/html": [
       "<div>                            <div id=\"a53c0377-13e0-44fc-87c6-f3e67e1bb21e\" class=\"plotly-graph-div\" style=\"height:525px; width:100%;\"></div>            <script type=\"text/javascript\">                require([\"plotly\"], function(Plotly) {                    window.PLOTLYENV=window.PLOTLYENV || {};                                    if (document.getElementById(\"a53c0377-13e0-44fc-87c6-f3e67e1bb21e\")) {                    Plotly.newPlot(                        \"a53c0377-13e0-44fc-87c6-f3e67e1bb21e\",                        [{\"customdata\": [[\"Scrypt\"], [\"Scrypt\"], [\"X13\"], [\"SHA-256\"], [\"Ethash\"], [\"Scrypt\"], [\"X11\"], [\"CryptoNight-V7\"], [\"Ethash\"], [\"Equihash\"], [\"SHA-512\"], [\"Multiple\"], [\"SHA-256\"], [\"SHA-256\"], [\"Scrypt\"], [\"X15\"], [\"X11\"], [\"Scrypt\"], [\"Scrypt\"], [\"Scrypt\"], [\"Multiple\"], [\"Scrypt\"], [\"SHA-256\"], [\"Scrypt\"], [\"Scrypt\"], [\"Scrypt\"], [\"Quark\"], [\"Groestl\"], [\"Scrypt\"], [\"Scrypt\"], [\"Scrypt\"], [\"Scrypt\"], [\"Scrypt\"], [\"X11\"], [\"Scrypt\"], [\"Groestl\"], [\"Multiple\"], [\"SHA-256\"], [\"Scrypt\"], [\"Scrypt\"], [\"Scrypt\"], [\"Scrypt\"], [\"PoS\"], [\"Scrypt\"], [\"Scrypt\"], [\"NeoScrypt\"], [\"Scrypt\"], [\"Scrypt\"], [\"Scrypt\"], [\"Scrypt\"], [\"X11\"], [\"Scrypt\"], [\"X11\"], [\"SHA-256\"], [\"Scrypt\"], [\"Scrypt\"], [\"Scrypt\"], [\"SHA3\"], [\"Scrypt\"], [\"HybridScryptHash256\"], [\"Scrypt\"], [\"Scrypt\"], [\"SHA-256\"], [\"Scrypt\"], [\"X13\"], [\"Scrypt\"], [\"SHA-256\"], [\"Scrypt\"], [\"X13\"], [\"NeoScrypt\"], [\"Scrypt\"], [\"Scrypt\"], [\"Scrypt\"], [\"Scrypt\"], [\"Scrypt\"], [\"Scrypt\"], [\"X11\"], [\"X11\"], [\"SHA-256\"], [\"Multiple\"], [\"SHA-256\"], [\"PHI1612\"], [\"X11\"], [\"SHA-256\"], [\"SHA-256\"], [\"SHA-256\"], [\"X11\"], [\"Scrypt\"], [\"Scrypt\"], [\"Scrypt\"], [\"Scrypt\"], [\"Lyra2REv2\"], [\"Scrypt\"], [\"X11\"], [\"Multiple\"], [\"SHA-256\"], [\"X13\"], [\"Scrypt\"], [\"CryptoNight\"], [\"CryptoNight\"], [\"Shabal256\"], [\"Counterparty\"], [\"Scrypt\"], [\"SHA-256\"], [\"Groestl\"], [\"Scrypt\"], [\"Scrypt\"], [\"Scrypt\"], [\"X13\"], [\"Scrypt\"], [\"Scrypt\"], [\"Scrypt\"], [\"Scrypt\"], [\"X13\"], [\"Scrypt\"], [\"Stanford Folding\"], [\"X11\"], [\"Multiple\"], [\"QuBit\"], [\"Scrypt\"], [\"Scrypt\"], [\"Scrypt\"], [\"M7 POW\"], [\"Scrypt\"], [\"SHA-256\"], [\"Scrypt\"], [\"X11\"], [\"SHA3\"], [\"X11\"], [\"Lyra2RE\"], [\"SHA-256\"], [\"QUAIT\"], [\"X11\"], [\"X11\"], [\"Scrypt\"], [\"Scrypt\"], [\"Scrypt\"], [\"Ethash\"], [\"X13\"], [\"Blake2b\"], [\"SHA-256\"], [\"X15\"], [\"X11\"], [\"SHA-256\"], [\"BLAKE256\"], [\"Scrypt\"], [\"1GB AES Pattern Search\"], [\"SHA-256\"], [\"X11\"], [\"Scrypt\"], [\"SHA-256\"], [\"SHA-256\"], [\"NIST5\"], [\"Scrypt\"], [\"Scrypt\"], [\"X11\"], [\"Dagger\"], [\"Scrypt\"], [\"X11GOST\"], [\"X11\"], [\"Scrypt\"], [\"SHA-256\"], [\"Scrypt\"], [\"PoS\"], [\"Scrypt\"], [\"X11\"], [\"X11\"], [\"SHA-256\"], [\"SHA-256\"], [\"NIST5\"], [\"X11\"], [\"Scrypt\"], [\"POS 3.0\"], [\"Scrypt\"], [\"Scrypt\"], [\"Scrypt\"], [\"X13\"], [\"X11\"], [\"X11\"], [\"Equihash\"], [\"X11\"], [\"Scrypt\"], [\"CryptoNight\"], [\"SHA-256\"], [\"SHA-256\"], [\"X11\"], [\"Scrypt\"], [\"Multiple\"], [\"Scrypt\"], [\"Scrypt\"], [\"Scrypt\"], [\"SHA-256\"], [\"Scrypt\"], [\"Scrypt\"], [\"SHA-256D\"], [\"PoS\"], [\"Scrypt\"], [\"X11\"], [\"Lyra2Z\"], [\"PoS\"], [\"X13\"], [\"X14\"], [\"PoS\"], [\"SHA-256D\"], [\"Ethash\"], [\"Equihash\"], [\"DPoS\"], [\"X11\"], [\"Scrypt\"], [\"X11\"], [\"X13\"], [\"X11\"], [\"PoS\"], [\"Scrypt\"], [\"Scrypt\"], [\"X11\"], [\"PoS\"], [\"X11\"], [\"SHA-256\"], [\"Scrypt\"], [\"X11\"], [\"Scrypt\"], [\"Scrypt\"], [\"X11\"], [\"CryptoNight\"], [\"Scrypt\"], [\"Scrypt\"], [\"Scrypt\"], [\"Scrypt\"], [\"Quark\"], [\"QuBit\"], [\"Scrypt\"], [\"CryptoNight\"], [\"Lyra2RE\"], [\"Scrypt\"], [\"SHA-256\"], [\"X11\"], [\"Scrypt\"], [\"X11\"], [\"Scrypt\"], [\"CryptoNight-V7\"], [\"Scrypt\"], [\"Scrypt\"], [\"Scrypt\"], [\"X13\"], [\"X11\"], [\"Equihash\"], [\"Scrypt\"], [\"Scrypt\"], [\"Lyra2RE\"], [\"Scrypt\"], [\"Dagger-Hashimoto\"], [\"X11\"], [\"Blake2S\"], [\"X11\"], [\"Scrypt\"], [\"PoS\"], [\"X11\"], [\"NIST5\"], [\"PoS\"], [\"X11\"], [\"Scrypt\"], [\"Scrypt\"], [\"Scrypt\"], [\"SHA-256\"], [\"X11\"], [\"Scrypt\"], [\"Scrypt\"], [\"SHA-256\"], [\"PoS\"], [\"Scrypt\"], [\"X15\"], [\"SHA-256\"], [\"Scrypt\"], [\"POS 3.0\"], [\"CryptoNight-V7\"], [\"536\"], [\"Argon2d\"], [\"Blake2b\"], [\"Cloverhash\"], [\"CryptoNight\"], [\"NIST5\"], [\"X11\"], [\"NIST5\"], [\"Skein\"], [\"Scrypt\"], [\"X13\"], [\"Scrypt\"], [\"X11\"], [\"X11\"], [\"Scrypt\"], [\"CryptoNight\"], [\"X13\"], [\"Time Travel\"], [\"Scrypt\"], [\"Keccak\"], [\"SkunkHash v2 Raptor\"], [\"X11\"], [\"Skein\"], [\"SHA-256\"], [\"X11\"], [\"Scrypt\"], [\"VeChainThor Authority\"], [\"Scrypt\"], [\"PoS\"], [\"Scrypt\"], [\"Scrypt\"], [\"Scrypt\"], [\"Scrypt\"], [\"Scrypt\"], [\"Scrypt\"], [\"Scrypt\"], [\"CryptoNight\"], [\"SHA-512\"], [\"Ouroboros\"], [\"X11\"], [\"Equihash\"], [\"NeoScrypt\"], [\"X11\"], [\"Scrypt\"], [\"NeoScrypt\"], [\"Lyra2REv2\"], [\"Equihash\"], [\"Scrypt\"], [\"SHA-256\"], [\"NIST5\"], [\"PHI1612\"], [\"Dagger\"], [\"Scrypt\"], [\"Quark\"], [\"Scrypt\"], [\"POS 2.0\"], [\"Scrypt\"], [\"SHA-256\"], [\"X11\"], [\"NeoScrypt\"], [\"Ethash\"], [\"NeoScrypt\"], [\"X11\"], [\"DPoS\"], [\"NIST5\"], [\"X13\"], [\"Multiple\"], [\"Scrypt\"], [\"CryptoNight\"], [\"CryptoNight\"], [\"Ethash\"], [\"NIST5\"], [\"Quark\"], [\"X11\"], [\"CryptoNight-V7\"], [\"Scrypt\"], [\"Scrypt\"], [\"Scrypt\"], [\"X11\"], [\"BLAKE256\"], [\"X11\"], [\"NeoScrypt\"], [\"Quark\"], [\"NeoScrypt\"], [\"Scrypt\"], [\"Scrypt\"], [\"Scrypt\"], [\"X11\"], [\"X11\"], [\"SHA-256\"], [\"C11\"], [\"POS 3.0\"], [\"Ethash\"], [\"Scrypt\"], [\"CryptoNight\"], [\"SkunkHash\"], [\"Scrypt\"], [\"CryptoNight\"], [\"Scrypt\"], [\"Dagger\"], [\"Lyra2REv2\"], [\"X13\"], [\"Proof-of-BibleHash\"], [\"SHA-256 + Hive\"], [\"Scrypt\"], [\"Scrypt\"], [\"X11\"], [\"C11\"], [\"Proof-of-Authority\"], [\"X11\"], [\"XEVAN\"], [\"Scrypt\"], [\"VBFT\"], [\"Ethash\"], [\"CryptoNight\"], [\"Scrypt\"], [\"IMesh\"], [\"NIST5\"], [\"Scrypt\"], [\"Scrypt\"], [\"Equihash\"], [\"Scrypt\"], [\"Lyra2Z\"], [\"Green Protocol\"], [\"PoS\"], [\"Scrypt\"], [\"Semux BFT consensus\"], [\"X11\"], [\"Quark\"], [\"PoS\"], [\"CryptoNight\"], [\"X16R\"], [\"Scrypt\"], [\"NIST5\"], [\"Lyra2RE\"], [\"XEVAN\"], [\"Tribus\"], [\"Scrypt\"], [\"Lyra2Z\"], [\"CryptoNight\"], [\"CryptoNight Heavy\"], [\"CryptoNight\"], [\"Scrypt\"], [\"Scrypt\"], [\"Jump Consistent Hash\"], [\"SHA-256D\"], [\"CryptoNight\"], [\"Scrypt\"], [\"X15\"], [\"Scrypt\"], [\"Quark\"], [\"SHA-256\"], [\"DPoS\"], [\"X16R\"], [\"HMQ1725\"], [\"X11\"], [\"X16R\"], [\"Quark\"], [\"Quark\"], [\"Scrypt\"], [\"Lyra2REv2\"], [\"Quark\"], [\"Scrypt\"], [\"Scrypt\"], [\"CryptoNight-V7\"], [\"Cryptonight-GPU\"], [\"XEVAN\"], [\"CryptoNight Heavy\"], [\"X11\"], [\"X11\"], [\"Scrypt\"], [\"PoS\"], [\"SHA-256\"], [\"Keccak\"], [\"X11\"], [\"X11\"], [\"Scrypt\"], [\"SHA-512\"], [\"X16R\"], [\"ECC 256K1\"], [\"Equihash\"], [\"XEVAN\"], [\"Lyra2Z\"], [\"SHA-256\"], [\"XEVAN\"], [\"X11\"], [\"CryptoNight\"], [\"Quark\"], [\"Blake\"], [\"Blake\"], [\"Equihash\"], [\"Exosis\"], [\"Scrypt\"], [\"Scrypt\"], [\"Equihash\"], [\"Quark\"], [\"Equihash\"], [\"Quark\"], [\"Scrypt\"], [\"QuBit\"], [\"X11\"], [\"Scrypt\"], [\"XEVAN\"], [\"SHA-256D\"], [\"X11\"], [\"SHA-256\"], [\"X13\"], [\"SHA-256\"], [\"X11\"], [\"DPoS\"], [\"Scrypt\"], [\"Scrypt\"], [\"X11\"], [\"NeoScrypt\"], [\"Scrypt\"], [\"Blake\"], [\"Scrypt\"], [\"SHA-256\"], [\"Scrypt\"], [\"X11\"], [\"Scrypt\"], [\"Scrypt\"], [\"SHA-256\"], [\"X11\"], [\"SHA-256\"], [\"Scrypt\"], [\"Scrypt\"], [\"Scrypt\"], [\"Groestl\"], [\"X11\"], [\"Scrypt\"], [\"PoS\"], [\"Scrypt\"], [\"Scrypt\"], [\"X11\"], [\"SHA-256\"], [\"DPoS\"], [\"Scrypt\"], [\"Scrypt\"], [\"NeoScrypt\"], [\"Multiple\"], [\"X13\"], [\"Equihash+Scrypt\"], [\"DPoS\"], [\"Ethash\"], [\"DPoS\"], [\"SHA-256\"], [\"Leased POS\"], [\"PoS\"], [\"TRC10\"], [\"PoS\"], [\"SHA-256\"], [\"Scrypt\"], [\"CryptoNight\"], [\"Equihash\"], [\"Scrypt\"]], \"hovertemplate\": \"<b>%{hovertext}</b><br><br>PC1=%{x}<br>PC2=%{y}<br>PC3=%{z}<br>Algorithm=%{customdata[0]}<br>Class=%{marker.color}<extra></extra>\", \"hovertext\": [\"42 Coin\", \"404Coin\", \"EliteCoin\", \"Bitcoin\", \"Ethereum\", \"Litecoin\", \"Dash\", \"Monero\", \"Ethereum Classic\", \"ZCash\", \"Bitshares\", \"DigiByte\", \"BitcoinDark\", \"PayCoin\", \"ProsperCoin\", \"KoboCoin\", \"Spreadcoin\", \"Argentum\", \"Aurora Coin\", \"BlueCoin\", \"MyriadCoin\", \"MoonCoin\", \"ZetaCoin\", \"SexCoin\", \"Quatloo\", \"EnergyCoin\", \"QuarkCoin\", \"Riecoin\", \"Digitalcoin \", \"BitBar\", \"Catcoin\", \"CryptoBullion\", \"CannaCoin\", \"CryptCoin\", \"CasinoCoin\", \"Diamond\", \"Verge\", \"DevCoin\", \"EarthCoin\", \"E-Gulden\", \"Einsteinium\", \"Emerald\", \"Exclusive Coin\", \"FlutterCoin\", \"Franko\", \"FeatherCoin\", \"GrandCoin\", \"GlobalCoin\", \"GoldCoin\", \"HoboNickels\", \"HyperStake\", \"Infinite Coin\", \"IOCoin\", \"IXcoin\", \"KrugerCoin\", \"LuckyCoin\", \"Litebar \", \"MaxCoin\", \"MegaCoin\", \"MediterraneanCoin\", \"MintCoin\", \"MinCoin\", \"MazaCoin\", \"Nautilus Coin\", \"NavCoin\", \"NobleCoin\", \"Namecoin\", \"NyanCoin\", \"OpalCoin\", \"Orbitcoin\", \"PotCoin\", \"PhoenixCoin\", \"Reddcoin\", \"RonPaulCoin\", \"StableCoin\", \"SmartCoin\", \"SuperCoin\", \"SyncCoin\", \"SysCoin\", \"TeslaCoin\", \"TigerCoin\", \"TittieCoin\", \"TorCoin\", \"TerraCoin\", \"UnbreakableCoin\", \"Unobtanium\", \"UroCoin\", \"UnitaryStatus Dollar\", \"UltraCoin\", \"ViaCoin\", \"VeriCoin\", \"Vertcoin\", \"WorldCoin\", \"X11 Coin\", \"Crypti\", \"JouleCoin\", \"StealthCoin\", \"ZCC Coin\", \"ByteCoin\", \"DigitalNote \", \"BurstCoin\", \"StorjCoin\", \"MonaCoin\", \"Neutron\", \"FairCoin\", \"Gulden\", \"RubyCoin\", \"PesetaCoin\", \"Kore\", \"Wild Beast Coin\", \"Dnotes\", \"Flo\", \"8BIT Coin\", \"Sativa Coin\", \"ArtByte\", \"Folding Coin\", \"Ucoin\", \"Unitus\", \"CypherPunkCoin\", \"OmniCron\", \"Vtorrent\", \"GreenCoin\", \"Cryptonite\", \"MasterCoin\", \"SoonCoin\", \"1Credit\", \"IslaCoin\", \"Nexus\", \"MarsCoin \", \"Crypto\", \"Anarchists Prime\", \"Droidz\", \"BowsCoin\", \"Squall Coin\", \"Song Coin\", \"BitZeny\", \"Diggits\", \"Expanse\", \"Paycon\", \"Siacoin\", \"Emercoin\", \"EverGreenCoin\", \"MindCoin\", \"I0coin\", \"Decred\", \"Revolution VR\", \"HOdlcoin\", \"EDRCoin\", \"Hitcoin\", \"Gamecredits\", \"DubaiCoin\", \"CarpeDiemCoin\", \"PWR Coin\", \"BillaryCoin\", \"GPU Coin\", \"Adzcoin\", \"SoilCoin\", \"YoCoin\", \"SibCoin\", \"EuropeCoin\", \"ZeitCoin\", \"SwingCoin\", \"SafeExchangeCoin\", \"Nebuchadnezzar\", \"Francs\", \"BolivarCoin\", \"Ratecoin\", \"Revenu\", \"Clockcoin\", \"VIP Tokens\", \"BitSend\", \"Omni\", \"Let it Ride\", \"PutinCoin\", \"iBankCoin\", \"Frankywillcoin\", \"MudraCoin\", \"PizzaCoin\", \"Lutetium Coin\", \"Komodo\", \"GoldBlocks\", \"CarterCoin\", \"Karbo\", \"BitTokens\", \"ZayedCoin\", \"MustangCoin\", \"ZoneCoin\", \"Circuits of Value\", \"RootCoin\", \"DopeCoin\", \"BitCurrency\", \"DollarCoin\", \"Swiscoin\", \"Shilling\", \"BuzzCoin\", \"Opair\", \"PesoBit\", \"Halloween Coin\", \"ZCoin\", \"CoffeeCoin\", \"RoyalCoin\", \"GanjaCoin V2\", \"TeamUP\", \"LanaCoin\", \"Elementrem\", \"ZClassic\", \"ARK\", \"InsaneCoin\", \"KiloCoin\", \"ArtexCoin\", \"EmberCoin\", \"XenixCoin\", \"FreeCoin\", \"PLNCoin\", \"AquariusCoin\", \"Kurrent\", \"Creatio\", \"Eternity\", \"Eurocoin\", \"BitcoinFast\", \"Stakenet\", \"BitConnect Coin\", \"MoneyCoin\", \"Enigma\", \"Cannabis Industry Coin\", \"Russiacoin\", \"PandaCoin\", \"GameUnits\", \"GAKHcoin\", \"Allsafe\", \"LiteCreed\", \"OsmiumCoin\", \"Bikercoins\", \"HexxCoin\", \"Klingon Empire Darsek\", \"Internet of People\", \"KushCoin\", \"Printerium\", \"PacCoin\", \"Impeach\", \"Citadel\", \"Zilbercoin\", \"FirstCoin\", \"BeaverCoin\", \"FindCoin\", \"VaultCoin\", \"Zero\", \"OpenChat\", \"Canada eCoin\", \"Zoin\", \"RenosCoin\", \"DubaiCoin\", \"VirtacoinPlus\", \"TajCoin\", \"Impact\", \"EB3coin\", \"Atmos\", \"HappyCoin\", \"Coinonat\", \"MacronCoin\", \"Condensate\", \"Independent Money System\", \"ArgusCoin\", \"LomoCoin\", \"ProCurrency\", \"GoldReserve\", \"BenjiRolls\", \"GrowthCoin\", \"ILCoin\", \"Phreak\", \"Degas Coin\", \"HTML5 Coin\", \"Ultimate Secure Cash\", \"EquiTrader\", \"QTUM\", \"Quantum Resistant Ledger\", \"Espers\", \"Dynamic\", \"Nano\", \"ChanCoin\", \"Dinastycoin\", \"Denarius\", \"DigitalPrice\", \"Virta Unique Coin\", \"Bitcoin Planet\", \"Unify\", \"BritCoin\", \"SocialCoin\", \"ArcticCoin\", \"DAS\", \"Linda\", \"LeviarCoin\", \"DeepOnion\", \"Bitcore\", \"gCn Coin\", \"SmartCash\", \"Signatum\", \"Onix\", \"Cream\", \"Bitcoin Cash\", \"Monoeci\", \"Draftcoin\", \"Vechain\", \"Sojourn Coin\", \"Stakecoin\", \"NewYorkCoin\", \"FrazCoin\", \"Kronecoin\", \"AdCoin\", \"Linx\", \"CoinonatX\", \"Ethereum Dark\", \"Sumokoin\", \"Obsidian\", \"Cardano\", \"Regalcoin\", \"BitcoinZ\", \"TrezarCoin\", \"Elements\", \"TerraNovaCoin\", \"VIVO Coin\", \"Rupee\", \"Bitcoin Gold\", \"WomenCoin\", \"Theresa May Coin\", \"NamoCoin\", \"LUXCoin\", \"Pirl\", \"Xios\", \"Bitcloud 2.0\", \"eBoost\", \"KekCoin\", \"BlackholeCoin\", \"Infinity Economics\", \"Pura\", \"Innova\", \"Ellaism\", \"GoByte\", \"Magnet\", \"Lamden Tau\", \"Electra\", \"Bitcoin Diamond\", \"SHIELD\", \"Cash & Back Coin\", \"UltraNote\", \"BitCoal\", \"DaxxCoin\", \"Bulwark\", \"Kalkulus\", \"AC3\", \"Lethean\", \"GermanCoin\", \"LiteCoin Ultra\", \"PopularCoin\", \"PhantomX\", \"Photon\", \"Sucre\", \"SparksPay\", \"Digiwage\", \"GunCoin\", \"IrishCoin\", \"Trollcoin\", \"Litecoin Plus\", \"Monkey Project\", \"Pioneer Coin\", \"UnitedBitcoin\", \"Interzone\", \"TokenPay\", \"1717 Masonic Commemorative Token\", \"My Big Coin\", \"TurtleCoin\", \"MUNcoin\", \"Unified Society USDEX\", \"Niobio Cash\", \"ShareChain\", \"Travelflex\", \"KREDS\", \"Tokyo Coin\", \"BiblePay\", \"LitecoinCash\", \"BitFlip\", \"LottoCoin\", \"Crypto Improvement Fund\", \"Stipend\", \"Poa Network\", \"Pushi\", \"Ellerium\", \"Velox\", \"Ontology\", \"Callisto Network\", \"BitTube\", \"Poseidon\", \"Aidos Kuneen\", \"Bitspace\", \"Briacoin\", \"Ignition\", \"Bitrolium\", \"MedicCoin\", \"Alpenschillling\", \"Bitcoin Green\", \"Deviant Coin\", \"Abjcoin\", \"Semux\", \"FuturoCoin\", \"Carebit\", \"Zealium\", \"Monero Classic\", \"Proton\", \"iDealCash\", \"Jumpcoin\", \"Infinex\", \"Bitcoin Incognito\", \"KEYCO\", \"HollyWoodCoin\", \"GINcoin\", \"PlatinCoin\", \"Loki\", \"Newton Coin\", \"Swisscoin\", \"Xt3ch\", \"MassGrid\", \"TheVig\", \"PluraCoin\", \"EmaratCoin\", \"Dekado\", \"Lynx\", \"Poseidon Quark\", \"BitcoinWSpectrum\", \"Muse\", \"Motion\", \"PlusOneCoin\", \"Axe\", \"Trivechain\", \"Dystem\", \"Giant\", \"Peony Coin\", \"Absolute Coin\", \"Vitae\", \"HexCoin\", \"TPCash\", \"Webchain\", \"Ryo\", \"Urals Coin\", \"Qwertycoin\", \"ARENON\", \"EUNO\", \"MMOCoin\", \"Ketan\", \"Project Pai\", \"XDNA\", \"PAXEX\", \"Azart\", \"ThunderStake\", \"Kcash\", \"Xchange\", \"Acute Angle Cloud\", \"CrypticCoin\", \"Bettex coin\", \"Actinium\", \"Bitcoin SV\", \"BitMoney\", \"Junson Ming Chan Coin\", \"FREDEnergy\", \"HerbCoin\", \"Universal Molecule\", \"Lithium\", \"PirateCash\", \"Exosis\", \"Block-Logic\", \"Oduwa\", \"Beam\", \"Galilel\", \"Bithereum\", \"Crypto Sports\", \"Credit\", \"SLICE\", \"Dash Platinum\", \"Nasdacoin\", \"Beetle Coin\", \"Titan Coin\", \"Award\", \"BLAST\", \"Bitcoin Rhodium\", \"GlobalToken\", \"Insane Coin\", \"ALAX\", \"LiteDoge\", \"SolarCoin\", \"TruckCoin\", \"UFO Coin\", \"OrangeCoin\", \"BlakeCoin\", \"BitstarCoin\", \"NeosCoin\", \"HyperCoin\", \"PinkCoin\", \"Crypto Escudo\", \"AudioCoin\", \"IncaKoin\", \"Piggy Coin\", \"Crown Coin\", \"Genstake\", \"SmileyCoin\", \"XiaoMiCoin\", \"Groestlcoin\", \"CapriCoin\", \" ClubCoin\", \"Radium\", \"Bata\", \"Pakcoin\", \"Creditbit \", \"OKCash\", \"Lisk\", \"HiCoin\", \"WhiteCoin\", \"FriendshipCoin\", \"JoinCoin\", \"Triangles Coin\", \"Vollar\", \"EOS\", \"Reality Clash\", \"Oxycoin\", \"TigerCash\", \"Waves\", \"Particl\", \"BitTorrent\", \"Nxt\", \"ZEPHYR\", \"Gapcoin\", \"Beldex\", \"Horizen\", \"BitcoinPlus\"], \"legendgroup\": \"\", \"marker\": {\"color\": [1, 1, 1, 0, 0, 0, 1, 0, 0, 0, 1, 0, 1, 1, 0, 1, 0, 0, 1, 1, 0, 0, 0, 0, 0, 1, 0, 0, 0, 1, 0, 1, 0, 0, 1, 1, 0, 0, 0, 0, 0, 0, 1, 1, 0, 0, 0, 0, 0, 1, 1, 0, 1, 0, 0, 0, 0, 1, 0, 0, 1, 0, 1, 1, 1, 0, 0, 0, 1, 1, 1, 1, 1, 0, 0, 0, 1, 1, 0, 1, 0, 1, 1, 0, 0, 0, 0, 1, 1, 0, 1, 0, 0, 1, 1, 0, 1, 1, 0, 0, 1, 1, 0, 1, 1, 0, 1, 0, 1, 0, 1, 0, 1, 1, 0, 0, 1, 0, 0, 0, 1, 0, 0, 0, 0, 0, 1, 1, 0, 0, 0, 1, 0, 1, 0, 0, 1, 0, 1, 0, 1, 1, 0, 0, 1, 0, 0, 1, 1, 0, 1, 0, 1, 1, 1, 0, 0, 0, 0, 1, 1, 1, 1, 1, 0, 0, 1, 1, 1, 1, 1, 0, 1, 1, 1, 1, 1, 0, 1, 0, 1, 1, 0, 1, 0, 1, 1, 0, 1, 0, 1, 0, 1, 0, 1, 1, 1, 1, 0, 1, 1, 1, 1, 1, 0, 0, 1, 1, 0, 0, 1, 1, 1, 1, 1, 0, 1, 1, 1, 1, 1, 1, 1, 1, 0, 1, 1, 1, 1, 1, 1, 0, 0, 0, 1, 1, 1, 1, 0, 1, 0, 1, 1, 0, 1, 0, 0, 1, 0, 0, 1, 0, 1, 1, 1, 0, 1, 1, 0, 1, 1, 1, 1, 1, 1, 1, 0, 1, 0, 1, 1, 1, 1, 0, 1, 0, 1, 0, 0, 0, 0, 1, 0, 1, 1, 0, 1, 0, 0, 0, 1, 0, 1, 0, 0, 0, 1, 0, 1, 0, 1, 1, 1, 0, 1, 0, 0, 0, 0, 0, 1, 1, 0, 1, 1, 1, 0, 1, 0, 1, 0, 1, 0, 1, 1, 1, 1, 0, 1, 1, 0, 1, 1, 1, 0, 0, 0, 0, 1, 1, 1, 1, 0, 1, 0, 0, 0, 1, 1, 0, 0, 1, 1, 0, 1, 0, 0, 0, 1, 0, 0, 1, 1, 1, 0, 0, 0, 1, 1, 1, 0, 0, 1, 0, 0, 0, 0, 1, 3, 3, 0, 0, 0, 1, 3, 1, 1, 1, 1, 0, 0, 0, 0, 1, 1, 1, 0, 1, 0, 1, 1, 1, 1, 0, 1, 1, 0, 1, 1, 0, 0, 1, 0, 1, 0, 0, 0, 0, 1, 1, 0, 1, 0, 1, 1, 1, 1, 1, 1, 0, 0, 0, 1, 1, 1, 1, 1, 1, 0, 1, 0, 0, 0, 0, 1, 1, 1, 1, 0, 1, 1, 0, 1, 1, 0, 3, 0, 1, 0, 0, 1, 1, 0, 1, 0, 0, 1, 0, 0, 1, 0, 1, 0, 1, 1, 0, 1, 1, 1, 1, 1, 0, 0, 0, 1, 1, 1, 0, 1, 0, 1, 0, 1, 1, 1, 1, 0, 1, 1, 1, 0, 1, 0, 1, 0, 1, 1, 1, 0, 0, 1, 1, 1, 1, 1, 1, 0, 1, 0, 1, 0, 1, 1, 3, 1, 2, 1, 1, 1, 0, 0, 1], \"coloraxis\": \"coloraxis\", \"symbol\": \"circle\"}, \"mode\": \"markers\", \"name\": \"\", \"scene\": \"scene\", \"showlegend\": false, \"type\": \"scatter3d\", \"x\": [-0.3343398276969394, -0.317657489700279, 2.3170448429301187, -0.14973429649198516, -0.15670212792489632, -0.16687673707854261, -0.39572177986000323, -0.15394306752764403, -0.15514124800378287, -0.1523114368971362, -0.3324981702492654, 0.17284385136173686, -0.3160262554800291, -0.27155760036827326, -0.1680245499691753, -0.24418525503067756, -0.2296144877858399, -0.16764042839705387, -0.3339989581677817, -0.3265691804011813, -0.08094078293198839, 2.5590225650724325, -0.1468153020830458, -0.16489184527508846, -0.16744403370993827, -0.33283488397856853, -0.2266698126209192, -0.19293986386471124, -0.16749317426162738, -0.3343357566724799, -0.16800679766986026, -0.33432001881350853, -0.16809339071437535, -0.2297039347299164, 0.6766062082502654, -0.3601664582674303, 0.19659024482886275, 0.22863168457606853, 0.08097682332282094, -0.16783937521358272, -0.16343843392846333, -0.16777853853837393, -0.34479306673372256, -0.3033614625077957, -0.16815046428749855, -0.17236707622831107, -0.14734266054615378, -0.1669439636843437, -0.16722168409805913, -0.3323959053843737, -0.3310565254027758, 1.583122756025848, -0.3956163698640561, -0.14969562602113573, -0.16450708662447164, -0.16786585028213885, -0.1682211453238705, -0.3819595349657639, -0.16747937991180273, -0.1606634991938412, -0.029529568048365634, -0.16810223583808867, -0.27928075916642214, -0.2896218512424814, -0.2714472603853281, -0.03277557082736212, -0.14977331672669014, -0.16175759274464466, -0.27207009625171996, -0.34333469453762844, -0.32863374339300605, -0.3327393535936574, 0.02416251386094588, -0.168081588252448, -0.16617254482426097, -0.1675676151141978, -0.35096316972512637, -0.3959884524233719, -0.13690678601405956, -0.2357897461597779, -0.14923637071398144, -0.29544095439178053, -0.39589994112944865, -0.1495239031660625, -0.149506636450654, -0.15009844417718143, -0.2298781196052383, -0.3095370404267733, -0.3330152724896078, -0.16779777251039188, -0.2701008759302829, -0.19828060217629068, -0.1648964691195016, -0.39586440925205635, -0.23625857557110333, -0.14930374739529254, -0.2718507388732109, -0.3254277871237606, 3.8685161101200407, 0.46289713928375453, 0.03522271384013137, -0.34486689103756374, -0.16666369123226382, -0.315236891010385, -0.3595874655101819, -0.15123698259937798, -0.2896021909999019, -0.16538080824845364, -0.2721454846380937, -0.168223349045667, -0.2842477427307623, -0.16524574755569907, -0.33432187816752923, -0.27209763429962913, -0.15144998174581198, -0.14214991013067008, -0.35140833858431747, -0.11499481394720434, -0.18701809162442076, -0.16809629099038426, -0.33405586831838163, -0.04084145258054506, -0.0970958362989742, -0.16823226314576453, -0.14980112295848957, 0.48516451170841557, -0.39596996271575097, -0.33742834445929365, -0.22926446926682503, -0.15780762675834972, -0.14954051470356453, -0.3959886622099189, -0.2295497363915481, -0.3480556815111157, -0.1663528163310569, -0.16554397857850098, -0.2880014987611252, -0.15777058547848274, -0.2716185419508477, 0.3651699269709955, -0.308569427868658, -0.24663116534658977, -0.22958520050437234, -0.1496967495325806, -0.08188366583087432, -0.16418465817833003, -0.15850046323918332, -0.3159971401273812, -0.07294871659339738, -0.16679361779131707, -0.31606096992260296, 0.2693525294525143, -0.23217575532296442, -0.3339314873739836, -0.2878696626874475, -0.22874463663225142, -0.158622496061747, -0.16704078088333954, -0.14067327242008562, -0.39313393580814826, 0.8653129505346341, -0.31586064877177317, -0.0551334246583794, -0.3444758975906257, -0.16802183842044877, -0.22954835062748385, -0.3938103218208316, -0.3146017963092687, -0.3122658107354712, -0.35365610314470436, -0.39470302078225594, -0.16823232171970892, -0.3533341270225523, -0.3101919447033073, -0.3339696090040925, -0.3324066950307358, -0.2263686514888305, -0.2296984768065631, -0.3388825906984254, -0.2637039845483063, -0.3954430292454942, -0.3331727511079265, 0.30758005498069646, -0.31604183778321343, -0.14995717272716555, -0.39595912486153423, -0.33415910599440174, -0.09503930332176136, -0.33431610545596147, -0.16539487767601332, -0.2878605976231614, -0.1499157540666398, -0.2522601650004521, -0.16789519320507912, 0.03927430465281433, -0.34343159208652807, -0.33392987367023774, -0.38209831459757027, -0.16071841889352395, -0.3427597652528606, -0.22780191760183172, -0.413121447538274, -0.3425068387946678, -0.27564572464730897, -0.15751241858029935, -0.1523330763261741, 3.6881954127754697, -0.39555109051887605, -0.09482112240403645, -0.2162649953976958, 0.8612146465568626, -0.39591398396930466, -0.3438959575471909, -0.33385711747002755, -0.33401157763031736, -0.22752313417589398, -0.3444758975906257, -0.39548811431476205, -0.31590437858695003, -0.3338578882843423, -0.3927055135510627, -0.3340054582919881, -0.32958520169792827, -0.3959429999579806, 0.307574480486078, -0.33321464979986165, 0.3544982293394806, -0.3342050277857713, -0.3342757298816285, -0.3530534520941944, -0.35226195784292985, -0.16821402781159353, 0.30770535625844353, -0.1583489727756853, -0.33049562546869304, -0.3160182277211879, -0.3958528338693121, -0.33405321453519354, 0.48689964130931723, -0.3341802835896102, -0.15270535939365412, -0.2895082672152219, -0.2713093019965101, -0.16818227816638873, -0.22756946356921143, -0.22241903947162917, -0.15234548845141996, -0.3150084937276985, -0.1663130199760954, -0.15806699397308296, -0.28924926421836383, -0.14740956391304366, -0.3951172799109813, -0.42663095755000713, -0.3938543180314589, -0.13905137370362175, -0.34272012735531365, -0.3950150622750448, -0.18875374220300836, -0.3371126079508237, -0.39094948903503174, -0.33412351745778296, -0.3341226610069532, -0.3272314566719882, 0.26210580860106486, -0.39549439346635984, -0.16774400547472337, -0.2721208831568675, -0.11623219718149719, -0.34451016461131595, -0.3333328935126506, 0.889442056063213, -0.27024553426425846, -0.16756566281018692, -0.3521108369241533, -0.15256343782467402, 0.588492133016454, -0.1493411170566152, -0.03554542917777948, -0.1634588480451347, 0.3437459997628121, -0.35519379301914195, -0.2287529409150129, -0.3536938333579202, -0.4141938774804157, -0.16788557744221766, -0.2717822877415526, -0.16764837206412297, -0.22914827436312157, -0.2297265757537167, 0.13138419773080223, 0.30797007895210793, -0.2718531999026017, -0.16149805496683248, 3.246220642472655, -0.12186723076521787, -0.3503456045419005, -0.22058263679318893, -0.41369826427062845, -0.14973345984396624, -0.39576724034895194, -0.28958277621208617, 4.384357514599316, -0.0936646031324948, -0.3443761091753311, 1.580595406378993, -0.16798352185489293, -0.16743420561549577, -0.16713477334882235, -0.1671216907436473, -0.3337581792540636, -0.33425863690277036, 0.30815409233809354, -0.39064242558387785, 0.6736295790788094, -0.3957079004949116, 0.06032901959242311, -0.3383264531494388, -0.18405538935630344, -0.33421413619404294, -0.17706255829986953, -0.3207294409451025, -0.15219135585743063, 0.43583124737097506, -0.31436234463846335, -0.33993794793654925, -0.3754931913939165, -0.15737953452252526, -0.33416439240447426, -0.39589777949038063, -0.1663112272767679, -0.34237659639037255, -0.3340346995372407, -0.09781105755615507, -0.22526436552246504, -0.17690770007199524, -0.1558743759839099, -0.17700808967242576, -0.3944986152923534, 3.6930586294652166, 0.20504729954370948, -0.2685195187617251, -0.10521247932129588, -0.3314912084220923, 1.1469041296917197, 0.30755718033672325, -0.08062640770871998, -0.3105517836765901, -0.3529392101027084, -0.22500444926026136, -0.14165876345523834, 0.08083615374976687, -0.3331715283907885, -0.08425442776809083, -0.3950809220897872, 1.0911081032470031, -0.22970054193427003, -0.17706015110931098, -0.35210248783368586, -0.17008788414163334, -0.16723347828075105, -0.3207201339610158, -0.33428079192352483, -0.3513802336201868, -0.2296258525800381, -0.14971284101017493, -0.20137082832444456, -0.35361637994490364, -0.279678121647087, -0.28873782189055297, 8.059521831658012, -0.12854269643939026, -0.3298201516348365, 0.31143760024989486, 0.025069109329156205, -0.15688257984354176, -0.18381748610956555, -0.21935209909928896, -0.21480458614337866, -0.33059423943819616, -0.16780794386915165, 0.13969860658477656, -0.22375778005050978, -0.36750054373763363, -0.3910768845076317, -0.3957844069612247, -0.28285308890231703, -0.28874125466240574, -0.3226287820066982, -0.10882626231653883, 0.3154945550072439, -0.16804531613936521, -0.14694943914880157, -0.35479210213833856, -0.3343081803666132, -0.3342898605756123, -0.15118110259939938, -0.28311469959551994, -0.15849793399496062, -0.34487642273111013, -0.3439699951683235, -0.33400593136083156, 3.895165363810106, -0.22879375563003543, -0.39456446706830106, -0.344158903561951, 0.30773992427699964, -0.328424926391242, -0.28079086184983265, -0.18881343164823725, -0.15819395151754045, -0.23507308005381694, -0.15454736192926657, -0.2892766249774019, -0.1608029493725763, 0.3116757602408969, 0.5674680730543977, 2.119222599038656, -0.1371602137410923, -0.28952882505673927, -0.14175229907625794, -0.3410724205922792, 0.321364963079058, -0.33347909889736804, -0.20156865952148983, 2.2310890834753816, -0.3486389239530881, -0.2703740072764415, 0.9996283494952225, -0.20685182948981481, -0.1579389972698104, -0.22968267633024056, -0.37216577601109957, -0.35305285008462256, -0.39758483125467614, -0.17003578619593243, -0.36506267512345253, -0.351770604894092, -0.16806991673450197, -0.32717148769130433, -0.14153393990369953, -0.12590560746272322, -0.11551695578343747, 3.0937646093278452, -0.3509570051681299, -0.39525705857054577, -0.2867701926510924, -0.3432569880386479, -0.10950687366695078, -0.348223015103374, -0.35081796434046636, -0.22965398785836333, -0.19353693656457713, -0.48563269487781763, -0.20627848348568678, -0.3551903870633289, -0.04678221006992292, -0.2384410388529396, -0.16019962904735616, -0.14973349744837935, 0.6299583614200595, -0.14112178689887694, 0.3876319689511053, -0.3968784475313994, -0.13330603892619158, -0.13369895693714914, -0.27333073093806987, -0.15756651879895567, -0.1669604680663104, -0.334009965309041, -0.15024797360213588, -0.3973352420804408, -0.15202394101933298, -0.3531699918146733, 0.5738790134504512, -0.1862276369654667, -0.35143461132609727, -0.3334919738103707, -0.2773003930605019, -0.2957161619793702, -0.39281695061105937, -0.14900862686028568, -0.10613062824101524, -0.14787475732530786, -0.39548464813931383, 3.7053157537252956, 0.10157503399293602, 0.5291667120878237, -0.39302201639109413, -0.10212386663476276, -0.33287612096780794, -0.08407049606472666, -0.3337028555875555, -0.2715902097945579, -0.334222047817881, -0.3871011429862991, -0.1516007240808604, -0.24777267279155324, -0.09546255024354, -0.3828421092210035, -0.14952327296396797, -0.3334995500003975, 0.5486535241108782, -0.32655450808249104, -0.1925002805336126, -0.39204870443881473, -0.3319362673885677, -0.34475187366031096, -0.16814693909805065, -0.16609945104919127, -0.38619235178147004, -0.3145393103331604, 3.688587838326611, -0.09655553929199548, -0.3291273557487488, -0.3429598242916863, -0.11573044467460625, -0.2722528707525511, -0.12526310066718596, 3.698464736991675, -0.15754562198309102, 3.6997101188530555, -0.25246173568308705, -0.45043062012300106, -0.3446876781939644, 34.08293828050273, -0.3299276648510711, 2.453576597410348, -0.33238167126399276, 0.3293453305875632, -0.1523124949416337, -0.2899259606611609], \"y\": [1.0446083177991128, 1.0446877765680467, 1.6971345919137955, -1.3089997963195006, -2.0234160719534646, -1.117298102658212, 1.2031293026199805, -2.2186265903142317, -2.0235249466788043, -2.0557260456354642, 1.8528244818205222, -1.75352254218831, 0.8528776104055459, 0.629000319165818, -1.11728440822286, 1.7538775042285688, -0.9587525327213501, -1.1173049008977876, 1.0446056597561706, 1.0448252168590504, -1.7468138753593259, -1.3199029982423214, -1.309026333092817, -1.1173632016777204, -1.1173255520878016, 1.0446503247332062, -0.4482997171624576, -1.166114391139561, -1.1172892964521266, 1.044608068503096, -1.1172839127098935, 1.044608144828365, -1.1172806240255728, -0.9587535775811494, 0.30104868977792365, 0.9957954510498677, -1.7496330092256882, -1.3136676662546052, -1.1201187904811865, -1.1172792395125535, -1.1173587784598293, -1.1172855265094312, 1.5444906622780301, 0.1877276145305633, -1.1172808348126304, -1.5501856352888472, -1.1177231257301048, -1.1172898162644709, -1.1172991983613416, 1.044575467510932, 0.9798248251197882, -1.134158322137238, 1.203132244887848, -1.3089987169258173, -1.1173636563095395, -1.117279252581926, -1.1172756314068661, 1.9206564765908456, -1.117284435400348, -2.366267979701462, 0.827990943433274, -1.1172785915309158, 0.8521631004100215, 0.8207193442031572, 1.852937153562078, -1.1243827946771288, -1.309000885476002, -1.117338871454622, 1.8529197685888859, 0.6118031595234837, 1.044462703613762, 1.0445818511900573, 1.0546150530447091, -1.1172860003100844, -1.1173989493418028, -1.1172935767281689, 0.9792691787664356, 1.2031378285816756, -1.309271118677218, 0.19163748331915062, -1.3090047804899676, 1.761131948737507, 1.203133040700321, -1.309009167988555, -1.309036270945028, -1.3089948978152617, -0.958745372996306, 1.0441391581728108, 1.0445726977365015, -1.1172795301102796, 0.3514474415454604, -1.3075243731417177, -1.117374524990364, 1.2031372991224083, 0.1916969889506845, -1.3090052006233845, 1.8529258914253355, 1.0441311572921756, -2.3515074596092322, -2.319917965487291, 0.4202886056349227, 1.421378625228185, -1.1173074873987678, 0.852866251360146, 0.9958147917720293, -1.1180201227792121, 0.8207316383384592, -1.117316152932348, 1.8529089532764764, -1.117276620642753, 0.8205181355375585, -1.1173077473185706, 1.0446088188477756, 1.852911740741861, -1.1175324433366667, -2.2258708967995493, 0.9792422345661211, -1.7463125745079568, -1.5226158750715828, -1.117273613723427, 1.0446017254997428, -1.120978340321939, -2.1506348626604423, -1.1172754114345917, -1.3090016616204416, -1.1658214862300904, 1.2031383454035496, 1.959512504851387, -0.9587521997365304, -2.20771488355877, -1.3090181684653213, 1.9212958317476205, -0.9587514512599132, 0.5461006231178845, -1.1173751186569822, -1.1173814044187789, 0.8207037259499845, -2.023458168061914, 1.8528960767054536, -2.1760745922925775, 0.852375801293866, 1.7540442138704746, -0.9587488115616335, -1.3089987482859518, 0.9374767682444021, -1.117314425488541, -2.2712571937503365, 0.8528784230909621, 1.192881565794363, -1.1172957825821568, 0.8528849895014697, -1.312985669731478, 1.5571768182867047, 1.0445892270819954, 0.8206195314536415, -0.95877471171245, -2.2755155362850923, -1.1173639137455544, -2.222883392388871, 1.2029387534794302, 0.7811023674621391, 0.8528691663816901, 0.30810178284491346, 1.544484996919299, -1.117283606617634, -0.9587543162549433, 1.203144182700373, 0.8527716607184663, 0.8526174370531217, 1.5537206523014964, 1.2030728063393819, -1.1172754108700096, 1.4413294890547188, 1.0438305105548085, 1.0445864691975297, 1.0445896847203584, 1.6289248077282414, -0.9587585066680836, 0.9791294505583744, -1.5135078829868354, 1.2031167575493005, 1.0445755612859058, -2.317001341220525, 0.8528779013816601, -1.3089978406267173, 1.2031364701598333, 1.0445981179481638, -1.7466266667642298, 1.0446089799792089, -1.1173409466822999, 0.8207802507511358, -1.3089973395190038, 0.38193800946147827, -1.117287330807719, 1.9652078465458118, 1.5444749465923409, 1.0446197607155203, 1.2024366610309898, -2.272782605359248, 1.5445183803454348, 1.6290281704123575, 1.841488463405516, 1.5443359752938548, 1.9654872371724685, -2.0234577123728448, -2.0557266496483577, 1.9625626291535319, 1.2031282596539632, -1.1224850536688462, -0.9587283546157159, 1.8839356700084096, 1.2031371107138735, 1.5444794069933243, 1.0445938146190987, 1.0445869915540908, -0.958845148705065, 1.544484996919299, 1.203108239919153, 0.8528824641451082, 1.0445978146939774, 0.534831939971545, 1.0445973252243956, 1.044268705615348, 1.2031354684102813, -2.317009481926332, 1.0445351921673542, 0.8151069702624302, 1.044602643501854, 1.0446076999731047, 1.489735350322841, 0.63923428461847, -1.1172764230994352, -2.3170087325175603, -2.2076894955788715, 1.0443526601234503, 0.8528785604000588, 1.2031348245303568, 1.0446017995737518, -1.0113301195209292, 1.0445968493022582, -2.2187263376361384, 0.820694334460583, 0.4317331500785932, -1.1172760056199948, 1.6290259298344745, -0.9592630894484682, -2.0557240924278215, 1.0444219869411255, -1.1172939825451587, -2.2076896099230288, 0.8207164986565618, -2.2306265629429505, 1.2030895541211974, 2.004243678557611, 1.203117547492368, -1.119364122343442, 1.544468461812162, 1.2030924072819675, -0.6081659619881893, 1.5444146763790427, 1.2029155205009845, 1.0445989573343966, 1.0445936182396953, 1.0440808121716776, 0.5894614182998049, 1.2031225830282508, -1.1172871181262214, 0.8197677495668643, -1.3098642181434126, 1.5444767812490978, 1.0445602025113436, 1.7204413755498091, 0.6289007714493159, -1.1173086213459298, 1.4413153606691524, -2.2186643027286896, 1.904764297171544, -2.227751507187191, -2.1875066202008844, -2.129666714095956, -2.3174364338631515, 1.5537358048736571, -0.9587865582079114, 1.5536978215879678, 1.9706284836876207, -1.1172792782339085, 1.8529060245100304, -1.1173131077333762, -0.9587685562421685, -0.958754862878111, 1.0213119483599782, -2.3170223950629265, 1.8529121041813466, -2.3079199908368495, -1.1671524432493539, -1.1262599634315922, 1.4915207689059284, -0.9592844225439122, 1.9706423175447108, -1.3089997729664713, 1.2031371024064064, 0.820719544991648, 2.6884955770519423, -1.1228157316149585, 1.5444575840762815, -1.0684606210906218, -1.117282537102372, -1.1173136630587823, -1.117316919824668, -1.117316554655042, 1.0445895261190334, 1.0446075352173039, -2.317042585270219, 1.8537489050002038, 1.4143541006168892, 1.2031260604351093, -2.0650197471220046, 0.6116553217826884, -0.9587729949970382, 1.044600405084535, -1.5500923895194554, 0.6304956668532763, -2.055722693860512, 1.047957830159443, 0.852867432827382, 1.5532977918851185, 1.9856489638230825, -2.2755725304228616, 1.0445979703906736, 1.7135305820302473, -1.1172939325062456, 1.538697996134117, 1.0446060996642192, 0.6273258427710343, -0.9588706626790003, -1.5501011335614274, -2.0235962245105745, -1.5500943535684089, 1.2030748822354829, 1.9624261546519781, 1.5476032889999751, 1.8528664315112036, -1.7465186304668376, 1.0445353872676488, -2.3552694589315815, -2.317003794508562, -2.0285517885169413, 1.3298435957078614, 1.4897349095205827, -0.9590085915042708, -2.219009245806285, 1.0199010206389434, 1.0445320402853504, -1.1185605155179665, 1.2031268649042786, -1.2616191979135192, -0.9587547895332691, -1.5500879668155123, 1.4896856727380572, -1.5502410677823475, -1.1172935418588428, 1.0443351520510036, 1.0446070619966672, 0.9792422931301294, -0.9587550276988807, -1.3089985920247489, -1.2600117579970707, 1.4413277809496805, -0.08545547591827671, 0.2805894288281967, -2.8265360020448047, -2.0539408780669968, 1.0445660606059233, -2.3171303166112516, -1.1191386046648641, -2.2755177850043595, -1.3078582033879207, 1.6286851067046262, 3.233275777726695, 2.6955783913059235, -1.1172921546395305, -1.1220417814448025, -0.9589374977742201, 0.9018735597197787, 2.4788790199251185, 1.2031253767777885, 1.3818004453715205, 0.820665655381816, 1.6387586771052787, -2.0267982040917096, -2.3174990865275866, -1.1172849878608213, -2.20212410606406, 1.5537179803604395, 1.0446070234326295, 1.044606082948109, -2.0557300650803088, 0.8205497617260861, -2.272922866821336, 1.4932268998166818, 1.5444497554947254, 1.0445958601821514, 2.104011540395607, -0.9587876974530396, 1.71356779825681, 1.5444502899194823, -2.3170029765697446, 0.5781877711541125, 1.042384888270268, -0.6081478453363113, -2.207696986490582, 0.7247872860286109, -2.1725201569087225, 0.8207218518455509, -2.272777052310103, -2.3173153118919076, -2.2913686429962645, -2.399995479083793, 1.0427077429756333, 0.8207017457447436, -2.2906354603347485, 1.9690371623285876, -2.31733522813011, 1.0445713658332212, 1.5301303598425668, 0.186213548937576, 1.4893976128581468, 0.6289696480983117, 1.717158360897819, -1.3597965167692567, -2.2772319398086798, -0.9587551619602683, 0.802065017814094, 1.4897310116135203, 1.7136249365742384, 0.8118155386440071, 0.8543629455866276, 1.4897094548329413, -1.1172864768588056, 1.044082486062309, -2.219550577154992, -2.041444066512283, -0.7801574294739293, -2.354654477555999, 0.9792294252996661, 1.2031219484757916, 0.8206219479016346, 1.5443810952857981, -1.309386129294719, 1.037305539075621, 0.9792006399444075, -0.9587572648655259, 1.035471954757503, 2.5426705225813837, -1.3598370799038304, 2.8493911266477294, -2.0582821885373037, 1.1579219370963085, -2.272813567100534, -1.3089997740161081, 0.9620576929675042, 0.9851263989619556, -2.3206250485064333, 1.7136091931770736, -2.1332003162102495, -2.1331532890490945, -0.11777063563077803, -2.2483458695002394, -1.1173265728862924, 1.0446022808536046, -2.0558439761670404, 1.7136218238767185, -2.0557251973093655, 1.4897332806430355, 1.015660345579914, -1.522666403303757, 0.9792417190010357, 1.044571006460825, 1.3816360313071196, 1.9667461715161831, 1.2029214682850125, -1.3090107554974335, -0.3089697274268946, -1.3090546018002174, 1.2031301142340376, 1.962405323538008, 1.0313686793117263, -1.169021374934327, 1.2032206302727948, -1.5508847307285396, 1.044503989935374, -2.13683114703715, 1.0445867118437946, 0.6289932386416431, 1.0446116053731607, 1.20302293787449, -1.1175366509483273, 1.0394024851518677, 0.858912164216626, 1.2027788591982884, -1.3090091503979715, 1.0446208833888506, -1.133560751489335, 1.0445352588698684, -1.1661173655179171, 1.2030968068309105, 1.0445592604528016, 1.5444852788146608, -1.1172762097213251, -1.1173475466235188, 0.5191861660828302, 0.8528588636592235, 1.9625482348499268, 0.8188544715427841, 1.0445360358652835, 0.6117726826541801, -1.7463351404525767, 1.852914579765689, -2.1904018450157854, 1.9629400126253045, -2.023457392331848, 1.9629747744806239, 0.6288164897009633, 3.801724709064833, 1.5444873362621918, 1.6220691901154294, 1.6810113172933745, 0.8740601217573928, 1.0444814953744959, -2.3174030043912874, -2.0557260751682453, 0.8207218751640932], \"z\": [-0.5429278300385784, -0.543175780255178, -0.5783465502058136, 0.19647895045388653, 0.3741141998870952, -0.012610720313599704, -0.5247410935956571, 0.38515910839974005, 0.3741112120674531, 0.3127176059887161, -0.1251047894233061, 0.39103373641076317, -0.3338495546529534, -0.06790922648621102, -0.012596990113465252, -0.7111676077620006, 0.005590772955307011, -0.012598820284230133, -0.5429321523582645, -0.5430745852702548, 0.3934298943528914, -0.01566206102396349, 0.1964425927895441, -0.012627266390440867, -0.012597988098273756, -0.542956252174966, 0.048152550790513705, 0.1536430476891459, -0.012603598702562245, -0.5429278438554802, -0.012597325380606598, -0.5429280780050888, -0.012596681507519308, 0.0055922099437550506, -0.33700742163589803, -0.37667797595097696, 0.39002454563854333, 0.19197961217212675, -0.015599265618656712, -0.0126004872948638, -0.012648434157073235, -0.012600248637954573, -0.13383349330313352, -0.5232834001970488, -0.012595843831027737, 0.27919692792788187, -0.01281102952124337, -0.012611216730050428, -0.01260568845921658, -0.5429494051051227, -0.25918377206549015, -0.03424268181366137, -0.5247430843523109, 0.1964782201294377, -0.01263258760579844, -0.012600113437126442, -0.0125957560183568, -0.45185502995166676, -0.012604637038305503, 0.3239028235717285, -0.28190307420893784, -0.012596910559144069, -0.334241126529278, -0.27698897108506215, -0.5690907093893101, -0.013261736355067267, 0.1964796873839208, -0.012675484667987395, -0.5690789466087993, -0.2510853091271124, -0.5429826128297266, -0.5429456940137312, -0.5496984490527079, -0.012595912897391147, -0.012603079299571164, -0.012601810096551832, -0.25880781830221666, -0.5247388323509284, 0.1963460609064779, 0.1294268291932747, 0.19647282801809782, -0.15936819689306744, -0.524739242624931, 0.1964776260699029, 0.1964820935311576, 0.1964832101551547, 0.005593228939386865, -0.5431944175852668, -0.5429402307602147, -0.012601020704480432, -0.34127019841455236, 0.1273526393102101, -0.012625233789053137, -0.5247404813325489, 0.12942306880640655, 0.19647384668130546, -0.5690830893578543, -0.5429699951885485, 0.35901304330652034, 0.40132261470997, -0.26225228921593513, -0.1919384402068148, -0.012612079655116293, -0.3338586597387695, -0.3766894632380057, -0.012704760839502503, -0.27699138343174556, -0.012628579505459663, -0.5690760090804813, -0.012595553184297129, -0.27702943357408377, -0.012631935810517117, -0.542928169035877, -0.5690771650669829, -0.012786517625217623, 0.3521096965463816, -0.2587968879878219, 0.3938207409305681, 0.22245237477186133, -0.012597859013626776, -0.5429306699310537, -0.013740136657874753, 0.462521867509364, -0.012595638201531189, 0.19648021252805445, -0.013330209814736, -0.5247391816707933, -0.09531780171572163, 0.005585802461770701, 0.3876316486853608, 0.19647942327276807, -0.5921309075307396, 0.005589676216883717, -0.2558054638170232, -0.012604690295306215, -0.01261495030312844, -0.2770089992287584, 0.37413651128760733, -0.5690811672797124, 0.45199863365691506, -0.33386701209144254, -0.7111622484787123, 0.005589715255276749, 0.19647824134789862, -0.3695521510916017, -0.012645668065308771, 0.4291962944801869, -0.3338501045209382, -0.5274905271733998, -0.012612290091425058, -0.33385034972338024, 0.19128956755820875, -0.560724274578178, -0.5429302437524303, -0.27699621872784735, 0.005582418443209579, 0.35595903555795505, -0.012596981607326696, 0.521393897565101, -0.5247443022679069, -0.2863144503410394, -0.3338504116426671, -0.32796285489148636, -0.13383696038471432, -0.012597167469605597, 0.005590154630585608, -0.5247705073408866, -0.3338511360582247, -0.33385712225590075, -0.5584186626145052, -0.5247455746078828, -0.012595637477536104, -0.20943080012492277, -0.5431315906633224, -0.5429292294520794, -0.5429517242586768, -0.30313547307343686, 0.005592989890063495, -0.25895309213315404, 0.1539592819314007, -0.5247428259408801, -0.5429385181062837, 0.40299570771096627, -0.33384938651427515, 0.19648173874808722, -0.5247390079140403, -0.5429285940542357, 0.3935952397933617, -0.5429282780584024, -0.012624073512202122, -0.2770242748911737, 0.19648107034327358, -0.28688509706619036, -0.01259829780872317, -0.5611546503630962, -0.13384987107688226, -0.5429355723713455, -0.5248119400577972, 0.3606287409757037, -0.13386684807869623, -0.30313331850431713, -0.7389516148984231, -0.13383870062239872, -0.5567831913943749, 0.37413280863999804, 0.3127180146675801, -0.26299814099735735, -0.5247433080377385, -0.012720685077700914, 0.0053992067382515, -0.5903747602425844, -0.5247397527938743, -0.1338441286537539, -0.5429320847568214, -0.5429287311804075, 0.005577514400241312, -0.13383696038471432, -0.5247407130087697, -0.33385210869335796, -0.5429327690496024, -0.4234861450152362, -0.5429306127968583, -0.5429355468629886, -0.524739060153928, 0.40299720059881544, -0.5429309149163246, -0.28505412793775226, -0.5429287359525342, -0.5429286223107997, -0.21617769405482198, -0.30788610583160303, -0.012595718339006334, 0.4029952334845246, 0.387634834875134, -0.5429373579162983, -0.3338498324102045, -0.5247402137757412, -0.5429307200499867, 0.004670902155897272, -0.5429280763610296, 0.3851590702953888, -0.2769862192175262, -0.09854348019852972, -0.012596236503423694, -0.30313619172037465, 0.00557850417775174, 0.31271774449600653, -0.5431667723298621, -0.012619348246306146, 0.3876308970766266, -0.2769937059872272, 0.37380262466058606, -0.5247426706789252, -0.6037426129513794, -0.524765261316385, -0.012642237024065929, -0.1338587298368163, -0.5247446011451695, -0.028069053984500228, -0.13392808674092935, -0.5247709244214228, -0.542929239415488, -0.5429283236370075, -0.5429359313682796, -0.06852851756400033, -0.5247431173468207, -0.012600456738699549, -0.27706924015822637, 0.1961589516285469, -0.13383505176057273, -0.542933601488096, -0.7212681035387586, -0.06791034291637019, -0.01259922312533096, -0.20944551426387126, 0.3851462982863971, -0.5898005186575341, 0.4063781980092599, 0.4596094063868665, 0.46685137233737467, 0.4025637143984778, -0.5583997137451432, 0.005584593616690383, -0.5584141656599299, -0.6180305002590557, -0.012599832102046835, -0.5690805977275085, -0.012597282652561523, 0.005587013971955569, 0.005592751070210925, -0.5454161081531855, 0.4029938922146702, -0.5690806589436217, 0.3655261447837862, -0.051851287295196065, 0.13717727963868104, -0.14397361632181885, 0.0055564367903349985, -0.6180398603324226, 0.19647893465308322, -0.5247418109469825, -0.2769895544083742, 4.509533801047233, -0.012679453791233378, -0.13383359729323693, -0.04562380149357885, -0.012597891110254522, -0.01260019205022305, -0.012603828740961245, -0.012604075816991153, -0.5429327281560147, -0.5429288335862106, 0.40299481806931925, -0.12444935624969654, -0.12085568341195481, -0.5247407249878876, 0.3113481339780763, -0.2511299110575858, 0.00495489130210166, -0.5429282191328387, 0.27924662687286816, -0.13703022040818533, 0.3127153381570295, -0.5543195037990913, -0.3338711396042217, -0.5585377191983851, -0.4249202651150552, 0.35595149430268436, -0.542928494215924, -0.4821265603521452, -0.01261938210294454, -0.09060959618777094, -0.5429317271608067, -0.07005683697264685, 0.005550245492884505, 0.27924597287726965, 0.3741338880454626, 0.27924620368894076, -0.5247488042466333, -0.26304268209913434, -0.5651972129498852, -0.5691195115447424, 0.393719249821784, -0.5429551379070392, 0.39786553515548595, 0.40299645508354603, 0.3739389083256168, -0.29245922630744947, -0.2161792208798792, 0.005570566006346048, 0.38505318981058645, -0.544461465720587, -0.5429309724229576, -0.013550977296696886, -0.5247496646398437, 0.15311461938451043, 0.00559237293120972, 0.27924582453350794, -0.21618240845983525, 0.2791745714495263, -0.012606505880316024, -0.5430715178136288, -0.5429284403992138, -0.2587972926275114, 0.0055913660277967835, 0.19647844004304363, 0.1313136198925912, -0.20942654178366674, 0.10974906881867051, -0.3779161463232321, 0.3827387455435305, 0.5010189781332935, -0.5429839220058622, 0.4029639783953941, -0.014984913195202915, 0.3559350060110122, 0.12720765576428636, -0.3031922988279551, 14.142386031753373, 19.1143995279964, -0.012598684123438866, -0.016089278873736977, 0.005540714294322085, -0.3990185370875859, 10.106978251898875, -0.5247395323912737, -0.29737410565963807, -0.2769920008046539, -0.014814857655771847, 0.3740299744613532, 0.40297112049808204, -0.012596597926831344, 0.37988526998587696, -0.5584022541658852, -0.5429280492916284, -0.5429281429838163, 0.31270243983896046, -0.2770508320490726, 0.3606219495930545, -0.09383941452226922, -0.1338379368331161, -0.5429303515700419, -0.10753027870025712, 0.005585364436998404, -0.4821517410814827, -0.1338353783088643, 0.4029937480730558, -0.14106674122799964, -0.5432930324455985, -0.02807136443677033, 0.38763396082913704, -0.028442771663194477, 0.34502350470233517, -0.2769942522179367, 0.3606289624108841, 0.40299278322012033, 0.3282775145523542, 0.3919909603656293, -0.5453650415019793, -0.2769872185741726, 0.38178231494821546, -0.556481792246985, 0.402860252891729, -0.5429334893475052, -0.44522390152518104, -0.4775113385482779, -0.21618096326842048, -0.06792050876615961, -0.22565850422053224, 0.1233221970239945, 0.31528129676040684, 0.005592186899720669, -0.40701727664609366, -0.21617694854674363, -0.482119278428926, -0.2771201470004796, -0.4029707093345745, -0.216191199274116, -0.01259599389905945, -0.5429370639330455, 0.38514550750950793, 0.4677452135496592, 0.23295372742297696, 0.30381755223364604, -0.25880099668098433, -0.5247463381538864, -0.27701207008189427, -0.13383601273071324, 0.19598147972072638, -0.39260155737806623, -0.25879794600272604, 0.0055921496787637035, -0.5433163787565791, -0.04478663601735401, 0.12332119875997172, 10.412784338529177, 0.3116806600335533, -0.03143277153169158, 0.3606268399476521, 0.19647893536327435, 0.42401445335859156, -0.2627708497547547, 0.40250186010330663, -0.4821264569626938, 0.4430103079020353, 0.44300765051401747, 0.04832591317363454, 0.36013854542096024, -0.012604597718071854, -0.5429314107018337, 0.312709137909224, -0.4821222405902939, 0.3127134234685367, -0.2161756987223324, -0.5506445687058275, 0.22245006099473416, -0.2587964296488171, -0.5429332461939168, -0.29742346864991837, -0.556720266779967, -0.5247457475354129, 0.1964706698600241, -0.03874339335923863, 0.19646237498842092, -0.5247445628581009, -0.2632110950978852, -0.5467453308035232, -0.013391736308834125, -0.5247948561228376, 0.27833252556837285, -0.5429302441284193, 0.44295021645834204, -0.5429330155929718, -0.06790753838652194, -0.5429300544162063, -0.5248436036814712, -0.012783670729114533, -0.5432381880677399, -0.33799389363421445, -0.5248609659972531, 0.19647761416800488, -0.5429418072028559, -0.019827396106938257, -0.5430244038668964, 0.15363739485866196, -0.5247869995184675, -0.5429530399059925, -0.13383313595275356, -0.012596697031666939, -0.012613037682565626, -0.47114237646127244, -0.33386716672657935, -0.26300114745935216, -0.27937465508184545, -0.5429884280949157, -0.25108527445295026, 0.3938349871466548, -0.5690754796206854, 0.46240340073924463, -0.2632078541262764, 0.37413321904607805, -0.26323137421283144, -0.06814529856441984, 14.282379856750687, -0.133834394490134, -0.6656693663126496, -0.04845511611972036, -0.10570223607712916, -0.5429332749151863, 0.402760023506186, 0.3127176259707788, -0.27698514262243445]}],                        {\"coloraxis\": {\"colorbar\": {\"title\": {\"text\": \"Class\"}}, \"colorscale\": [[0.0, \"#0d0887\"], [0.1111111111111111, \"#46039f\"], [0.2222222222222222, \"#7201a8\"], [0.3333333333333333, \"#9c179e\"], [0.4444444444444444, \"#bd3786\"], [0.5555555555555556, \"#d8576b\"], [0.6666666666666666, \"#ed7953\"], [0.7777777777777778, \"#fb9f3a\"], [0.8888888888888888, \"#fdca26\"], [1.0, \"#f0f921\"]]}, \"legend\": {\"tracegroupgap\": 0}, \"margin\": {\"t\": 60}, \"scene\": {\"domain\": {\"x\": [0.0, 1.0], \"y\": [0.0, 1.0]}, \"xaxis\": {\"title\": {\"text\": \"PC1\"}}, \"yaxis\": {\"title\": {\"text\": \"PC2\"}}, \"zaxis\": {\"title\": {\"text\": \"PC3\"}}}, \"template\": {\"data\": {\"bar\": [{\"error_x\": {\"color\": \"#2a3f5f\"}, \"error_y\": {\"color\": \"#2a3f5f\"}, \"marker\": {\"line\": {\"color\": \"#E5ECF6\", \"width\": 0.5}}, \"type\": \"bar\"}], \"barpolar\": [{\"marker\": {\"line\": {\"color\": \"#E5ECF6\", \"width\": 0.5}}, \"type\": \"barpolar\"}], \"carpet\": [{\"aaxis\": {\"endlinecolor\": \"#2a3f5f\", \"gridcolor\": \"white\", \"linecolor\": \"white\", \"minorgridcolor\": \"white\", \"startlinecolor\": \"#2a3f5f\"}, \"baxis\": {\"endlinecolor\": \"#2a3f5f\", \"gridcolor\": \"white\", \"linecolor\": \"white\", \"minorgridcolor\": \"white\", \"startlinecolor\": \"#2a3f5f\"}, \"type\": \"carpet\"}], \"choropleth\": [{\"colorbar\": {\"outlinewidth\": 0, \"ticks\": \"\"}, \"type\": \"choropleth\"}], \"contour\": [{\"colorbar\": {\"outlinewidth\": 0, \"ticks\": \"\"}, \"colorscale\": [[0.0, \"#0d0887\"], [0.1111111111111111, \"#46039f\"], [0.2222222222222222, \"#7201a8\"], [0.3333333333333333, \"#9c179e\"], [0.4444444444444444, \"#bd3786\"], [0.5555555555555556, \"#d8576b\"], [0.6666666666666666, \"#ed7953\"], [0.7777777777777778, \"#fb9f3a\"], [0.8888888888888888, \"#fdca26\"], [1.0, \"#f0f921\"]], \"type\": \"contour\"}], \"contourcarpet\": [{\"colorbar\": {\"outlinewidth\": 0, \"ticks\": \"\"}, \"type\": \"contourcarpet\"}], \"heatmap\": [{\"colorbar\": {\"outlinewidth\": 0, \"ticks\": \"\"}, \"colorscale\": [[0.0, \"#0d0887\"], [0.1111111111111111, \"#46039f\"], [0.2222222222222222, \"#7201a8\"], [0.3333333333333333, \"#9c179e\"], [0.4444444444444444, \"#bd3786\"], [0.5555555555555556, \"#d8576b\"], [0.6666666666666666, \"#ed7953\"], [0.7777777777777778, \"#fb9f3a\"], [0.8888888888888888, \"#fdca26\"], [1.0, \"#f0f921\"]], \"type\": \"heatmap\"}], \"heatmapgl\": [{\"colorbar\": {\"outlinewidth\": 0, \"ticks\": \"\"}, \"colorscale\": [[0.0, \"#0d0887\"], [0.1111111111111111, \"#46039f\"], [0.2222222222222222, \"#7201a8\"], [0.3333333333333333, \"#9c179e\"], [0.4444444444444444, \"#bd3786\"], [0.5555555555555556, \"#d8576b\"], [0.6666666666666666, \"#ed7953\"], [0.7777777777777778, \"#fb9f3a\"], [0.8888888888888888, \"#fdca26\"], [1.0, \"#f0f921\"]], \"type\": \"heatmapgl\"}], \"histogram\": [{\"marker\": {\"colorbar\": {\"outlinewidth\": 0, \"ticks\": \"\"}}, \"type\": \"histogram\"}], \"histogram2d\": [{\"colorbar\": {\"outlinewidth\": 0, \"ticks\": \"\"}, \"colorscale\": [[0.0, \"#0d0887\"], [0.1111111111111111, \"#46039f\"], [0.2222222222222222, \"#7201a8\"], [0.3333333333333333, \"#9c179e\"], [0.4444444444444444, \"#bd3786\"], [0.5555555555555556, \"#d8576b\"], [0.6666666666666666, \"#ed7953\"], [0.7777777777777778, \"#fb9f3a\"], [0.8888888888888888, \"#fdca26\"], [1.0, \"#f0f921\"]], \"type\": \"histogram2d\"}], \"histogram2dcontour\": [{\"colorbar\": {\"outlinewidth\": 0, \"ticks\": \"\"}, \"colorscale\": [[0.0, \"#0d0887\"], [0.1111111111111111, \"#46039f\"], [0.2222222222222222, \"#7201a8\"], [0.3333333333333333, \"#9c179e\"], [0.4444444444444444, \"#bd3786\"], [0.5555555555555556, \"#d8576b\"], [0.6666666666666666, \"#ed7953\"], [0.7777777777777778, \"#fb9f3a\"], [0.8888888888888888, \"#fdca26\"], [1.0, \"#f0f921\"]], \"type\": \"histogram2dcontour\"}], \"mesh3d\": [{\"colorbar\": {\"outlinewidth\": 0, \"ticks\": \"\"}, \"type\": \"mesh3d\"}], \"parcoords\": [{\"line\": {\"colorbar\": {\"outlinewidth\": 0, \"ticks\": \"\"}}, \"type\": \"parcoords\"}], \"pie\": [{\"automargin\": true, \"type\": \"pie\"}], \"scatter\": [{\"marker\": {\"colorbar\": {\"outlinewidth\": 0, \"ticks\": \"\"}}, \"type\": \"scatter\"}], \"scatter3d\": [{\"line\": {\"colorbar\": {\"outlinewidth\": 0, \"ticks\": \"\"}}, \"marker\": {\"colorbar\": {\"outlinewidth\": 0, \"ticks\": \"\"}}, \"type\": \"scatter3d\"}], \"scattercarpet\": [{\"marker\": {\"colorbar\": {\"outlinewidth\": 0, \"ticks\": \"\"}}, \"type\": \"scattercarpet\"}], \"scattergeo\": [{\"marker\": {\"colorbar\": {\"outlinewidth\": 0, \"ticks\": \"\"}}, \"type\": \"scattergeo\"}], \"scattergl\": [{\"marker\": {\"colorbar\": {\"outlinewidth\": 0, \"ticks\": \"\"}}, \"type\": \"scattergl\"}], \"scattermapbox\": [{\"marker\": {\"colorbar\": {\"outlinewidth\": 0, \"ticks\": \"\"}}, \"type\": \"scattermapbox\"}], \"scatterpolar\": [{\"marker\": {\"colorbar\": {\"outlinewidth\": 0, \"ticks\": \"\"}}, \"type\": \"scatterpolar\"}], \"scatterpolargl\": [{\"marker\": {\"colorbar\": {\"outlinewidth\": 0, \"ticks\": \"\"}}, \"type\": \"scatterpolargl\"}], \"scatterternary\": [{\"marker\": {\"colorbar\": {\"outlinewidth\": 0, \"ticks\": \"\"}}, \"type\": \"scatterternary\"}], \"surface\": [{\"colorbar\": {\"outlinewidth\": 0, \"ticks\": \"\"}, \"colorscale\": [[0.0, \"#0d0887\"], [0.1111111111111111, \"#46039f\"], [0.2222222222222222, \"#7201a8\"], [0.3333333333333333, \"#9c179e\"], [0.4444444444444444, \"#bd3786\"], [0.5555555555555556, \"#d8576b\"], [0.6666666666666666, \"#ed7953\"], [0.7777777777777778, \"#fb9f3a\"], [0.8888888888888888, \"#fdca26\"], [1.0, \"#f0f921\"]], \"type\": \"surface\"}], \"table\": [{\"cells\": {\"fill\": {\"color\": \"#EBF0F8\"}, \"line\": {\"color\": \"white\"}}, \"header\": {\"fill\": {\"color\": \"#C8D4E3\"}, \"line\": {\"color\": \"white\"}}, \"type\": \"table\"}]}, \"layout\": {\"annotationdefaults\": {\"arrowcolor\": \"#2a3f5f\", \"arrowhead\": 0, \"arrowwidth\": 1}, \"autotypenumbers\": \"strict\", \"coloraxis\": {\"colorbar\": {\"outlinewidth\": 0, \"ticks\": \"\"}}, \"colorscale\": {\"diverging\": [[0, \"#8e0152\"], [0.1, \"#c51b7d\"], [0.2, \"#de77ae\"], [0.3, \"#f1b6da\"], [0.4, \"#fde0ef\"], [0.5, \"#f7f7f7\"], [0.6, \"#e6f5d0\"], [0.7, \"#b8e186\"], [0.8, \"#7fbc41\"], [0.9, \"#4d9221\"], [1, \"#276419\"]], \"sequential\": [[0.0, \"#0d0887\"], [0.1111111111111111, \"#46039f\"], [0.2222222222222222, \"#7201a8\"], [0.3333333333333333, \"#9c179e\"], [0.4444444444444444, \"#bd3786\"], [0.5555555555555556, \"#d8576b\"], [0.6666666666666666, \"#ed7953\"], [0.7777777777777778, \"#fb9f3a\"], [0.8888888888888888, \"#fdca26\"], [1.0, \"#f0f921\"]], \"sequentialminus\": [[0.0, \"#0d0887\"], [0.1111111111111111, \"#46039f\"], [0.2222222222222222, \"#7201a8\"], [0.3333333333333333, \"#9c179e\"], [0.4444444444444444, \"#bd3786\"], [0.5555555555555556, \"#d8576b\"], [0.6666666666666666, \"#ed7953\"], [0.7777777777777778, \"#fb9f3a\"], [0.8888888888888888, \"#fdca26\"], [1.0, \"#f0f921\"]]}, \"colorway\": [\"#636efa\", \"#EF553B\", \"#00cc96\", \"#ab63fa\", \"#FFA15A\", \"#19d3f3\", \"#FF6692\", \"#B6E880\", \"#FF97FF\", \"#FECB52\"], \"font\": {\"color\": \"#2a3f5f\"}, \"geo\": {\"bgcolor\": \"white\", \"lakecolor\": \"white\", \"landcolor\": \"#E5ECF6\", \"showlakes\": true, \"showland\": true, \"subunitcolor\": \"white\"}, \"hoverlabel\": {\"align\": \"left\"}, \"hovermode\": \"closest\", \"mapbox\": {\"style\": \"light\"}, \"paper_bgcolor\": \"white\", \"plot_bgcolor\": \"#E5ECF6\", \"polar\": {\"angularaxis\": {\"gridcolor\": \"white\", \"linecolor\": \"white\", \"ticks\": \"\"}, \"bgcolor\": \"#E5ECF6\", \"radialaxis\": {\"gridcolor\": \"white\", \"linecolor\": \"white\", \"ticks\": \"\"}}, \"scene\": {\"xaxis\": {\"backgroundcolor\": \"#E5ECF6\", \"gridcolor\": \"white\", \"gridwidth\": 2, \"linecolor\": \"white\", \"showbackground\": true, \"ticks\": \"\", \"zerolinecolor\": \"white\"}, \"yaxis\": {\"backgroundcolor\": \"#E5ECF6\", \"gridcolor\": \"white\", \"gridwidth\": 2, \"linecolor\": \"white\", \"showbackground\": true, \"ticks\": \"\", \"zerolinecolor\": \"white\"}, \"zaxis\": {\"backgroundcolor\": \"#E5ECF6\", \"gridcolor\": \"white\", \"gridwidth\": 2, \"linecolor\": \"white\", \"showbackground\": true, \"ticks\": \"\", \"zerolinecolor\": \"white\"}}, \"shapedefaults\": {\"line\": {\"color\": \"#2a3f5f\"}}, \"ternary\": {\"aaxis\": {\"gridcolor\": \"white\", \"linecolor\": \"white\", \"ticks\": \"\"}, \"baxis\": {\"gridcolor\": \"white\", \"linecolor\": \"white\", \"ticks\": \"\"}, \"bgcolor\": \"#E5ECF6\", \"caxis\": {\"gridcolor\": \"white\", \"linecolor\": \"white\", \"ticks\": \"\"}}, \"title\": {\"x\": 0.05}, \"xaxis\": {\"automargin\": true, \"gridcolor\": \"white\", \"linecolor\": \"white\", \"ticks\": \"\", \"title\": {\"standoff\": 15}, \"zerolinecolor\": \"white\", \"zerolinewidth\": 2}, \"yaxis\": {\"automargin\": true, \"gridcolor\": \"white\", \"linecolor\": \"white\", \"ticks\": \"\", \"title\": {\"standoff\": 15}, \"zerolinecolor\": \"white\", \"zerolinewidth\": 2}}}},                        {\"responsive\": true}                    ).then(function(){\n",
       "                            \n",
       "var gd = document.getElementById('a53c0377-13e0-44fc-87c6-f3e67e1bb21e');\n",
       "var x = new MutationObserver(function (mutations, observer) {{\n",
       "        var display = window.getComputedStyle(gd).display;\n",
       "        if (!display || display === 'none') {{\n",
       "            console.log([gd, 'removed!']);\n",
       "            Plotly.purge(gd);\n",
       "            observer.disconnect();\n",
       "        }}\n",
       "}});\n",
       "\n",
       "// Listen for the removal of the full notebook cells\n",
       "var notebookContainer = gd.closest('#notebook-container');\n",
       "if (notebookContainer) {{\n",
       "    x.observe(notebookContainer, {childList: true});\n",
       "}}\n",
       "\n",
       "// Listen for the clearing of the current output cell\n",
       "var outputEl = gd.closest('.output');\n",
       "if (outputEl) {{\n",
       "    x.observe(outputEl, {childList: true});\n",
       "}}\n",
       "\n",
       "                        })                };                });            </script>        </div>"
      ]
     },
     "metadata": {},
     "output_type": "display_data"
    }
   ],
   "source": [
    "# Creating a 3D-Scatter with the PCA data and the clusters\n",
    "\n",
    "fig = px.scatter_3d(\n",
    "clustered_df, \n",
    "x='PC1', \n",
    "y='PC2',\n",
    "z='PC3',\n",
    "color='Class',\n",
    "hover_name='CoinName',\n",
    "hover_data=['Algorithm'],\n",
    ")\n",
    "fig.show()"
   ]
  },
  {
   "cell_type": "code",
   "execution_count": 185,
   "metadata": {},
   "outputs": [
    {
     "data": {},
     "metadata": {},
     "output_type": "display_data"
    },
    {
     "data": {
      "application/vnd.holoviews_exec.v0+json": "",
      "text/html": [
       "<div id='1102'>\n",
       "\n",
       "\n",
       "\n",
       "\n",
       "\n",
       "  <div class=\"bk-root\" id=\"a9c3e340-deee-40b6-a5fc-79829eaacbb1\" data-root-id=\"1102\"></div>\n",
       "</div>\n",
       "<script type=\"application/javascript\">(function(root) {\n",
       "  function embed_document(root) {\n",
       "    var docs_json = {\"d35ec459-3f37-4afd-8fdc-25a4450a8829\":{\"roots\":{\"references\":[{\"attributes\":{\"margin\":[5,5,5,5],\"name\":\"HSpacer01710\",\"sizing_mode\":\"stretch_width\"},\"id\":\"1103\",\"type\":\"Spacer\"},{\"attributes\":{\"editor\":{\"id\":\"1127\"},\"field\":\"PC1\",\"formatter\":{\"id\":\"1126\"},\"title\":\"PC1\"},\"id\":\"1128\",\"type\":\"TableColumn\"},{\"attributes\":{},\"id\":\"1141\",\"type\":\"StringFormatter\"},{\"attributes\":{},\"id\":\"1142\",\"type\":\"StringEditor\"},{\"attributes\":{\"editor\":{\"id\":\"1142\"},\"field\":\"CoinName\",\"formatter\":{\"id\":\"1141\"},\"title\":\"CoinName\"},\"id\":\"1143\",\"type\":\"TableColumn\"},{\"attributes\":{},\"id\":\"1106\",\"type\":\"StringFormatter\"},{\"attributes\":{\"format\":\"0,0.0[00000]\"},\"id\":\"1126\",\"type\":\"NumberFormatter\"},{\"attributes\":{},\"id\":\"1137\",\"type\":\"NumberEditor\"},{\"attributes\":{},\"id\":\"1146\",\"type\":\"NumberFormatter\"},{\"attributes\":{},\"id\":\"1127\",\"type\":\"NumberEditor\"},{\"attributes\":{\"columns\":[{\"id\":\"1108\"},{\"id\":\"1113\"},{\"id\":\"1118\"},{\"id\":\"1123\"},{\"id\":\"1128\"},{\"id\":\"1133\"},{\"id\":\"1138\"},{\"id\":\"1143\"},{\"id\":\"1148\"}],\"height\":300,\"reorderable\":false,\"source\":{\"id\":\"1104\"},\"view\":{\"id\":\"1152\"},\"width\":700},\"id\":\"1151\",\"type\":\"DataTable\"},{\"attributes\":{},\"id\":\"1117\",\"type\":\"NumberEditor\"},{\"attributes\":{\"format\":\"0,0.0[00000]\"},\"id\":\"1131\",\"type\":\"NumberFormatter\"},{\"attributes\":{},\"id\":\"1147\",\"type\":\"IntEditor\"},{\"attributes\":{\"editor\":{\"id\":\"1122\"},\"field\":\"TotalCoinSupply\",\"formatter\":{\"id\":\"1121\"},\"title\":\"TotalCoinSupply\"},\"id\":\"1123\",\"type\":\"TableColumn\"},{\"attributes\":{\"editor\":{\"id\":\"1112\"},\"field\":\"ProofType\",\"formatter\":{\"id\":\"1111\"},\"title\":\"ProofType\"},\"id\":\"1113\",\"type\":\"TableColumn\"},{\"attributes\":{},\"id\":\"1107\",\"type\":\"StringEditor\"},{\"attributes\":{\"margin\":[5,5,5,5],\"name\":\"HSpacer01711\",\"sizing_mode\":\"stretch_width\"},\"id\":\"1157\",\"type\":\"Spacer\"},{\"attributes\":{\"format\":\"0,0.0[00000]\"},\"id\":\"1136\",\"type\":\"NumberFormatter\"},{\"attributes\":{\"editor\":{\"id\":\"1107\"},\"field\":\"Algorithm\",\"formatter\":{\"id\":\"1106\"},\"title\":\"Algorithm\"},\"id\":\"1108\",\"type\":\"TableColumn\"},{\"attributes\":{},\"id\":\"1154\",\"type\":\"UnionRenderers\"},{\"attributes\":{\"editor\":{\"id\":\"1147\"},\"field\":\"Class\",\"formatter\":{\"id\":\"1146\"},\"title\":\"Class\"},\"id\":\"1148\",\"type\":\"TableColumn\"},{\"attributes\":{\"data\":{\"Algorithm\":[\"Scrypt\",\"Scrypt\",\"X13\",\"SHA-256\",\"Ethash\",\"Scrypt\",\"X11\",\"CryptoNight-V7\",\"Ethash\",\"Equihash\",\"SHA-512\",\"Multiple\",\"SHA-256\",\"SHA-256\",\"Scrypt\",\"X15\",\"X11\",\"Scrypt\",\"Scrypt\",\"Scrypt\",\"Multiple\",\"Scrypt\",\"SHA-256\",\"Scrypt\",\"Scrypt\",\"Scrypt\",\"Quark\",\"Groestl\",\"Scrypt\",\"Scrypt\",\"Scrypt\",\"Scrypt\",\"Scrypt\",\"X11\",\"Scrypt\",\"Groestl\",\"Multiple\",\"SHA-256\",\"Scrypt\",\"Scrypt\",\"Scrypt\",\"Scrypt\",\"PoS\",\"Scrypt\",\"Scrypt\",\"NeoScrypt\",\"Scrypt\",\"Scrypt\",\"Scrypt\",\"Scrypt\",\"X11\",\"Scrypt\",\"X11\",\"SHA-256\",\"Scrypt\",\"Scrypt\",\"Scrypt\",\"SHA3\",\"Scrypt\",\"HybridScryptHash256\",\"Scrypt\",\"Scrypt\",\"SHA-256\",\"Scrypt\",\"X13\",\"Scrypt\",\"SHA-256\",\"Scrypt\",\"X13\",\"NeoScrypt\",\"Scrypt\",\"Scrypt\",\"Scrypt\",\"Scrypt\",\"Scrypt\",\"Scrypt\",\"X11\",\"X11\",\"SHA-256\",\"Multiple\",\"SHA-256\",\"PHI1612\",\"X11\",\"SHA-256\",\"SHA-256\",\"SHA-256\",\"X11\",\"Scrypt\",\"Scrypt\",\"Scrypt\",\"Scrypt\",\"Lyra2REv2\",\"Scrypt\",\"X11\",\"Multiple\",\"SHA-256\",\"X13\",\"Scrypt\",\"CryptoNight\",\"CryptoNight\",\"Shabal256\",\"Counterparty\",\"Scrypt\",\"SHA-256\",\"Groestl\",\"Scrypt\",\"Scrypt\",\"Scrypt\",\"X13\",\"Scrypt\",\"Scrypt\",\"Scrypt\",\"Scrypt\",\"X13\",\"Scrypt\",\"Stanford Folding\",\"X11\",\"Multiple\",\"QuBit\",\"Scrypt\",\"Scrypt\",\"Scrypt\",\"M7 POW\",\"Scrypt\",\"SHA-256\",\"Scrypt\",\"X11\",\"SHA3\",\"X11\",\"Lyra2RE\",\"SHA-256\",\"QUAIT\",\"X11\",\"X11\",\"Scrypt\",\"Scrypt\",\"Scrypt\",\"Ethash\",\"X13\",\"Blake2b\",\"SHA-256\",\"X15\",\"X11\",\"SHA-256\",\"BLAKE256\",\"Scrypt\",\"1GB AES Pattern Search\",\"SHA-256\",\"X11\",\"Scrypt\",\"SHA-256\",\"SHA-256\",\"NIST5\",\"Scrypt\",\"Scrypt\",\"X11\",\"Dagger\",\"Scrypt\",\"X11GOST\",\"X11\",\"Scrypt\",\"SHA-256\",\"Scrypt\",\"PoS\",\"Scrypt\",\"X11\",\"X11\",\"SHA-256\",\"SHA-256\",\"NIST5\",\"X11\",\"Scrypt\",\"POS 3.0\",\"Scrypt\",\"Scrypt\",\"Scrypt\",\"X13\",\"X11\",\"X11\",\"Equihash\",\"X11\",\"Scrypt\",\"CryptoNight\",\"SHA-256\",\"SHA-256\",\"X11\",\"Scrypt\",\"Multiple\",\"Scrypt\",\"Scrypt\",\"Scrypt\",\"SHA-256\",\"Scrypt\",\"Scrypt\",\"SHA-256D\",\"PoS\",\"Scrypt\",\"X11\",\"Lyra2Z\",\"PoS\",\"X13\",\"X14\",\"PoS\",\"SHA-256D\",\"Ethash\",\"Equihash\",\"DPoS\",\"X11\",\"Scrypt\",\"X11\",\"X13\",\"X11\",\"PoS\",\"Scrypt\",\"Scrypt\",\"X11\",\"PoS\",\"X11\",\"SHA-256\",\"Scrypt\",\"X11\",\"Scrypt\",\"Scrypt\",\"X11\",\"CryptoNight\",\"Scrypt\",\"Scrypt\",\"Scrypt\",\"Scrypt\",\"Quark\",\"QuBit\",\"Scrypt\",\"CryptoNight\",\"Lyra2RE\",\"Scrypt\",\"SHA-256\",\"X11\",\"Scrypt\",\"X11\",\"Scrypt\",\"CryptoNight-V7\",\"Scrypt\",\"Scrypt\",\"Scrypt\",\"X13\",\"X11\",\"Equihash\",\"Scrypt\",\"Scrypt\",\"Lyra2RE\",\"Scrypt\",\"Dagger-Hashimoto\",\"X11\",\"Blake2S\",\"X11\",\"Scrypt\",\"PoS\",\"X11\",\"NIST5\",\"PoS\",\"X11\",\"Scrypt\",\"Scrypt\",\"Scrypt\",\"SHA-256\",\"X11\",\"Scrypt\",\"Scrypt\",\"SHA-256\",\"PoS\",\"Scrypt\",\"X15\",\"SHA-256\",\"Scrypt\",\"POS 3.0\",\"CryptoNight-V7\",\"536\",\"Argon2d\",\"Blake2b\",\"Cloverhash\",\"CryptoNight\",\"NIST5\",\"X11\",\"NIST5\",\"Skein\",\"Scrypt\",\"X13\",\"Scrypt\",\"X11\",\"X11\",\"Scrypt\",\"CryptoNight\",\"X13\",\"Time Travel\",\"Scrypt\",\"Keccak\",\"SkunkHash v2 Raptor\",\"X11\",\"Skein\",\"SHA-256\",\"X11\",\"Scrypt\",\"VeChainThor Authority\",\"Scrypt\",\"PoS\",\"Scrypt\",\"Scrypt\",\"Scrypt\",\"Scrypt\",\"Scrypt\",\"Scrypt\",\"Scrypt\",\"CryptoNight\",\"SHA-512\",\"Ouroboros\",\"X11\",\"Equihash\",\"NeoScrypt\",\"X11\",\"Scrypt\",\"NeoScrypt\",\"Lyra2REv2\",\"Equihash\",\"Scrypt\",\"SHA-256\",\"NIST5\",\"PHI1612\",\"Dagger\",\"Scrypt\",\"Quark\",\"Scrypt\",\"POS 2.0\",\"Scrypt\",\"SHA-256\",\"X11\",\"NeoScrypt\",\"Ethash\",\"NeoScrypt\",\"X11\",\"DPoS\",\"NIST5\",\"X13\",\"Multiple\",\"Scrypt\",\"CryptoNight\",\"CryptoNight\",\"Ethash\",\"NIST5\",\"Quark\",\"X11\",\"CryptoNight-V7\",\"Scrypt\",\"Scrypt\",\"Scrypt\",\"X11\",\"BLAKE256\",\"X11\",\"NeoScrypt\",\"Quark\",\"NeoScrypt\",\"Scrypt\",\"Scrypt\",\"Scrypt\",\"X11\",\"X11\",\"SHA-256\",\"C11\",\"POS 3.0\",\"Ethash\",\"Scrypt\",\"CryptoNight\",\"SkunkHash\",\"Scrypt\",\"CryptoNight\",\"Scrypt\",\"Dagger\",\"Lyra2REv2\",\"X13\",\"Proof-of-BibleHash\",\"SHA-256 + Hive\",\"Scrypt\",\"Scrypt\",\"X11\",\"C11\",\"Proof-of-Authority\",\"X11\",\"XEVAN\",\"Scrypt\",\"VBFT\",\"Ethash\",\"CryptoNight\",\"Scrypt\",\"IMesh\",\"NIST5\",\"Scrypt\",\"Scrypt\",\"Equihash\",\"Scrypt\",\"Lyra2Z\",\"Green Protocol\",\"PoS\",\"Scrypt\",\"Semux BFT consensus\",\"X11\",\"Quark\",\"PoS\",\"CryptoNight\",\"X16R\",\"Scrypt\",\"NIST5\",\"Lyra2RE\",\"XEVAN\",\"Tribus\",\"Scrypt\",\"Lyra2Z\",\"CryptoNight\",\"CryptoNight Heavy\",\"CryptoNight\",\"Scrypt\",\"Scrypt\",\"Jump Consistent Hash\",\"SHA-256D\",\"CryptoNight\",\"Scrypt\",\"X15\",\"Scrypt\",\"Quark\",\"SHA-256\",\"DPoS\",\"X16R\",\"HMQ1725\",\"X11\",\"X16R\",\"Quark\",\"Quark\",\"Scrypt\",\"Lyra2REv2\",\"Quark\",\"Scrypt\",\"Scrypt\",\"CryptoNight-V7\",\"Cryptonight-GPU\",\"XEVAN\",\"CryptoNight Heavy\",\"X11\",\"X11\",\"Scrypt\",\"PoS\",\"SHA-256\",\"Keccak\",\"X11\",\"X11\",\"Scrypt\",\"SHA-512\",\"X16R\",\"ECC 256K1\",\"Equihash\",\"XEVAN\",\"Lyra2Z\",\"SHA-256\",\"XEVAN\",\"X11\",\"CryptoNight\",\"Quark\",\"Blake\",\"Blake\",\"Equihash\",\"Exosis\",\"Scrypt\",\"Scrypt\",\"Equihash\",\"Quark\",\"Equihash\",\"Quark\",\"Scrypt\",\"QuBit\",\"X11\",\"Scrypt\",\"XEVAN\",\"SHA-256D\",\"X11\",\"SHA-256\",\"X13\",\"SHA-256\",\"X11\",\"DPoS\",\"Scrypt\",\"Scrypt\",\"X11\",\"NeoScrypt\",\"Scrypt\",\"Blake\",\"Scrypt\",\"SHA-256\",\"Scrypt\",\"X11\",\"Scrypt\",\"Scrypt\",\"SHA-256\",\"X11\",\"SHA-256\",\"Scrypt\",\"Scrypt\",\"Scrypt\",\"Groestl\",\"X11\",\"Scrypt\",\"PoS\",\"Scrypt\",\"Scrypt\",\"X11\",\"SHA-256\",\"DPoS\",\"Scrypt\",\"Scrypt\",\"NeoScrypt\",\"Multiple\",\"X13\",\"Equihash+Scrypt\",\"DPoS\",\"Ethash\",\"DPoS\",\"SHA-256\",\"Leased POS\",\"PoS\",\"TRC10\",\"PoS\",\"SHA-256\",\"Scrypt\",\"CryptoNight\",\"Equihash\",\"Scrypt\"],\"Class\":{\"__ndarray__\":\"AQAAAAEAAAABAAAAAAAAAAAAAAAAAAAAAQAAAAAAAAAAAAAAAAAAAAEAAAAAAAAAAQAAAAEAAAAAAAAAAQAAAAAAAAAAAAAAAQAAAAEAAAAAAAAAAAAAAAAAAAAAAAAAAAAAAAEAAAAAAAAAAAAAAAAAAAABAAAAAAAAAAEAAAAAAAAAAAAAAAEAAAABAAAAAAAAAAAAAAAAAAAAAAAAAAAAAAAAAAAAAQAAAAEAAAAAAAAAAAAAAAAAAAAAAAAAAAAAAAEAAAABAAAAAAAAAAEAAAAAAAAAAAAAAAAAAAAAAAAAAQAAAAAAAAAAAAAAAQAAAAAAAAABAAAAAQAAAAEAAAAAAAAAAAAAAAAAAAABAAAAAQAAAAEAAAABAAAAAQAAAAAAAAAAAAAAAAAAAAEAAAABAAAAAAAAAAEAAAAAAAAAAQAAAAEAAAAAAAAAAAAAAAAAAAAAAAAAAQAAAAEAAAAAAAAAAQAAAAAAAAAAAAAAAQAAAAEAAAAAAAAAAQAAAAEAAAAAAAAAAAAAAAEAAAABAAAAAAAAAAEAAAABAAAAAAAAAAEAAAAAAAAAAQAAAAAAAAABAAAAAAAAAAEAAAABAAAAAAAAAAAAAAABAAAAAAAAAAAAAAAAAAAAAQAAAAAAAAAAAAAAAAAAAAAAAAAAAAAAAQAAAAEAAAAAAAAAAAAAAAAAAAABAAAAAAAAAAEAAAAAAAAAAAAAAAEAAAAAAAAAAQAAAAAAAAABAAAAAQAAAAAAAAAAAAAAAQAAAAAAAAAAAAAAAQAAAAEAAAAAAAAAAQAAAAAAAAABAAAAAQAAAAEAAAAAAAAAAAAAAAAAAAAAAAAAAQAAAAEAAAABAAAAAQAAAAEAAAAAAAAAAAAAAAEAAAABAAAAAQAAAAEAAAABAAAAAAAAAAEAAAABAAAAAQAAAAEAAAABAAAAAAAAAAEAAAAAAAAAAQAAAAEAAAAAAAAAAQAAAAAAAAABAAAAAQAAAAAAAAABAAAAAAAAAAEAAAAAAAAAAQAAAAAAAAABAAAAAQAAAAEAAAABAAAAAAAAAAEAAAABAAAAAQAAAAEAAAABAAAAAAAAAAAAAAABAAAAAQAAAAAAAAAAAAAAAQAAAAEAAAABAAAAAQAAAAEAAAAAAAAAAQAAAAEAAAABAAAAAQAAAAEAAAABAAAAAQAAAAEAAAAAAAAAAQAAAAEAAAABAAAAAQAAAAEAAAABAAAAAAAAAAAAAAAAAAAAAQAAAAEAAAABAAAAAQAAAAAAAAABAAAAAAAAAAEAAAABAAAAAAAAAAEAAAAAAAAAAAAAAAEAAAAAAAAAAAAAAAEAAAAAAAAAAQAAAAEAAAABAAAAAAAAAAEAAAABAAAAAAAAAAEAAAABAAAAAQAAAAEAAAABAAAAAQAAAAEAAAAAAAAAAQAAAAAAAAABAAAAAQAAAAEAAAABAAAAAAAAAAEAAAAAAAAAAQAAAAAAAAAAAAAAAAAAAAAAAAABAAAAAAAAAAEAAAABAAAAAAAAAAEAAAAAAAAAAAAAAAAAAAABAAAAAAAAAAEAAAAAAAAAAAAAAAAAAAABAAAAAAAAAAEAAAAAAAAAAQAAAAEAAAABAAAAAAAAAAEAAAAAAAAAAAAAAAAAAAAAAAAAAAAAAAEAAAABAAAAAAAAAAEAAAABAAAAAQAAAAAAAAABAAAAAAAAAAEAAAAAAAAAAQAAAAAAAAABAAAAAQAAAAEAAAABAAAAAAAAAAEAAAABAAAAAAAAAAEAAAABAAAAAQAAAAAAAAAAAAAAAAAAAAAAAAABAAAAAQAAAAEAAAABAAAAAAAAAAEAAAAAAAAAAAAAAAAAAAABAAAAAQAAAAAAAAAAAAAAAQAAAAEAAAAAAAAAAQAAAAAAAAAAAAAAAAAAAAEAAAAAAAAAAAAAAAEAAAABAAAAAQAAAAAAAAAAAAAAAAAAAAEAAAABAAAAAQAAAAAAAAAAAAAAAQAAAAAAAAAAAAAAAAAAAAAAAAABAAAAAwAAAAMAAAAAAAAAAAAAAAAAAAABAAAAAwAAAAEAAAABAAAAAQAAAAEAAAAAAAAAAAAAAAAAAAAAAAAAAQAAAAEAAAABAAAAAAAAAAEAAAAAAAAAAQAAAAEAAAABAAAAAQAAAAAAAAABAAAAAQAAAAAAAAABAAAAAQAAAAAAAAAAAAAAAQAAAAAAAAABAAAAAAAAAAAAAAAAAAAAAAAAAAEAAAABAAAAAAAAAAEAAAAAAAAAAQAAAAEAAAABAAAAAQAAAAEAAAABAAAAAAAAAAAAAAAAAAAAAQAAAAEAAAABAAAAAQAAAAEAAAABAAAAAAAAAAEAAAAAAAAAAAAAAAAAAAAAAAAAAQAAAAEAAAABAAAAAQAAAAAAAAABAAAAAQAAAAAAAAABAAAAAQAAAAAAAAADAAAAAAAAAAEAAAAAAAAAAAAAAAEAAAABAAAAAAAAAAEAAAAAAAAAAAAAAAEAAAAAAAAAAAAAAAEAAAAAAAAAAQAAAAAAAAABAAAAAQAAAAAAAAABAAAAAQAAAAEAAAABAAAAAQAAAAAAAAAAAAAAAAAAAAEAAAABAAAAAQAAAAAAAAABAAAAAAAAAAEAAAAAAAAAAQAAAAEAAAABAAAAAQAAAAAAAAABAAAAAQAAAAEAAAAAAAAAAQAAAAAAAAABAAAAAAAAAAEAAAABAAAAAQAAAAAAAAAAAAAAAQAAAAEAAAABAAAAAQAAAAEAAAABAAAAAAAAAAEAAAAAAAAAAQAAAAAAAAABAAAAAQAAAAMAAAABAAAAAgAAAAEAAAABAAAAAQAAAAAAAAAAAAAAAQAAAA==\",\"dtype\":\"int32\",\"order\":\"little\",\"shape\":[532]},\"CoinName\":[\"42 Coin\",\"404Coin\",\"EliteCoin\",\"Bitcoin\",\"Ethereum\",\"Litecoin\",\"Dash\",\"Monero\",\"Ethereum Classic\",\"ZCash\",\"Bitshares\",\"DigiByte\",\"BitcoinDark\",\"PayCoin\",\"ProsperCoin\",\"KoboCoin\",\"Spreadcoin\",\"Argentum\",\"Aurora Coin\",\"BlueCoin\",\"MyriadCoin\",\"MoonCoin\",\"ZetaCoin\",\"SexCoin\",\"Quatloo\",\"EnergyCoin\",\"QuarkCoin\",\"Riecoin\",\"Digitalcoin \",\"BitBar\",\"Catcoin\",\"CryptoBullion\",\"CannaCoin\",\"CryptCoin\",\"CasinoCoin\",\"Diamond\",\"Verge\",\"DevCoin\",\"EarthCoin\",\"E-Gulden\",\"Einsteinium\",\"Emerald\",\"Exclusive Coin\",\"FlutterCoin\",\"Franko\",\"FeatherCoin\",\"GrandCoin\",\"GlobalCoin\",\"GoldCoin\",\"HoboNickels\",\"HyperStake\",\"Infinite Coin\",\"IOCoin\",\"IXcoin\",\"KrugerCoin\",\"LuckyCoin\",\"Litebar \",\"MaxCoin\",\"MegaCoin\",\"MediterraneanCoin\",\"MintCoin\",\"MinCoin\",\"MazaCoin\",\"Nautilus Coin\",\"NavCoin\",\"NobleCoin\",\"Namecoin\",\"NyanCoin\",\"OpalCoin\",\"Orbitcoin\",\"PotCoin\",\"PhoenixCoin\",\"Reddcoin\",\"RonPaulCoin\",\"StableCoin\",\"SmartCoin\",\"SuperCoin\",\"SyncCoin\",\"SysCoin\",\"TeslaCoin\",\"TigerCoin\",\"TittieCoin\",\"TorCoin\",\"TerraCoin\",\"UnbreakableCoin\",\"Unobtanium\",\"UroCoin\",\"UnitaryStatus Dollar\",\"UltraCoin\",\"ViaCoin\",\"VeriCoin\",\"Vertcoin\",\"WorldCoin\",\"X11 Coin\",\"Crypti\",\"JouleCoin\",\"StealthCoin\",\"ZCC Coin\",\"ByteCoin\",\"DigitalNote \",\"BurstCoin\",\"StorjCoin\",\"MonaCoin\",\"Neutron\",\"FairCoin\",\"Gulden\",\"RubyCoin\",\"PesetaCoin\",\"Kore\",\"Wild Beast Coin\",\"Dnotes\",\"Flo\",\"8BIT Coin\",\"Sativa Coin\",\"ArtByte\",\"Folding Coin\",\"Ucoin\",\"Unitus\",\"CypherPunkCoin\",\"OmniCron\",\"Vtorrent\",\"GreenCoin\",\"Cryptonite\",\"MasterCoin\",\"SoonCoin\",\"1Credit\",\"IslaCoin\",\"Nexus\",\"MarsCoin \",\"Crypto\",\"Anarchists Prime\",\"Droidz\",\"BowsCoin\",\"Squall Coin\",\"Song Coin\",\"BitZeny\",\"Diggits\",\"Expanse\",\"Paycon\",\"Siacoin\",\"Emercoin\",\"EverGreenCoin\",\"MindCoin\",\"I0coin\",\"Decred\",\"Revolution VR\",\"HOdlcoin\",\"EDRCoin\",\"Hitcoin\",\"Gamecredits\",\"DubaiCoin\",\"CarpeDiemCoin\",\"PWR Coin\",\"BillaryCoin\",\"GPU Coin\",\"Adzcoin\",\"SoilCoin\",\"YoCoin\",\"SibCoin\",\"EuropeCoin\",\"ZeitCoin\",\"SwingCoin\",\"SafeExchangeCoin\",\"Nebuchadnezzar\",\"Francs\",\"BolivarCoin\",\"Ratecoin\",\"Revenu\",\"Clockcoin\",\"VIP Tokens\",\"BitSend\",\"Omni\",\"Let it Ride\",\"PutinCoin\",\"iBankCoin\",\"Frankywillcoin\",\"MudraCoin\",\"PizzaCoin\",\"Lutetium Coin\",\"Komodo\",\"GoldBlocks\",\"CarterCoin\",\"Karbo\",\"BitTokens\",\"ZayedCoin\",\"MustangCoin\",\"ZoneCoin\",\"Circuits of Value\",\"RootCoin\",\"DopeCoin\",\"BitCurrency\",\"DollarCoin\",\"Swiscoin\",\"Shilling\",\"BuzzCoin\",\"Opair\",\"PesoBit\",\"Halloween Coin\",\"ZCoin\",\"CoffeeCoin\",\"RoyalCoin\",\"GanjaCoin V2\",\"TeamUP\",\"LanaCoin\",\"Elementrem\",\"ZClassic\",\"ARK\",\"InsaneCoin\",\"KiloCoin\",\"ArtexCoin\",\"EmberCoin\",\"XenixCoin\",\"FreeCoin\",\"PLNCoin\",\"AquariusCoin\",\"Kurrent\",\"Creatio\",\"Eternity\",\"Eurocoin\",\"BitcoinFast\",\"Stakenet\",\"BitConnect Coin\",\"MoneyCoin\",\"Enigma\",\"Cannabis Industry Coin\",\"Russiacoin\",\"PandaCoin\",\"GameUnits\",\"GAKHcoin\",\"Allsafe\",\"LiteCreed\",\"OsmiumCoin\",\"Bikercoins\",\"HexxCoin\",\"Klingon Empire Darsek\",\"Internet of People\",\"KushCoin\",\"Printerium\",\"PacCoin\",\"Impeach\",\"Citadel\",\"Zilbercoin\",\"FirstCoin\",\"BeaverCoin\",\"FindCoin\",\"VaultCoin\",\"Zero\",\"OpenChat\",\"Canada eCoin\",\"Zoin\",\"RenosCoin\",\"DubaiCoin\",\"VirtacoinPlus\",\"TajCoin\",\"Impact\",\"EB3coin\",\"Atmos\",\"HappyCoin\",\"Coinonat\",\"MacronCoin\",\"Condensate\",\"Independent Money System\",\"ArgusCoin\",\"LomoCoin\",\"ProCurrency\",\"GoldReserve\",\"BenjiRolls\",\"GrowthCoin\",\"ILCoin\",\"Phreak\",\"Degas Coin\",\"HTML5 Coin\",\"Ultimate Secure Cash\",\"EquiTrader\",\"QTUM\",\"Quantum Resistant Ledger\",\"Espers\",\"Dynamic\",\"Nano\",\"ChanCoin\",\"Dinastycoin\",\"Denarius\",\"DigitalPrice\",\"Virta Unique Coin\",\"Bitcoin Planet\",\"Unify\",\"BritCoin\",\"SocialCoin\",\"ArcticCoin\",\"DAS\",\"Linda\",\"LeviarCoin\",\"DeepOnion\",\"Bitcore\",\"gCn Coin\",\"SmartCash\",\"Signatum\",\"Onix\",\"Cream\",\"Bitcoin Cash\",\"Monoeci\",\"Draftcoin\",\"Vechain\",\"Sojourn Coin\",\"Stakecoin\",\"NewYorkCoin\",\"FrazCoin\",\"Kronecoin\",\"AdCoin\",\"Linx\",\"CoinonatX\",\"Ethereum Dark\",\"Sumokoin\",\"Obsidian\",\"Cardano\",\"Regalcoin\",\"BitcoinZ\",\"TrezarCoin\",\"Elements\",\"TerraNovaCoin\",\"VIVO Coin\",\"Rupee\",\"Bitcoin Gold\",\"WomenCoin\",\"Theresa May Coin\",\"NamoCoin\",\"LUXCoin\",\"Pirl\",\"Xios\",\"Bitcloud 2.0\",\"eBoost\",\"KekCoin\",\"BlackholeCoin\",\"Infinity Economics\",\"Pura\",\"Innova\",\"Ellaism\",\"GoByte\",\"Magnet\",\"Lamden Tau\",\"Electra\",\"Bitcoin Diamond\",\"SHIELD\",\"Cash & Back Coin\",\"UltraNote\",\"BitCoal\",\"DaxxCoin\",\"Bulwark\",\"Kalkulus\",\"AC3\",\"Lethean\",\"GermanCoin\",\"LiteCoin Ultra\",\"PopularCoin\",\"PhantomX\",\"Photon\",\"Sucre\",\"SparksPay\",\"Digiwage\",\"GunCoin\",\"IrishCoin\",\"Trollcoin\",\"Litecoin Plus\",\"Monkey Project\",\"Pioneer Coin\",\"UnitedBitcoin\",\"Interzone\",\"TokenPay\",\"1717 Masonic Commemorative Token\",\"My Big Coin\",\"TurtleCoin\",\"MUNcoin\",\"Unified Society USDEX\",\"Niobio Cash\",\"ShareChain\",\"Travelflex\",\"KREDS\",\"Tokyo Coin\",\"BiblePay\",\"LitecoinCash\",\"BitFlip\",\"LottoCoin\",\"Crypto Improvement Fund\",\"Stipend\",\"Poa Network\",\"Pushi\",\"Ellerium\",\"Velox\",\"Ontology\",\"Callisto Network\",\"BitTube\",\"Poseidon\",\"Aidos Kuneen\",\"Bitspace\",\"Briacoin\",\"Ignition\",\"Bitrolium\",\"MedicCoin\",\"Alpenschillling\",\"Bitcoin Green\",\"Deviant Coin\",\"Abjcoin\",\"Semux\",\"FuturoCoin\",\"Carebit\",\"Zealium\",\"Monero Classic\",\"Proton\",\"iDealCash\",\"Jumpcoin\",\"Infinex\",\"Bitcoin Incognito\",\"KEYCO\",\"HollyWoodCoin\",\"GINcoin\",\"PlatinCoin\",\"Loki\",\"Newton Coin\",\"Swisscoin\",\"Xt3ch\",\"MassGrid\",\"TheVig\",\"PluraCoin\",\"EmaratCoin\",\"Dekado\",\"Lynx\",\"Poseidon Quark\",\"BitcoinWSpectrum\",\"Muse\",\"Motion\",\"PlusOneCoin\",\"Axe\",\"Trivechain\",\"Dystem\",\"Giant\",\"Peony Coin\",\"Absolute Coin\",\"Vitae\",\"HexCoin\",\"TPCash\",\"Webchain\",\"Ryo\",\"Urals Coin\",\"Qwertycoin\",\"ARENON\",\"EUNO\",\"MMOCoin\",\"Ketan\",\"Project Pai\",\"XDNA\",\"PAXEX\",\"Azart\",\"ThunderStake\",\"Kcash\",\"Xchange\",\"Acute Angle Cloud\",\"CrypticCoin\",\"Bettex coin\",\"Actinium\",\"Bitcoin SV\",\"BitMoney\",\"Junson Ming Chan Coin\",\"FREDEnergy\",\"HerbCoin\",\"Universal Molecule\",\"Lithium\",\"PirateCash\",\"Exosis\",\"Block-Logic\",\"Oduwa\",\"Beam\",\"Galilel\",\"Bithereum\",\"Crypto Sports\",\"Credit\",\"SLICE\",\"Dash Platinum\",\"Nasdacoin\",\"Beetle Coin\",\"Titan Coin\",\"Award\",\"BLAST\",\"Bitcoin Rhodium\",\"GlobalToken\",\"Insane Coin\",\"ALAX\",\"LiteDoge\",\"SolarCoin\",\"TruckCoin\",\"UFO Coin\",\"OrangeCoin\",\"BlakeCoin\",\"BitstarCoin\",\"NeosCoin\",\"HyperCoin\",\"PinkCoin\",\"Crypto Escudo\",\"AudioCoin\",\"IncaKoin\",\"Piggy Coin\",\"Crown Coin\",\"Genstake\",\"SmileyCoin\",\"XiaoMiCoin\",\"Groestlcoin\",\"CapriCoin\",\" ClubCoin\",\"Radium\",\"Bata\",\"Pakcoin\",\"Creditbit \",\"OKCash\",\"Lisk\",\"HiCoin\",\"WhiteCoin\",\"FriendshipCoin\",\"JoinCoin\",\"Triangles Coin\",\"Vollar\",\"EOS\",\"Reality Clash\",\"Oxycoin\",\"TigerCash\",\"Waves\",\"Particl\",\"BitTorrent\",\"Nxt\",\"ZEPHYR\",\"Gapcoin\",\"Beldex\",\"Horizen\",\"BitcoinPlus\"],\"PC1\":{\"__ndarray__\":\"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\",\"dtype\":\"float64\",\"order\":\"little\",\"shape\":[532]},\"PC2\":{\"__ndarray__\":\"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\",\"dtype\":\"float64\",\"order\":\"little\",\"shape\":[532]},\"PC3\":{\"__ndarray__\":\"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\",\"dtype\":\"float64\",\"order\":\"little\",\"shape\":[532]},\"ProofType\":[\"PoW/PoS\",\"PoW/PoS\",\"PoW/PoS\",\"PoW\",\"PoW\",\"PoW\",\"PoW/PoS\",\"PoW\",\"PoW\",\"PoW\",\"PoS\",\"PoW\",\"PoW/PoS\",\"PoS\",\"PoW\",\"PoW/PoS\",\"PoW\",\"PoW\",\"PoW/PoS\",\"PoW/PoS\",\"PoW\",\"PoW\",\"PoW\",\"PoW\",\"PoW\",\"PoW/PoS\",\"PoW\",\"PoW\",\"PoW\",\"PoW/PoS\",\"PoW\",\"PoW/PoS\",\"PoW\",\"PoW\",\"PoC\",\"PoW/PoS\",\"PoW\",\"PoW\",\"PoW\",\"PoW\",\"PoW\",\"PoW\",\"PoS\",\"PoS/PoW/PoT\",\"PoW\",\"PoW\",\"PoW\",\"PoW\",\"PoW\",\"PoW/PoS\",\"PoS\",\"PoW\",\"PoW/PoS\",\"PoW\",\"PoW\",\"PoW\",\"PoW\",\"PoW/PoS\",\"PoW\",\"PoW\",\"PoS\",\"PoW\",\"PoW/PoS\",\"PoS\",\"PoW/PoS\",\"PoW\",\"PoW\",\"PoW\",\"PoW/PoS\",\"PoW/PoS\",\"PoW/PoS\",\"PoW/PoS\",\"PoW/PoS\",\"PoW\",\"PoW\",\"PoW\",\"PoS\",\"PoW/PoS\",\"PoW\",\"PoS\",\"PoW\",\"PoS\",\"PoW/PoS\",\"PoW\",\"PoW\",\"PoW\",\"PoW\",\"PoW/PoS\",\"PoW/PoS\",\"PoW\",\"PoST\",\"PoW\",\"PoW\",\"PoW/PoS\",\"PoS\",\"PoW\",\"PoW/PoS\",\"PoW/PoS\",\"PoW\",\"PoW\",\"PoC\",\"PoS\",\"PoW\",\"PoW/PoS\",\"PoW/PoS\",\"PoW\",\"PoS\",\"PoW\",\"PoW/PoS\",\"PoW\",\"PoS\",\"PoW\",\"PoW/PoS\",\"PoW/PoS\",\"PoW\",\"PoW\",\"PoS\",\"PoW\",\"PoW\",\"PoW\",\"PoW/PoS\",\"PoW\",\"PoW\",\"PoW\",\"PoW\",\"PoW\",\"PoW/PoS\",\"PoW/nPoS\",\"PoW\",\"PoW\",\"PoW\",\"PoW/PoS\",\"PoW\",\"PoS/PoW\",\"PoW\",\"PoW\",\"PoS\",\"PoW\",\"PoW/PoS\",\"PoW\",\"PoW/PoS\",\"PoW/PoS\",\"PoW\",\"PoW\",\"PoW/PoS\",\"PoW\",\"PoW\",\"PoW/PoS\",\"PoW/PoS\",\"PoW\",\"PoW/PoS\",\"PoW\",\"PoW/PoS\",\"PoW/PoS\",\"PoS\",\"PoW\",\"PoW\",\"PoW\",\"PoW\",\"PoW/PoS\",\"PoS\",\"PoW/PoS\",\"PoC\",\"PoS\",\"PoW\",\"PoW\",\"PoW/PoS\",\"PoW/PoS\",\"PoW/PoS\",\"PoW/PoS\",\"PoW/PoS\",\"PoW\",\"PoS\",\"PoW/PoS\",\"PoW/PoS\",\"PoW/PoS\",\"PoS\",\"PoW\",\"PoS\",\"dPoW/PoW\",\"PoW/PoS\",\"PoW/PoS\",\"PoW\",\"PoW/PoS\",\"PoW\",\"PoW/PoS\",\"PoW/PoS\",\"PoW\",\"PoW/PoS\",\"PoW\",\"PoS\",\"PoW\",\"PoW/PoW\",\"PoW\",\"PoW/PoS\",\"PoS\",\"PoW/PoS\",\"PoW/PoS\",\"PoW\",\"PoS\",\"PoS\",\"PoW/PoS\",\"PoS\",\"PoW/PoS\",\"PoW\",\"PoW\",\"DPoS\",\"PoW/PoS\",\"PoW\",\"PoW\",\"PoW/PoS\",\"PoW/PoS\",\"PoS\",\"PoW/PoS\",\"PoW/PoS\",\"PoW\",\"PoS\",\"PoW/PoS\",\"PoW/PoS\",\"PoW/PoS\",\"TPoS\",\"PoW/PoS\",\"PoW/PoS\",\"PoW/PoS\",\"PoW\",\"PoW/PoS\",\"PoS\",\"PoW/PoS\",\"PoW/PoS\",\"PoS\",\"PoW/PoS\",\"PoW\",\"PoW\",\"PoW\",\"PoW/PoS\",\"PoW/PoS\",\"PoW/PoS\",\"PoW/PoS\",\"PoW\",\"PoW/PoS\",\"PoW\",\"PoS\",\"PoW/PoS \",\"PoW\",\"PoS\",\"PoW\",\"PoW\",\"PoW/PoS\",\"PoW\",\"PoW\",\"PoS\",\"PoW\",\"PoW/PoS\",\"PoW/PoS\",\"PoW/PoS\",\"PoW\",\"PoS\",\"PoW/PoS\",\"PoW\",\"PoS\",\"PoW/PoS\",\"PoW/PoS\",\"PoW/PoS\",\"PoW/PoS\",\"PoS\",\"PoW/PoS\",\"PoW\",\"PoS\",\"PoW\",\"PoS\",\"PoW/PoS\",\"PoW/PoS\",\"PoS\",\"PoW\",\"PoS\",\"PoW\",\"PoW/PoS\",\"PoW\",\"PoW\",\"PoW\",\"PoW\",\"PoW/PoS\",\"PoW\",\"PoW/PoS\",\"PoW/PoS\",\"PoW\",\"PoW/PoS\",\"PoW\",\"PoW\",\"PoW\",\"PoW/PoS\",\"PoW\",\"PoW/PoS\",\"PoW\",\"PoW\",\"PoW\",\"PoS\",\"PoW\",\"PoW/PoS\",\"PoW\",\"PoW/PoS\",\"PoS\",\"Proof of Authority\",\"PoW\",\"PoS\",\"PoW\",\"PoW\",\"PoW\",\"PoW\",\"PoW\",\"PoW/PoS\",\"PoW/PoS\",\"PoW\",\"PoS\",\"PoS\",\"PoW/PoS\",\"PoW\",\"PoW/PoS\",\"PoW\",\"PoW/PoS\",\"PoW\",\"PoS\",\"PoW\",\"PoW/PoS\",\"PoW/PoS\",\"PoW/PoS\",\"PoW/PoS\",\"PoW\",\"PoW/PoS\",\"PoW/PoS\",\"PoW\",\"PoS\",\"PoW/PoS\",\"PoS\",\"PoW\",\"PoW\",\"PoW\",\"PoW\",\"PoW/PoS\",\"DPoS\",\"PoW/PoS\",\"PoW/PoS\",\"PoW\",\"PoW/PoS\",\"PoW\",\"PoW\",\"PoW\",\"PoS\",\"PoS\",\"PoW\",\"PoW\",\"PoW/PoS\",\"PoW/PoS\",\"PoW\",\"PoW/PoS\",\"PoW\",\"PoW\",\"PoW\",\"PoS\",\"PoW\",\"PoW\",\"PoW/PoS\",\"PoW/PoS\",\"PoS\",\"PoW\",\"PoW\",\"PoW\",\"PoS\",\"PoS\",\"PoW and PoS\",\"PoW\",\"PoW\",\"PoW/PoS\",\"PoW\",\"PoW\",\"PoW\",\"PoW\",\"PoS\",\"POBh\",\"PoW + Hive\",\"PoW\",\"PoW\",\"PoW\",\"PoW/PoS\",\"PoA\",\"PoW/PoS\",\"PoW/PoS\",\"PoS\",\"PoS\",\"PoW\",\"PoW\",\"PoW\",\"PoW\",\"PoW/PoS\",\"PoW/PoS\",\"PoW/PoS\",\"PoW\",\"PoS\",\"PoW\",\"PoS\",\"PoS\",\"PoW/PoS\",\"DPoS\",\"PoW\",\"PoW/PoS\",\"PoS\",\"PoW\",\"PoS\",\"PoW/PoS\",\"PoW\",\"PoW\",\"PoS/PoW\",\"PoW\",\"PoS\",\"PoW\",\"PoW\",\"PoW\",\"PoW\",\"PoW/PoS\",\"PoS\",\"PoW\",\"PoW/PoS\",\"PoW\",\"PoW/PoS\",\"PoS\",\"HPoW\",\"PoS\",\"PoS\",\"PoS\",\"PoW\",\"PoW\",\"PoW\",\"PoW/PoS\",\"PoS\",\"PoW/PoS\",\"PoS\",\"PoW/PoS\",\"PoS\",\"PoW\",\"PoW/PoS\",\"PoW\",\"PoW\",\"PoW\",\"PoW\",\"PoS\",\"PoW/PoS\",\"PoS\",\"PoS\",\"PoW\",\"PoW/PoS\",\"PoS\",\"PoW\",\"PoW/PoS\",\"Zero-Knowledge Proof\",\"PoW\",\"DPOS\",\"PoW\",\"PoS\",\"PoW\",\"PoW\",\"Pos\",\"PoS\",\"PoW\",\"PoW/PoS\",\"PoW\",\"PoW\",\"PoS\",\"PoW\",\"PoW\",\"PoW/PoS\",\"PoW\",\"PoW/PoS\",\"PoW\",\"PoS\",\"PoW/PoS\",\"PoW\",\"PoS\",\"PoW/PoS\",\"PoW/PoS\",\"PoW/PoS\",\"PoW/PoS\",\"PoW\",\"PoW\",\"PoW\",\"PoW/PoS\",\"DPoS\",\"PoW/PoS\",\"PoW\",\"PoW/PoS\",\"PoW\",\"PoW/PoS\",\"PoW\",\"PoW/PoS\",\"PoS\",\"PoW/PoS\",\"PoW/PoS\",\"PoW\",\"PoW/PoS\",\"PoW/PoS\",\"PoW/PoS\",\"PoW\",\"PoW/PoS\",\"PoW\",\"PoW/PoS\",\"PoW\",\"PoW/PoS\",\"PoW/PoS\",\"PoS\",\"PoW\",\"PoW\",\"Proof of Trust\",\"PoW/PoS\",\"DPoS\",\"PoS\",\"PoW/PoS\",\"PoW/PoS\",\"PoW\",\"PoW/PoS\",\"PoW\",\"DPoS\",\"PoW\",\"DPoS\",\"PoS\",\"LPoS\",\"PoS\",\"DPoS\",\"PoS/LPoS\",\"DPoS\",\"PoW/PoS\",\"PoW\",\"PoW\",\"PoS\"],\"TotalCoinSupply\":[\"42\",\"532000000\",\"314159265359\",\"21000000\",\"0\",\"84000000\",\"22000000\",\"0\",\"210000000\",\"21000000\",\"3600570502\",\"21000000000\",\"22000000\",\"12500000\",\"21000000\",\"350000000\",\"20000000\",\"64000000\",\"16768584\",\"0\",\"2000000000\",\"384000000000\",\"169795588\",\"250000000\",\"100000000\",\"0\",\"247000000\",\"84000000\",\"48166000\",\"500000\",\"21000000 \",\"1000000\",\"13140000\",\"18000000\",\"40000000000\",\"4380000\",\"16555000000\",\"21000000000\",\"13500000000\",\"21000000 \",\"299792458\",\"32000000\",\"0\",\"0\",\"11235813\",\"336000000\",\"1420609614\",\"70000000\",\"72245700\",\"120000000\",\"0\",\"90600000000\",\"22000000\",\"21000000\",\"265420800\",\"20000000\",\"1350000\",\"100000000\",\"42000000\",\"200000000\",\"0\",\"10000000\",\"2419200000\",\"16180000\",\"0\",\"15000000000\",\"21000000\",\"337000000\",\"0\",\"3770000\",\"420000000\",\"98000000\",\"0\",\"21000000\",\"250000000\",\"51200000\",\"0\",\"1000\",\"888000000\",\"100000000\",\"47011968\",\"2300000000\",\"10000000\",\"42000000\",\"80000000\",\"250000\",\"0\",\"1600000000\",\"100000000\",\"23000000\",\"0\",\"84000000\",\"265420800\",\"5500000\",\"0\",\"45000000\",\"0\",\"1000000000\",\"184467440735\",\"10000000000\",\"2158812800\",\"500000000\",\"105120000\",\"68000000\",\"0\",\"1680000000\",\"0\",\"166386000\",\"12000000\",\"2628000\",\"500000000\",\"160000000\",\"0\",\"10000000\",\"1000000000\",\"1000000000\",\"20000000\",\"0\",\"0\",\"3371337\",\"20000000\",\"10000000000\",\"1840000000\",\"619478\",\"21000000\",\"92000000000\",\"0\",\"78000000\",\"33000000\",\"65789100\",\"53760000\",\"5060000\",\"21000000\",\"0\",\"210240000\",\"250000000\",\"100000000\",\"16906397\",\"50000000\",\"0\",\"1000000000\",\"26298000\",\"16000000\",\"21000000\",\"21000000\",\"210000000\",\"81962100\",\"22000000\",\"26550000000\",\"84000000\",\"10500000\",\"21626280000 \",\"0\",\"42000000\",\"221052632\",\"84000000\",\"30000000\",\"168351300\",\"24000000\",\"384000000\",\" 99000000000\",\"40000000\",\"2147483647\",\"20000000\",\"20000000\",\"25000000\",\"75000000\",\"222725000\",\"525000000\",\"90000000\",\"139000000\",\"616448\",\"33500000\",\"2000000000\",\"44333333\",\"100000000\",\"200000000\",\"25000000\",\"657000000\",\"200000000\",\"50000000\",\"90000000\",\"10000000\",\"21000000\",\"9736000\",\"3000000\",\"21000000\",\"1200000000\",\"0\",\"200000000\",\"0\",\"10638298\",\"3100000000\",\"30000000\",\"20000000000\",\"74000000\",\"0\",\"1500000000\",\"21400000\",\"39999898\",\"2500124\",\"100000000\",\"301000000\",\"7506000000\",\"26205539\",\"21000000\",\"125000000\",\"30000000\",\"10000000000\",\"500000000\",\"850000000\",\"3853326.77707314\",\"50000000\",\"38540000 \",\"42000000\",\"228000000\",\"20000000\",\"60000000\",\"20000000\",\"33000000\",\"76500000\",\"28000000\",\"650659833\",\"5000000\",\"21000000\",\"144000000\",\"32514916898\",\"13000000\",\"3315789\",\"15000000\",\"78835200\",\"2714286\",\"25000000\",\"9999999\",\"500000000\",\"21000000\",\"9354000\",\"20000000\",\"100000000000\",\"21933333\",\"185000000\",\"55000000\",\"110000000\",\"3360000\",\"14524851.4827\",\"1000000000\",\"17000000\",\"1000000000\",\"100000000 \",\"21000000\",\"34426423\",\"2232901\",\"100000000\",\"36900000\",\"110000000\",\"4000000000\",\"110290030\",\"100000000\",\"48252000\",\"400000000\",\"500000000\",\"21212121\",\"28600000\",\"1000000000\",\"75000000000\",\"40000000\",\"35520400\",\"2000000000\",\"2500000000\",\"30000000\",\"105000000\",\"90000000000\",\"200084200\",\"72000000\",\"100000000\",\"105000000\",\"50000000000\",\"0\",\"340282367\",\"30000000\",\"2000000000\",\"10000000\",\"100000000\",\"120000000\",\"100000000\",\"19276800\",\"30000000\",\" 75000000\",\"60000000\",\"18900000\",\"50000000000\",\"54000000\",\"18898187.6216583\",\"21000000\",\"200000000000\",\"5000000000\",\"137500000\",\"1100000000\",\"100000000\",\"21000000\",\"9507271\",\"17405891.19707116\",\"86712634466\",\"10500000000\",\"61599965\",\"0\",\"20000000\",\"84000000\",\"100000000\",\"100000000\",\"48252000\",\"4200000\",\"88888888\",\"91388946\",\"45000000000\",\"27000000\",\"21000000000\",\"400000000\",\"1800000000\",\"15733333\",\"27000000\",\"24000000\",\"21000000\",\"25000000000\",\"100000000\",\"1200000000\",\"60000000\",\"156306732.71\",\"21000000\",\"200000000\",\"100000000\",\"21000000\",\"14788275.991\",\"9000000000\",\"350000000\",\"45000000\",\"280000000\",\"31800000\",\"144000000\",\"500000000\",\"30000000000\",\"210000000\",\"660000000\",\"210000000\",\"85000000000\",\"12500000\",\"10000000000\",\"27716121\",\"20000000\",\"550000000\",\"999481516\",\"50000000000\",\"150000000\",\"4999999999\",\"50000000\",\" 90000000000\",\"19800000\",\"21000000\",\"120000000\",\"500000000\",\"64000000\",\"900000000\",\"4000000\",\"21000000\",\"23000000\",\"20166000\",\"23000000\",\"25000000\",\"1618033\",\"30000000\",\"1000000000000\",\"16600000\",\"232000000\",\"336000000\",\"10000000000\",\"100000000\",\"1100000000\",\"800000000\",\"5200000000\",\"840000000\",\"40000000\",\"18406979840\",\"500000000\",\"19340594\",\"252460800\",\"25000000\",\"60000000\",\"124000000\",\"1000000000\",\"6500000000\",\"1000000000\",\"21000000\",\"25000000\",\"50000000\",\"3000000\",\"5000000\",\"70000000\",\"500000000\",\"300000000\",\"21000000\",\"88000000\",\"30000000\",\"100000000\",\"100000000\",\"200000000\",\"80000000\",\"18400000\",\"45000000\",\"5121951220\",\"21000000\",\"26280000\",\"21000000\",\"18000000\",\"26000000\",\"10500000\",\"600000518\",\"150000000\",\"184000000000\",\"10200000000\",\"44000000\",\"168000000\",\"100000000\",\"1000000000\",\"84000000\",\"90000000\",\"92000000000\",\"650000000 \",\"100262205\",\"18081806 \",\"22075700\",\"21000000\",\"21000000\",\"82546564\",\"21000000\",\"5151000\",\"16880000000\",\"52500000\",\"100000000\",\"22105263\",\"1000000000\",\"1750000000\",\"88188888\",\"210000000\",\"184470000000\",\"55000000\",\"50000000\",\"260000000\",\"210000000\",\"2100000000\",\"366000000\",\"100000000\",\"25000000\",\"18000000000\",\"1000000000\",\"100000000\",\"1000000000\",\"7600000000\",\"50000000\",\"84000000\",\"21000000\",\"70000000000\",\"0\",\"8080000000\",\"54000000\",\"105120001.44\",\"25228800\",\"105000000\",\"21000000\",\"120000000\",\"21000000\",\"262800000\",\"19035999\",\"30886000\",\"13370000\",\"74800000000\",\"100000000\",\"19700000\",\"84000000\",\"500000000\",\"5000000000\",\"420000000\",\"64000000\",\"2100000\",\"168000000\",\"30000000\",\"1000000000\",\"35000000000\",\"98100000000\",\"0\",\"4000000000\",\"200000000\",\"7000000000\",\"54256119\",\"21000000\",\"0\",\"500000000\",\"1000000000\",\"10500000000\",\"190000000\",\"1000000000\",\"42000000\",\"15000000\",\"50000000000\",\"400000000\",\"105000000\",\"208000000\",\"160000000\",\"9000000\",\"5000000\",\"182000000\",\"16504333\",\"105000000\",\"159918400\",\"10008835635\",\"300000000\",\"60168145\",\"2800000\",\"120000\",\"2100000000\",\"0\",\"24487944\",\"0\",\"1000000000\",\"100000000\",\"8634140\",\"990000000000\",\"1000000000\",\"2000000000\",\"250000000\",\"1400222610\",\"21000000\",\"1000000\"],\"TotalCoinsMined\":{\"__ndarray__\":\"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\",\"dtype\":\"float64\",\"order\":\"little\",\"shape\":[532]}},\"selected\":{\"id\":\"1105\"},\"selection_policy\":{\"id\":\"1154\"}},\"id\":\"1104\",\"type\":\"ColumnDataSource\"},{\"attributes\":{\"source\":{\"id\":\"1104\"}},\"id\":\"1152\",\"type\":\"CDSView\"},{\"attributes\":{},\"id\":\"1112\",\"type\":\"StringEditor\"},{\"attributes\":{},\"id\":\"1105\",\"type\":\"Selection\"},{\"attributes\":{\"editor\":{\"id\":\"1117\"},\"field\":\"TotalCoinsMined\",\"formatter\":{\"id\":\"1116\"},\"title\":\"TotalCoinsMined\"},\"id\":\"1118\",\"type\":\"TableColumn\"},{\"attributes\":{\"editor\":{\"id\":\"1132\"},\"field\":\"PC2\",\"formatter\":{\"id\":\"1131\"},\"title\":\"PC2\"},\"id\":\"1133\",\"type\":\"TableColumn\"},{\"attributes\":{},\"id\":\"1132\",\"type\":\"NumberEditor\"},{\"attributes\":{\"editor\":{\"id\":\"1137\"},\"field\":\"PC3\",\"formatter\":{\"id\":\"1136\"},\"title\":\"PC3\"},\"id\":\"1138\",\"type\":\"TableColumn\"},{\"attributes\":{},\"id\":\"1121\",\"type\":\"StringFormatter\"},{\"attributes\":{\"children\":[{\"id\":\"1103\"},{\"id\":\"1151\"},{\"id\":\"1157\"}],\"margin\":[0,0,0,0],\"name\":\"Row01706\",\"tags\":[\"embedded\"]},\"id\":\"1102\",\"type\":\"Row\"},{\"attributes\":{},\"id\":\"1122\",\"type\":\"StringEditor\"},{\"attributes\":{},\"id\":\"1111\",\"type\":\"StringFormatter\"},{\"attributes\":{\"format\":\"0,0.0[00000]\"},\"id\":\"1116\",\"type\":\"NumberFormatter\"}],\"root_ids\":[\"1102\"]},\"title\":\"Bokeh Application\",\"version\":\"2.2.3\"}};\n",
       "    var render_items = [{\"docid\":\"d35ec459-3f37-4afd-8fdc-25a4450a8829\",\"root_ids\":[\"1102\"],\"roots\":{\"1102\":\"a9c3e340-deee-40b6-a5fc-79829eaacbb1\"}}];\n",
       "    root.Bokeh.embed.embed_items_notebook(docs_json, render_items);\n",
       "  }\n",
       "  if (root.Bokeh !== undefined && root.Bokeh.Panel !== undefined) {\n",
       "    embed_document(root);\n",
       "  } else {\n",
       "    var attempts = 0;\n",
       "    var timer = setInterval(function(root) {\n",
       "      if (root.Bokeh !== undefined && root.Bokeh.Panel !== undefined) {\n",
       "        clearInterval(timer);\n",
       "        embed_document(root);\n",
       "      } else if (document.readyState == \"complete\") {\n",
       "        attempts++;\n",
       "        if (attempts > 100) {\n",
       "          clearInterval(timer);\n",
       "          console.log(\"Bokeh: ERROR: Unable to run BokehJS code because BokehJS library is missing\");\n",
       "        }\n",
       "      }\n",
       "    }, 10, root)\n",
       "  }\n",
       "})(window);</script>"
      ],
      "text/plain": [
       ":Table   [Algorithm,ProofType,TotalCoinsMined,TotalCoinSupply,PC1,PC2,PC3,CoinName,Class]"
      ]
     },
     "execution_count": 185,
     "metadata": {
      "application/vnd.holoviews_exec.v0+json": {
       "id": "1102"
      }
     },
     "output_type": "execute_result"
    }
   ],
   "source": [
    "# Create a table with tradable cryptocurrencies.\n",
    "clustered_df.hvplot.table()"
   ]
  },
  {
   "cell_type": "code",
   "execution_count": 190,
   "metadata": {},
   "outputs": [
    {
     "name": "stdout",
     "output_type": "stream",
     "text": [
      "There are 532 tradable cryptocurrencies.\n"
     ]
    }
   ],
   "source": [
    "# Print the total number of tradable cryptocurrencies.\n",
    "print(\"There are \" + str(clustered_df[\"Algorithm\"].count()) + \" tradable cryptocurrencies.\")"
   ]
  },
  {
   "cell_type": "code",
   "execution_count": 206,
   "metadata": {},
   "outputs": [
    {
     "data": {
      "text/plain": [
       "array([[4.20000000e-11, 0.00000000e+00],\n",
       "       [5.32000000e-04, 1.06585544e-03],\n",
       "       [3.14159265e-01, 2.95755135e-02],\n",
       "       ...,\n",
       "       [1.40022261e-03, 9.90135079e-04],\n",
       "       [2.10000000e-05, 7.37028150e-06],\n",
       "       [1.00000000e-06, 1.29582282e-07]])"
      ]
     },
     "execution_count": 206,
     "metadata": {},
     "output_type": "execute_result"
    }
   ],
   "source": [
    "# Scaling data to create the scatter plot with tradable cryptocurrencies.\n",
    "data = crypto_df[['TotalCoinSupply', 'TotalCoinsMined']]\n",
    "scaler = MinMaxScaler()\n",
    "crypto_minmax = scaler.fit_transform(data)\n",
    "crypto_minmax"
   ]
  },
  {
   "cell_type": "code",
   "execution_count": 210,
   "metadata": {},
   "outputs": [
    {
     "data": {
      "text/html": [
       "<div>\n",
       "<style scoped>\n",
       "    .dataframe tbody tr th:only-of-type {\n",
       "        vertical-align: middle;\n",
       "    }\n",
       "\n",
       "    .dataframe tbody tr th {\n",
       "        vertical-align: top;\n",
       "    }\n",
       "\n",
       "    .dataframe thead th {\n",
       "        text-align: right;\n",
       "    }\n",
       "</style>\n",
       "<table border=\"1\" class=\"dataframe\">\n",
       "  <thead>\n",
       "    <tr style=\"text-align: right;\">\n",
       "      <th></th>\n",
       "      <th>TotalCoinSupply</th>\n",
       "      <th>TotalCoinsMined</th>\n",
       "      <th>CoinName</th>\n",
       "      <th>Class</th>\n",
       "    </tr>\n",
       "  </thead>\n",
       "  <tbody>\n",
       "    <tr>\n",
       "      <th>42</th>\n",
       "      <td>4.200000e-11</td>\n",
       "      <td>0.000000</td>\n",
       "      <td>42 Coin</td>\n",
       "      <td>1</td>\n",
       "    </tr>\n",
       "    <tr>\n",
       "      <th>404</th>\n",
       "      <td>5.320000e-04</td>\n",
       "      <td>0.001066</td>\n",
       "      <td>404Coin</td>\n",
       "      <td>1</td>\n",
       "    </tr>\n",
       "    <tr>\n",
       "      <th>1337</th>\n",
       "      <td>3.141593e-01</td>\n",
       "      <td>0.029576</td>\n",
       "      <td>EliteCoin</td>\n",
       "      <td>1</td>\n",
       "    </tr>\n",
       "    <tr>\n",
       "      <th>BTC</th>\n",
       "      <td>2.100000e-05</td>\n",
       "      <td>0.000018</td>\n",
       "      <td>Bitcoin</td>\n",
       "      <td>0</td>\n",
       "    </tr>\n",
       "    <tr>\n",
       "      <th>ETH</th>\n",
       "      <td>0.000000e+00</td>\n",
       "      <td>0.000109</td>\n",
       "      <td>Ethereum</td>\n",
       "      <td>0</td>\n",
       "    </tr>\n",
       "    <tr>\n",
       "      <th>LTC</th>\n",
       "      <td>8.400000e-05</td>\n",
       "      <td>0.000064</td>\n",
       "      <td>Litecoin</td>\n",
       "      <td>0</td>\n",
       "    </tr>\n",
       "    <tr>\n",
       "      <th>DASH</th>\n",
       "      <td>2.200000e-05</td>\n",
       "      <td>0.000009</td>\n",
       "      <td>Dash</td>\n",
       "      <td>1</td>\n",
       "    </tr>\n",
       "    <tr>\n",
       "      <th>XMR</th>\n",
       "      <td>0.000000e+00</td>\n",
       "      <td>0.000017</td>\n",
       "      <td>Monero</td>\n",
       "      <td>0</td>\n",
       "    </tr>\n",
       "    <tr>\n",
       "      <th>ETC</th>\n",
       "      <td>2.100000e-04</td>\n",
       "      <td>0.000115</td>\n",
       "      <td>Ethereum Classic</td>\n",
       "      <td>0</td>\n",
       "    </tr>\n",
       "    <tr>\n",
       "      <th>ZEC</th>\n",
       "      <td>2.100000e-05</td>\n",
       "      <td>0.000007</td>\n",
       "      <td>ZCash</td>\n",
       "      <td>0</td>\n",
       "    </tr>\n",
       "  </tbody>\n",
       "</table>\n",
       "</div>"
      ],
      "text/plain": [
       "      TotalCoinSupply  TotalCoinsMined          CoinName  Class\n",
       "42       4.200000e-11         0.000000           42 Coin      1\n",
       "404      5.320000e-04         0.001066           404Coin      1\n",
       "1337     3.141593e-01         0.029576         EliteCoin      1\n",
       "BTC      2.100000e-05         0.000018           Bitcoin      0\n",
       "ETH      0.000000e+00         0.000109          Ethereum      0\n",
       "LTC      8.400000e-05         0.000064          Litecoin      0\n",
       "DASH     2.200000e-05         0.000009              Dash      1\n",
       "XMR      0.000000e+00         0.000017            Monero      0\n",
       "ETC      2.100000e-04         0.000115  Ethereum Classic      0\n",
       "ZEC      2.100000e-05         0.000007             ZCash      0"
      ]
     },
     "execution_count": 210,
     "metadata": {},
     "output_type": "execute_result"
    }
   ],
   "source": [
    "# Create a new DataFrame that has the scaled data with the clustered_df DataFrame index.\n",
    "plot_df = pd.DataFrame(data=crypto_minmax, columns=[\"TotalCoinSupply\", \"TotalCoinsMined\"], index=index)\n",
    "plot_df.head\n",
    "\n",
    "# Add the \"CoinName\" column from the clustered_df DataFrame to the new DataFrame.\n",
    "coin_name = mined_and_traded_crypto[\"CoinName\"]\n",
    "plot_df = plot_df.join(coin_name)\n",
    "plot_df.head()\n",
    "\n",
    "# Add the \"Class\" column from the clustered_df DataFrame to the new DataFrame. \n",
    "plot_df[\"Class\"]=model.labels_\n",
    "\n",
    "plot_df.head(10)"
   ]
  },
  {
   "cell_type": "code",
   "execution_count": 213,
   "metadata": {},
   "outputs": [
    {
     "data": {},
     "metadata": {},
     "output_type": "display_data"
    },
    {
     "data": {
      "application/vnd.holoviews_exec.v0+json": "",
      "text/html": [
       "<div id='1815'>\n",
       "\n",
       "\n",
       "\n",
       "\n",
       "\n",
       "  <div class=\"bk-root\" id=\"7255a53e-adc5-43fe-9bd5-5e3aabdf8915\" data-root-id=\"1815\"></div>\n",
       "</div>\n",
       "<script type=\"application/javascript\">(function(root) {\n",
       "  function embed_document(root) {\n",
       "    var docs_json = {\"42878004-2817-4529-affc-3f97f54d61cc\":{\"roots\":{\"references\":[{\"attributes\":{\"axis\":{\"id\":\"1836\"},\"dimension\":1,\"grid_line_color\":null,\"ticker\":null},\"id\":\"1839\",\"type\":\"Grid\"},{\"attributes\":{\"fill_color\":{\"value\":\"#1f77b3\"},\"line_color\":{\"value\":\"#1f77b3\"},\"size\":{\"units\":\"screen\",\"value\":5.477225575051661},\"x\":{\"field\":\"TotalCoinsMined\"},\"y\":{\"field\":\"TotalCoinSupply\"}},\"id\":\"1860\",\"type\":\"Scatter\"},{\"attributes\":{\"source\":{\"id\":\"1894\"}},\"id\":\"1901\",\"type\":\"CDSView\"},{\"attributes\":{},\"id\":\"1837\",\"type\":\"BasicTicker\"},{\"attributes\":{\"fill_color\":{\"value\":\"#2ba02b\"},\"line_color\":{\"value\":\"#2ba02b\"},\"size\":{\"units\":\"screen\",\"value\":5.477225575051661},\"x\":{\"field\":\"TotalCoinsMined\"},\"y\":{\"field\":\"TotalCoinSupply\"}},\"id\":\"1897\",\"type\":\"Scatter\"},{\"attributes\":{\"end\":1.1,\"reset_end\":1.1,\"reset_start\":-0.1,\"start\":-0.1,\"tags\":[[[\"TotalCoinSupply\",\"TotalCoinSupply\",null]]]},\"id\":\"1818\",\"type\":\"Range1d\"},{\"attributes\":{\"active_drag\":\"auto\",\"active_inspect\":\"auto\",\"active_multi\":null,\"active_scroll\":\"auto\",\"active_tap\":\"auto\",\"tools\":[{\"id\":\"1819\"},{\"id\":\"1840\"},{\"id\":\"1841\"},{\"id\":\"1842\"},{\"id\":\"1843\"},{\"id\":\"1844\"}]},\"id\":\"1846\",\"type\":\"Toolbar\"},{\"attributes\":{\"fill_alpha\":{\"value\":0.2},\"fill_color\":{\"value\":\"#1f77b3\"},\"line_alpha\":{\"value\":0.2},\"line_color\":{\"value\":\"#1f77b3\"},\"size\":{\"units\":\"screen\",\"value\":5.477225575051661},\"x\":{\"field\":\"TotalCoinsMined\"},\"y\":{\"field\":\"TotalCoinSupply\"}},\"id\":\"1862\",\"type\":\"Scatter\"},{\"attributes\":{},\"id\":\"1876\",\"type\":\"Selection\"},{\"attributes\":{\"axis_label\":\"TotalCoinSupply\",\"bounds\":\"auto\",\"formatter\":{\"id\":\"1856\"},\"major_label_orientation\":\"horizontal\",\"ticker\":{\"id\":\"1837\"}},\"id\":\"1836\",\"type\":\"LinearAxis\"},{\"attributes\":{\"fill_alpha\":{\"value\":0.1},\"fill_color\":{\"value\":\"#1f77b3\"},\"line_alpha\":{\"value\":0.1},\"line_color\":{\"value\":\"#1f77b3\"},\"size\":{\"units\":\"screen\",\"value\":5.477225575051661},\"x\":{\"field\":\"TotalCoinsMined\"},\"y\":{\"field\":\"TotalCoinSupply\"}},\"id\":\"1861\",\"type\":\"Scatter\"},{\"attributes\":{\"fill_alpha\":{\"value\":0.1},\"fill_color\":{\"value\":\"#2ba02b\"},\"line_alpha\":{\"value\":0.1},\"line_color\":{\"value\":\"#2ba02b\"},\"size\":{\"units\":\"screen\",\"value\":5.477225575051661},\"x\":{\"field\":\"TotalCoinsMined\"},\"y\":{\"field\":\"TotalCoinSupply\"}},\"id\":\"1898\",\"type\":\"Scatter\"},{\"attributes\":{\"axis_label\":\"TotalCoinsMined\",\"bounds\":\"auto\",\"formatter\":{\"id\":\"1854\"},\"major_label_orientation\":\"horizontal\",\"ticker\":{\"id\":\"1833\"}},\"id\":\"1832\",\"type\":\"LinearAxis\"},{\"attributes\":{\"fill_color\":{\"value\":\"#ff7e0e\"},\"line_color\":{\"value\":\"#ff7e0e\"},\"size\":{\"units\":\"screen\",\"value\":5.477225575051661},\"x\":{\"field\":\"TotalCoinsMined\"},\"y\":{\"field\":\"TotalCoinSupply\"}},\"id\":\"1878\",\"type\":\"Scatter\"},{\"attributes\":{\"bottom_units\":\"screen\",\"fill_alpha\":0.5,\"fill_color\":\"lightgrey\",\"left_units\":\"screen\",\"level\":\"overlay\",\"line_alpha\":1.0,\"line_color\":\"black\",\"line_dash\":[4,4],\"line_width\":2,\"right_units\":\"screen\",\"top_units\":\"screen\"},\"id\":\"1845\",\"type\":\"BoxAnnotation\"},{\"attributes\":{},\"id\":\"1854\",\"type\":\"BasicTickFormatter\"},{\"attributes\":{\"data\":{\"Class\":[3,3,3,3,3],\"CoinName\":[\"BiblePay\",\"LitecoinCash\",\"Poa Network\",\"Acute Angle Cloud\",\"Waves\"],\"TotalCoinSupply\":{\"__ndarray__\":\"lPYGX5hMdT+8eapDboZLP4RaKOGWizA//Knx0k1iUD8sQxzr4jYaPw==\",\"dtype\":\"float64\",\"order\":\"little\",\"shape\":[5]},\"TotalCoinsMined\":{\"__ndarray__\":\"j1gNkdpTXT+QpMXySiFFP5wZJXiPEis/ekNDBbiMUD/7RX5gv3oaPw==\",\"dtype\":\"float64\",\"order\":\"little\",\"shape\":[5]}},\"selected\":{\"id\":\"1916\"},\"selection_policy\":{\"id\":\"1936\"}},\"id\":\"1915\",\"type\":\"ColumnDataSource\"},{\"attributes\":{\"label\":{\"value\":\"1\"},\"renderers\":[{\"id\":\"1881\"}]},\"id\":\"1893\",\"type\":\"LegendItem\"},{\"attributes\":{\"fill_alpha\":{\"value\":0.2},\"fill_color\":{\"value\":\"#ff7e0e\"},\"line_alpha\":{\"value\":0.2},\"line_color\":{\"value\":\"#ff7e0e\"},\"size\":{\"units\":\"screen\",\"value\":5.477225575051661},\"x\":{\"field\":\"TotalCoinsMined\"},\"y\":{\"field\":\"TotalCoinSupply\"}},\"id\":\"1880\",\"type\":\"Scatter\"},{\"attributes\":{\"source\":{\"id\":\"1875\"}},\"id\":\"1882\",\"type\":\"CDSView\"},{\"attributes\":{\"data_source\":{\"id\":\"1894\"},\"glyph\":{\"id\":\"1897\"},\"hover_glyph\":null,\"muted_glyph\":{\"id\":\"1899\"},\"nonselection_glyph\":{\"id\":\"1898\"},\"selection_glyph\":null,\"view\":{\"id\":\"1901\"}},\"id\":\"1900\",\"type\":\"GlyphRenderer\"},{\"attributes\":{\"below\":[{\"id\":\"1832\"}],\"center\":[{\"id\":\"1835\"},{\"id\":\"1839\"}],\"left\":[{\"id\":\"1836\"}],\"margin\":[5,5,5,5],\"min_border_bottom\":10,\"min_border_left\":10,\"min_border_right\":10,\"min_border_top\":10,\"plot_height\":300,\"plot_width\":700,\"renderers\":[{\"id\":\"1863\"},{\"id\":\"1881\"},{\"id\":\"1900\"},{\"id\":\"1921\"}],\"right\":[{\"id\":\"1873\"}],\"sizing_mode\":\"fixed\",\"title\":{\"id\":\"1824\"},\"toolbar\":{\"id\":\"1846\"},\"x_range\":{\"id\":\"1817\"},\"x_scale\":{\"id\":\"1828\"},\"y_range\":{\"id\":\"1818\"},\"y_scale\":{\"id\":\"1830\"}},\"id\":\"1823\",\"subtype\":\"Figure\",\"type\":\"Plot\"},{\"attributes\":{},\"id\":\"1913\",\"type\":\"UnionRenderers\"},{\"attributes\":{\"children\":[{\"id\":\"1816\"},{\"id\":\"1823\"},{\"id\":\"2064\"}],\"margin\":[0,0,0,0],\"name\":\"Row03425\",\"tags\":[\"embedded\"]},\"id\":\"1815\",\"type\":\"Row\"},{\"attributes\":{},\"id\":\"1840\",\"type\":\"SaveTool\"},{\"attributes\":{},\"id\":\"1872\",\"type\":\"UnionRenderers\"},{\"attributes\":{},\"id\":\"1916\",\"type\":\"Selection\"},{\"attributes\":{},\"id\":\"1841\",\"type\":\"PanTool\"},{\"attributes\":{\"data\":{\"Class\":[1,1,1,1,1,1,1,1,1,1,1,1,1,1,1,1,1,1,1,1,1,1,1,1,1,1,1,1,1,1,1,1,1,1,1,1,1,1,1,1,1,1,1,1,1,1,1,1,1,1,1,1,1,1,1,1,1,1,1,1,1,1,1,1,1,1,1,1,1,1,1,1,1,1,1,1,1,1,1,1,1,1,1,1,1,1,1,1,1,1,1,1,1,1,1,1,1,1,1,1,1,1,1,1,1,1,1,1,1,1,1,1,1,1,1,1,1,1,1,1,1,1,1,1,1,1,1,1,1,1,1,1,1,1,1,1,1,1,1,1,1,1,1,1,1,1,1,1,1,1,1,1,1,1,1,1,1,1,1,1,1,1,1,1,1,1,1,1,1,1,1,1,1,1,1,1,1,1,1,1,1,1,1,1,1,1,1,1,1,1,1,1,1,1,1,1,1,1,1,1,1,1,1,1,1,1,1,1,1,1,1,1,1,1,1,1,1,1,1,1,1,1,1,1,1,1,1,1,1,1,1,1,1,1,1,1,1,1,1,1,1,1,1,1,1,1,1,1,1,1,1,1,1,1,1,1,1,1,1,1,1,1,1,1,1,1,1,1,1,1,1,1,1,1,1,1,1,1,1,1,1,1,1,1,1,1,1,1],\"CoinName\":[\"42 Coin\",\"404Coin\",\"EliteCoin\",\"Dash\",\"Bitshares\",\"BitcoinDark\",\"PayCoin\",\"KoboCoin\",\"Aurora Coin\",\"BlueCoin\",\"EnergyCoin\",\"BitBar\",\"CryptoBullion\",\"CasinoCoin\",\"Diamond\",\"Exclusive Coin\",\"FlutterCoin\",\"HoboNickels\",\"HyperStake\",\"IOCoin\",\"MaxCoin\",\"MintCoin\",\"MazaCoin\",\"Nautilus Coin\",\"NavCoin\",\"OpalCoin\",\"Orbitcoin\",\"PotCoin\",\"PhoenixCoin\",\"Reddcoin\",\"SuperCoin\",\"SyncCoin\",\"TeslaCoin\",\"TittieCoin\",\"TorCoin\",\"UnitaryStatus Dollar\",\"UltraCoin\",\"VeriCoin\",\"X11 Coin\",\"Crypti\",\"StealthCoin\",\"ZCC Coin\",\"BurstCoin\",\"StorjCoin\",\"Neutron\",\"FairCoin\",\"RubyCoin\",\"Kore\",\"Dnotes\",\"8BIT Coin\",\"Sativa Coin\",\"Ucoin\",\"Vtorrent\",\"IslaCoin\",\"Nexus\",\"Droidz\",\"Squall Coin\",\"Diggits\",\"Paycon\",\"Emercoin\",\"EverGreenCoin\",\"Decred\",\"EDRCoin\",\"Hitcoin\",\"DubaiCoin\",\"PWR Coin\",\"BillaryCoin\",\"GPU Coin\",\"EuropeCoin\",\"ZeitCoin\",\"SwingCoin\",\"SafeExchangeCoin\",\"Nebuchadnezzar\",\"Ratecoin\",\"Revenu\",\"Clockcoin\",\"VIP Tokens\",\"BitSend\",\"Let it Ride\",\"PutinCoin\",\"iBankCoin\",\"Frankywillcoin\",\"MudraCoin\",\"Lutetium Coin\",\"GoldBlocks\",\"CarterCoin\",\"BitTokens\",\"MustangCoin\",\"ZoneCoin\",\"RootCoin\",\"BitCurrency\",\"Swiscoin\",\"BuzzCoin\",\"Opair\",\"PesoBit\",\"Halloween Coin\",\"CoffeeCoin\",\"RoyalCoin\",\"GanjaCoin V2\",\"TeamUP\",\"LanaCoin\",\"ARK\",\"InsaneCoin\",\"EmberCoin\",\"XenixCoin\",\"FreeCoin\",\"PLNCoin\",\"AquariusCoin\",\"Creatio\",\"Eternity\",\"Eurocoin\",\"BitcoinFast\",\"Stakenet\",\"BitConnect Coin\",\"MoneyCoin\",\"Enigma\",\"Russiacoin\",\"PandaCoin\",\"GameUnits\",\"GAKHcoin\",\"Allsafe\",\"LiteCreed\",\"Klingon Empire Darsek\",\"Internet of People\",\"KushCoin\",\"Printerium\",\"Impeach\",\"Zilbercoin\",\"FirstCoin\",\"FindCoin\",\"OpenChat\",\"RenosCoin\",\"VirtacoinPlus\",\"TajCoin\",\"Impact\",\"Atmos\",\"HappyCoin\",\"MacronCoin\",\"Condensate\",\"Independent Money System\",\"ArgusCoin\",\"LomoCoin\",\"ProCurrency\",\"GoldReserve\",\"GrowthCoin\",\"Phreak\",\"Degas Coin\",\"HTML5 Coin\",\"Ultimate Secure Cash\",\"QTUM\",\"Espers\",\"Denarius\",\"Virta Unique Coin\",\"Bitcoin Planet\",\"BritCoin\",\"Linda\",\"DeepOnion\",\"Signatum\",\"Cream\",\"Monoeci\",\"Draftcoin\",\"Vechain\",\"Stakecoin\",\"CoinonatX\",\"Ethereum Dark\",\"Obsidian\",\"Cardano\",\"Regalcoin\",\"TrezarCoin\",\"TerraNovaCoin\",\"Rupee\",\"WomenCoin\",\"Theresa May Coin\",\"NamoCoin\",\"LUXCoin\",\"Xios\",\"Bitcloud 2.0\",\"KekCoin\",\"BlackholeCoin\",\"Infinity Economics\",\"Magnet\",\"Lamden Tau\",\"Electra\",\"Bitcoin Diamond\",\"Cash & Back Coin\",\"Bulwark\",\"Kalkulus\",\"GermanCoin\",\"LiteCoin Ultra\",\"PhantomX\",\"Digiwage\",\"Trollcoin\",\"Litecoin Plus\",\"Monkey Project\",\"TokenPay\",\"1717 Masonic Commemorative Token\",\"My Big Coin\",\"Unified Society USDEX\",\"Tokyo Coin\",\"Stipend\",\"Pushi\",\"Ellerium\",\"Velox\",\"Ontology\",\"Bitspace\",\"Briacoin\",\"Ignition\",\"MedicCoin\",\"Bitcoin Green\",\"Deviant Coin\",\"Abjcoin\",\"Semux\",\"Carebit\",\"Zealium\",\"Proton\",\"iDealCash\",\"Bitcoin Incognito\",\"HollyWoodCoin\",\"Swisscoin\",\"Xt3ch\",\"TheVig\",\"EmaratCoin\",\"Dekado\",\"Lynx\",\"Poseidon Quark\",\"BitcoinWSpectrum\",\"Muse\",\"Trivechain\",\"Dystem\",\"Giant\",\"Peony Coin\",\"Absolute Coin\",\"Vitae\",\"TPCash\",\"ARENON\",\"EUNO\",\"MMOCoin\",\"Ketan\",\"XDNA\",\"PAXEX\",\"ThunderStake\",\"Kcash\",\"Bettex coin\",\"BitMoney\",\"Junson Ming Chan Coin\",\"HerbCoin\",\"PirateCash\",\"Oduwa\",\"Galilel\",\"Crypto Sports\",\"Credit\",\"Dash Platinum\",\"Nasdacoin\",\"Beetle Coin\",\"Titan Coin\",\"Award\",\"Insane Coin\",\"ALAX\",\"LiteDoge\",\"TruckCoin\",\"OrangeCoin\",\"BitstarCoin\",\"NeosCoin\",\"HyperCoin\",\"PinkCoin\",\"AudioCoin\",\"IncaKoin\",\"Piggy Coin\",\"Genstake\",\"XiaoMiCoin\",\"CapriCoin\",\" ClubCoin\",\"Radium\",\"Creditbit \",\"OKCash\",\"Lisk\",\"HiCoin\",\"WhiteCoin\",\"FriendshipCoin\",\"Triangles Coin\",\"EOS\",\"Oxycoin\",\"TigerCash\",\"Particl\",\"Nxt\",\"ZEPHYR\",\"Gapcoin\",\"BitcoinPlus\"],\"TotalCoinSupply\":{\"__ndarray__\":\"NkOMefkWxz3VCP1MvW5BP1XynHYvG9Q/oib6fJQR9z7McLKR8X5tP6Im+nyUEfc+LEMc6+I26j7HuriNBvA2P03ubVFIlfE+AAAAAAAAAAAAAAAAAAAAAI3ttaD3xqA+je21oPfGsD57FK5H4XqkP/WHfzv9XtI+AAAAAAAAAAAAAAAAAAAAAGkdVU0QdR8/AAAAAAAAAACiJvp8lBH3PixDHOviNho/AAAAAAAAAABoTT0cbtFjP8naMiJJ9/A+AAAAAAAAAAAAAAAAAAAAAIF+GWsDoM8+vHmqQ26GOz/AkxYuq7AZPwAAAAAAAAAAAAAAAAAAAACV1iboCy4RPixDHOviNho/SFD8GHPXYj/waOOItfjkPixDHOviNlo/LEMc6+I2Gj8AAAAAAAAAAKIm+nyUEdc+AAAAAAAAAAAAAAAAAAAAAPyp8dJNYlA/UFX5y1uvYT/8qfHSTWJAP2ZMwRpn0xE/AAAAAAAAAAAAAAAAAAAAAFTkEHFzKuk+/Knx0k1iQD8AAAAAAAAAAPBo44i1+OQ+8GjjiLX49D7waOOItfj0PgAAAAAAAAAAhLndy31yFD+V+ok1IjnVPgAAAAAAAAAALEMc6+I2Gj8sQxzr4jYKP/yp8dJNYlA/3JaYzFCT+z7Jx+4CJQX2PqIm+nyUEfc+q8/VVuwvmz/Jx+4CJQXmPgAAAAAAAAAAycfuAiUFBj/1DnimS/ksP1TkEHFzKjk/8tJNYhBYuT/waOOItfgEP966CoGZl2E/8GjjiLX49D5hMlUwKqkTPwDDly5pMS0/FYxK6gQ0QT8O1v85zJcXP/ePhegQOCI/sHQ+PEuQAT/8qfHSTWJgPzFyDblRPgc/LEMc6+I2Gj8sQxzr4jYqP1RzucFQh0U/LEMc6+I2Cj8O1v85zJcXP8nH7gIlBfY+VOQQcXMqyT7Jx+4CJQX2PgAAAAAAAAAAAAAAAAAAAAATYcPTK2VpP3sUrkfhepQ/q1rSUQ5mEz8AAAAAAAAAAPp+arx0k1g/NNSvB7L4BD+CPVa0+fjEPixDHOviNho/T+j1J/G5Mz/xYmGInL5+P/yp8dJNYiA/aR1VTRB1/z5fB84ZUdpLPxF0NWZ6KdA+LEMc6+I2Cj/xbRNRwDQEP8nH7gIlBQY/8GjjiLX49D5pHVVNEHUPP/Bo44i1+PQ++py7XS9NAT/zdRn+0w0UP7dfPlkxXP0+/h0OWiFSRT/waOOItfjUPj+rzJTW3yI/7gprkculoD8FoidlUkPrPqm2xkea0Ms+aR1VTRB17z5t609siqoUP/yp8dJNYkA/ycfuAiUF9j7l2IT4453jPvBo44i1+PQ+Asu1Kq//9j5LsDic+dUMP0uwOJz51Rw/8zIaY/h17j78qfHSTWJQP+I/IeOiDAI/LEMc6+I2Gj9U/IRYolgDP0uwOJz51Rw/kqumSXDpHD8sQxzr4jYaPyxDHOviNjo//Knx0k1iQD9/VgfbFT72PtPL3ghB/f0+/Knx0k1iUD8zMzMzMzOzP/Bo44i1+AQ//Knx0k1iYD9pHVVNEHX/Prx5qkNuhhs/CtejcD0Ktz8pV94wtjkqPyxDHOviNho/mZmZmZmZqT/waOOItfjkPmkdVU0QdR8/LEMc6+I2Gj9pHVVNEHX/PpmZmZmZmak/x+CKkPHQ8z4vbqMBvAUiPyxDHOviNho/FtJpYC3w4z5bLjW8W0DyPvp0LpnMMrY/RwInV+clED/K8IEYRkwJPwfTizW3ndE+edgbIwL1Fz8K16NwPQqnP94AM9/BT/w+LEMc6+I2Oj+PGDxpYn/wPlTkEHFzKvk+mZmZmZmZmT8sQxzr4jYaP2EyVTAqqVM/aR1VTRB1Dz/Jx+4CJQX2PixDHOviNio/ycfuAiUF9j4QCgUtZQPvPjvfT42XboI/P6vMlNbfIj/8qfHSTWJAP7gehetRuJ4/vHmqQ26GKz+8eapDboYrP23BD1X9D/0+8GjjiLX49D6ZmZmZmZmpP2EyVTAqqSM/LEMc6+I2Cj9pHVVNEHUfP5LLf0i/fU0/je21oPfG0D7Jx+4CJQX2PixDHOviNvo+ffj9GGYluz5pHVVNEHX/PpC+SdOgaC4/LEMc6+I2Sj8ohtt/s0f0PixDHOviNvo+aR1VTRB1Dz8hPrDjv0AgP/yp8dJNYlA/LEMc6+I2Cj9U5BBxcyrJPvBo44i1+NQ+/Knx0k1iQD/Jx+4CJQX2PqIm+nyUERc/aR1VTRB1/z4sQxzr4jYaPyxDHOviNio/8GjjiLX4FD8O1v85zJcHP9uptE/B+nQ/ycfuAiUF9j4FoidlUkP7PoeFWtO844Q/oib6fJQRBz8sQxzr4jYaP8nH7gIlBRY/Dtb/OcyXFz9aZDvfT423P5T2Bl+YTEU/CVblkHtIGj8dySs/zPXyPlnHzSuboxU/ycfuAiUF9j56V0IZ2JrVPn5v05/9SJE/vHmqQ26GCz8sQxzr4jYaP/yp8dJNYlA/S7A4nPnVDD8sQxzr4jYKP0PFOH8TCjE/vHmqQ26GKz+gGcQHdvw3PyxDHOviNho/O99PjZdukj/8qfHSTWJQPyxDHOviNgo/61G4HoXrsT8AAAAAAAAAAN4AM9/BTww/vHmqQ26GGz/Jx+4CJQX2Pm8G8+Pv9fM+FuPTzvYJ7D4Spb3BFyazP+MyE7EtqPQ+ycfuAiUFFj/8qfHSTWJAP3sUrkfhenQ/vHmqQ26GOz9pHVVNEHX/Pvyp8dJNYlA/61G4HoXroT8AAAAAAAAAACxDHOviNio/EXy/DSJyDD/Jx+4CJQX2PgAAAAAAAAAA/Knx0k1iQD8bL90kBoGFP50MjpJX5yg//Knx0k1iUD9pHVVNEHXvPixDHOviNjo/BaInZVJDKz/waOOItfgkPz+rzJTW3+I+cMysIFlO8T68eapDboYbP/M1l5j49SQ/RXPJLYN/hD9hMlUwKqkzP3jJZLihiw8/K2mkKSsbgD4AAAAAAAAAAAAAAAAAAAAA/Knx0k1iUD9TVG0qaxviPvyp8dJNYlA//Knx0k1iYD/8qfHSTWIwP43ttaD3xrA+\",\"dtype\":\"float64\",\"order\":\"little\",\"shape\":[288]},\"TotalCoinsMined\":{\"__ndarray__\":\"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\",\"dtype\":\"float64\",\"order\":\"little\",\"shape\":[288]}},\"selected\":{\"id\":\"1876\"},\"selection_policy\":{\"id\":\"1892\"}},\"id\":\"1875\",\"type\":\"ColumnDataSource\"},{\"attributes\":{},\"id\":\"1936\",\"type\":\"UnionRenderers\"},{\"attributes\":{},\"id\":\"1844\",\"type\":\"ResetTool\"},{\"attributes\":{\"data\":{\"Class\":[2],\"CoinName\":[\"BitTorrent\"],\"TotalCoinSupply\":{\"__ndarray__\":\"rkfhehSu7z8=\",\"dtype\":\"float64\",\"order\":\"little\",\"shape\":[1]},\"TotalCoinsMined\":{\"__ndarray__\":\"AAAAAAAA8D8=\",\"dtype\":\"float64\",\"order\":\"little\",\"shape\":[1]}},\"selected\":{\"id\":\"1895\"},\"selection_policy\":{\"id\":\"1913\"}},\"id\":\"1894\",\"type\":\"ColumnDataSource\"},{\"attributes\":{\"data_source\":{\"id\":\"1915\"},\"glyph\":{\"id\":\"1918\"},\"hover_glyph\":null,\"muted_glyph\":{\"id\":\"1920\"},\"nonselection_glyph\":{\"id\":\"1919\"},\"selection_glyph\":null,\"view\":{\"id\":\"1922\"}},\"id\":\"1921\",\"type\":\"GlyphRenderer\"},{\"attributes\":{},\"id\":\"1842\",\"type\":\"WheelZoomTool\"},{\"attributes\":{},\"id\":\"1895\",\"type\":\"Selection\"},{\"attributes\":{\"margin\":[5,5,5,5],\"name\":\"HSpacer03430\",\"sizing_mode\":\"stretch_width\"},\"id\":\"2064\",\"type\":\"Spacer\"},{\"attributes\":{\"margin\":[5,5,5,5],\"name\":\"HSpacer03429\",\"sizing_mode\":\"stretch_width\"},\"id\":\"1816\",\"type\":\"Spacer\"},{\"attributes\":{\"label\":{\"value\":\"0\"},\"renderers\":[{\"id\":\"1863\"}]},\"id\":\"1874\",\"type\":\"LegendItem\"},{\"attributes\":{\"label\":{\"value\":\"2\"},\"renderers\":[{\"id\":\"1900\"}]},\"id\":\"1914\",\"type\":\"LegendItem\"},{\"attributes\":{\"overlay\":{\"id\":\"1845\"}},\"id\":\"1843\",\"type\":\"BoxZoomTool\"},{\"attributes\":{\"fill_alpha\":{\"value\":0.1},\"fill_color\":{\"value\":\"#d62628\"},\"line_alpha\":{\"value\":0.1},\"line_color\":{\"value\":\"#d62628\"},\"size\":{\"units\":\"screen\",\"value\":5.477225575051661},\"x\":{\"field\":\"TotalCoinsMined\"},\"y\":{\"field\":\"TotalCoinSupply\"}},\"id\":\"1919\",\"type\":\"Scatter\"},{\"attributes\":{\"text\":\"\",\"text_color\":{\"value\":\"black\"},\"text_font_size\":{\"value\":\"12pt\"}},\"id\":\"1824\",\"type\":\"Title\"},{\"attributes\":{\"label\":{\"value\":\"3\"},\"renderers\":[{\"id\":\"1921\"}]},\"id\":\"1937\",\"type\":\"LegendItem\"},{\"attributes\":{},\"id\":\"1858\",\"type\":\"Selection\"},{\"attributes\":{},\"id\":\"1892\",\"type\":\"UnionRenderers\"},{\"attributes\":{\"end\":1.042857142857143,\"reset_end\":1.042857142857143,\"reset_start\":-0.04285714285714286,\"start\":-0.04285714285714286,\"tags\":[[[\"TotalCoinsMined\",\"TotalCoinsMined\",null]]]},\"id\":\"1817\",\"type\":\"Range1d\"},{\"attributes\":{\"data\":{\"Class\":[0,0,0,0,0,0,0,0,0,0,0,0,0,0,0,0,0,0,0,0,0,0,0,0,0,0,0,0,0,0,0,0,0,0,0,0,0,0,0,0,0,0,0,0,0,0,0,0,0,0,0,0,0,0,0,0,0,0,0,0,0,0,0,0,0,0,0,0,0,0,0,0,0,0,0,0,0,0,0,0,0,0,0,0,0,0,0,0,0,0,0,0,0,0,0,0,0,0,0,0,0,0,0,0,0,0,0,0,0,0,0,0,0,0,0,0,0,0,0,0,0,0,0,0,0,0,0,0,0,0,0,0,0,0,0,0,0,0,0,0,0,0,0,0,0,0,0,0,0,0,0,0,0,0,0,0,0,0,0,0,0,0,0,0,0,0,0,0,0,0,0,0,0,0,0,0,0,0,0,0,0,0,0,0,0,0,0,0,0,0,0,0,0,0,0,0,0,0,0,0,0,0,0,0,0,0,0,0,0,0,0,0,0,0,0,0,0,0,0,0,0,0,0,0,0,0,0,0,0,0,0,0,0,0,0,0,0,0],\"CoinName\":[\"Bitcoin\",\"Ethereum\",\"Litecoin\",\"Monero\",\"Ethereum Classic\",\"ZCash\",\"DigiByte\",\"ProsperCoin\",\"Spreadcoin\",\"Argentum\",\"MyriadCoin\",\"MoonCoin\",\"ZetaCoin\",\"SexCoin\",\"Quatloo\",\"QuarkCoin\",\"Riecoin\",\"Digitalcoin \",\"Catcoin\",\"CannaCoin\",\"CryptCoin\",\"Verge\",\"DevCoin\",\"EarthCoin\",\"E-Gulden\",\"Einsteinium\",\"Emerald\",\"Franko\",\"FeatherCoin\",\"GrandCoin\",\"GlobalCoin\",\"GoldCoin\",\"Infinite Coin\",\"IXcoin\",\"KrugerCoin\",\"LuckyCoin\",\"Litebar \",\"MegaCoin\",\"MediterraneanCoin\",\"MinCoin\",\"NobleCoin\",\"Namecoin\",\"NyanCoin\",\"RonPaulCoin\",\"StableCoin\",\"SmartCoin\",\"SysCoin\",\"TigerCoin\",\"TerraCoin\",\"UnbreakableCoin\",\"Unobtanium\",\"UroCoin\",\"ViaCoin\",\"Vertcoin\",\"WorldCoin\",\"JouleCoin\",\"ByteCoin\",\"DigitalNote \",\"MonaCoin\",\"Gulden\",\"PesetaCoin\",\"Wild Beast Coin\",\"Flo\",\"ArtByte\",\"Folding Coin\",\"Unitus\",\"CypherPunkCoin\",\"OmniCron\",\"GreenCoin\",\"Cryptonite\",\"MasterCoin\",\"SoonCoin\",\"1Credit\",\"MarsCoin \",\"Crypto\",\"Anarchists Prime\",\"BowsCoin\",\"Song Coin\",\"BitZeny\",\"Expanse\",\"Siacoin\",\"MindCoin\",\"I0coin\",\"Revolution VR\",\"HOdlcoin\",\"Gamecredits\",\"CarpeDiemCoin\",\"Adzcoin\",\"SoilCoin\",\"YoCoin\",\"SibCoin\",\"Francs\",\"BolivarCoin\",\"Omni\",\"PizzaCoin\",\"Komodo\",\"Karbo\",\"ZayedCoin\",\"Circuits of Value\",\"DopeCoin\",\"DollarCoin\",\"Shilling\",\"ZCoin\",\"Elementrem\",\"ZClassic\",\"KiloCoin\",\"ArtexCoin\",\"Kurrent\",\"Cannabis Industry Coin\",\"OsmiumCoin\",\"Bikercoins\",\"HexxCoin\",\"PacCoin\",\"Citadel\",\"BeaverCoin\",\"VaultCoin\",\"Zero\",\"Canada eCoin\",\"Zoin\",\"DubaiCoin\",\"EB3coin\",\"Coinonat\",\"BenjiRolls\",\"ILCoin\",\"EquiTrader\",\"Quantum Resistant Ledger\",\"Dynamic\",\"Nano\",\"ChanCoin\",\"Dinastycoin\",\"DigitalPrice\",\"Unify\",\"SocialCoin\",\"ArcticCoin\",\"DAS\",\"LeviarCoin\",\"Bitcore\",\"gCn Coin\",\"SmartCash\",\"Onix\",\"Bitcoin Cash\",\"Sojourn Coin\",\"NewYorkCoin\",\"FrazCoin\",\"Kronecoin\",\"AdCoin\",\"Linx\",\"Sumokoin\",\"BitcoinZ\",\"Elements\",\"VIVO Coin\",\"Bitcoin Gold\",\"Pirl\",\"eBoost\",\"Pura\",\"Innova\",\"Ellaism\",\"GoByte\",\"SHIELD\",\"UltraNote\",\"BitCoal\",\"DaxxCoin\",\"AC3\",\"Lethean\",\"PopularCoin\",\"Photon\",\"Sucre\",\"SparksPay\",\"GunCoin\",\"IrishCoin\",\"Pioneer Coin\",\"UnitedBitcoin\",\"Interzone\",\"TurtleCoin\",\"MUNcoin\",\"Niobio Cash\",\"ShareChain\",\"Travelflex\",\"KREDS\",\"BitFlip\",\"LottoCoin\",\"Crypto Improvement Fund\",\"Callisto Network\",\"BitTube\",\"Poseidon\",\"Aidos Kuneen\",\"Bitrolium\",\"Alpenschillling\",\"FuturoCoin\",\"Monero Classic\",\"Jumpcoin\",\"Infinex\",\"KEYCO\",\"GINcoin\",\"PlatinCoin\",\"Loki\",\"Newton Coin\",\"MassGrid\",\"PluraCoin\",\"Motion\",\"PlusOneCoin\",\"Axe\",\"HexCoin\",\"Webchain\",\"Ryo\",\"Urals Coin\",\"Qwertycoin\",\"Project Pai\",\"Azart\",\"Xchange\",\"CrypticCoin\",\"Actinium\",\"Bitcoin SV\",\"FREDEnergy\",\"Universal Molecule\",\"Lithium\",\"Exosis\",\"Block-Logic\",\"Beam\",\"Bithereum\",\"SLICE\",\"BLAST\",\"Bitcoin Rhodium\",\"GlobalToken\",\"SolarCoin\",\"UFO Coin\",\"BlakeCoin\",\"Crypto Escudo\",\"Crown Coin\",\"SmileyCoin\",\"Groestlcoin\",\"Bata\",\"Pakcoin\",\"JoinCoin\",\"Vollar\",\"Reality Clash\",\"Beldex\",\"Horizen\"],\"TotalCoinSupply\":{\"__ndarray__\":\"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\",\"dtype\":\"float64\",\"order\":\"little\",\"shape\":[238]},\"TotalCoinsMined\":{\"__ndarray__\":\"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\",\"dtype\":\"float64\",\"order\":\"little\",\"shape\":[238]}},\"selected\":{\"id\":\"1858\"},\"selection_policy\":{\"id\":\"1872\"}},\"id\":\"1857\",\"type\":\"ColumnDataSource\"},{\"attributes\":{},\"id\":\"1856\",\"type\":\"BasicTickFormatter\"},{\"attributes\":{\"fill_alpha\":{\"value\":0.2},\"fill_color\":{\"value\":\"#d62628\"},\"line_alpha\":{\"value\":0.2},\"line_color\":{\"value\":\"#d62628\"},\"size\":{\"units\":\"screen\",\"value\":5.477225575051661},\"x\":{\"field\":\"TotalCoinsMined\"},\"y\":{\"field\":\"TotalCoinSupply\"}},\"id\":\"1920\",\"type\":\"Scatter\"},{\"attributes\":{\"source\":{\"id\":\"1857\"}},\"id\":\"1864\",\"type\":\"CDSView\"},{\"attributes\":{\"click_policy\":\"mute\",\"items\":[{\"id\":\"1874\"},{\"id\":\"1893\"},{\"id\":\"1914\"},{\"id\":\"1937\"}],\"location\":[0,0],\"title\":\"Class\"},\"id\":\"1873\",\"type\":\"Legend\"},{\"attributes\":{\"axis\":{\"id\":\"1832\"},\"grid_line_color\":null,\"ticker\":null},\"id\":\"1835\",\"type\":\"Grid\"},{\"attributes\":{\"fill_alpha\":{\"value\":0.2},\"fill_color\":{\"value\":\"#2ba02b\"},\"line_alpha\":{\"value\":0.2},\"line_color\":{\"value\":\"#2ba02b\"},\"size\":{\"units\":\"screen\",\"value\":5.477225575051661},\"x\":{\"field\":\"TotalCoinsMined\"},\"y\":{\"field\":\"TotalCoinSupply\"}},\"id\":\"1899\",\"type\":\"Scatter\"},{\"attributes\":{},\"id\":\"1828\",\"type\":\"LinearScale\"},{\"attributes\":{\"fill_color\":{\"value\":\"#d62628\"},\"line_color\":{\"value\":\"#d62628\"},\"size\":{\"units\":\"screen\",\"value\":5.477225575051661},\"x\":{\"field\":\"TotalCoinsMined\"},\"y\":{\"field\":\"TotalCoinSupply\"}},\"id\":\"1918\",\"type\":\"Scatter\"},{\"attributes\":{\"fill_alpha\":{\"value\":0.1},\"fill_color\":{\"value\":\"#ff7e0e\"},\"line_alpha\":{\"value\":0.1},\"line_color\":{\"value\":\"#ff7e0e\"},\"size\":{\"units\":\"screen\",\"value\":5.477225575051661},\"x\":{\"field\":\"TotalCoinsMined\"},\"y\":{\"field\":\"TotalCoinSupply\"}},\"id\":\"1879\",\"type\":\"Scatter\"},{\"attributes\":{},\"id\":\"1830\",\"type\":\"LinearScale\"},{\"attributes\":{\"data_source\":{\"id\":\"1875\"},\"glyph\":{\"id\":\"1878\"},\"hover_glyph\":null,\"muted_glyph\":{\"id\":\"1880\"},\"nonselection_glyph\":{\"id\":\"1879\"},\"selection_glyph\":null,\"view\":{\"id\":\"1882\"}},\"id\":\"1881\",\"type\":\"GlyphRenderer\"},{\"attributes\":{\"callback\":null,\"renderers\":[{\"id\":\"1863\"},{\"id\":\"1881\"},{\"id\":\"1900\"},{\"id\":\"1921\"}],\"tags\":[\"hv_created\"],\"tooltips\":[[\"Class\",\"@{Class}\"],[\"TotalCoinsMined\",\"@{TotalCoinsMined}\"],[\"TotalCoinSupply\",\"@{TotalCoinSupply}\"],[\"CoinName\",\"@{CoinName}\"]]},\"id\":\"1819\",\"type\":\"HoverTool\"},{\"attributes\":{},\"id\":\"1833\",\"type\":\"BasicTicker\"},{\"attributes\":{\"source\":{\"id\":\"1915\"}},\"id\":\"1922\",\"type\":\"CDSView\"},{\"attributes\":{\"data_source\":{\"id\":\"1857\"},\"glyph\":{\"id\":\"1860\"},\"hover_glyph\":null,\"muted_glyph\":{\"id\":\"1862\"},\"nonselection_glyph\":{\"id\":\"1861\"},\"selection_glyph\":null,\"view\":{\"id\":\"1864\"}},\"id\":\"1863\",\"type\":\"GlyphRenderer\"}],\"root_ids\":[\"1815\"]},\"title\":\"Bokeh Application\",\"version\":\"2.2.3\"}};\n",
       "    var render_items = [{\"docid\":\"42878004-2817-4529-affc-3f97f54d61cc\",\"root_ids\":[\"1815\"],\"roots\":{\"1815\":\"7255a53e-adc5-43fe-9bd5-5e3aabdf8915\"}}];\n",
       "    root.Bokeh.embed.embed_items_notebook(docs_json, render_items);\n",
       "  }\n",
       "  if (root.Bokeh !== undefined && root.Bokeh.Panel !== undefined) {\n",
       "    embed_document(root);\n",
       "  } else {\n",
       "    var attempts = 0;\n",
       "    var timer = setInterval(function(root) {\n",
       "      if (root.Bokeh !== undefined && root.Bokeh.Panel !== undefined) {\n",
       "        clearInterval(timer);\n",
       "        embed_document(root);\n",
       "      } else if (document.readyState == \"complete\") {\n",
       "        attempts++;\n",
       "        if (attempts > 100) {\n",
       "          clearInterval(timer);\n",
       "          console.log(\"Bokeh: ERROR: Unable to run BokehJS code because BokehJS library is missing\");\n",
       "        }\n",
       "      }\n",
       "    }, 10, root)\n",
       "  }\n",
       "})(window);</script>"
      ],
      "text/plain": [
       ":NdOverlay   [Class]\n",
       "   :Scatter   [TotalCoinsMined]   (TotalCoinSupply,CoinName)"
      ]
     },
     "execution_count": 213,
     "metadata": {
      "application/vnd.holoviews_exec.v0+json": {
       "id": "1815"
      }
     },
     "output_type": "execute_result"
    }
   ],
   "source": [
    "# Create a hvplot.scatter plot using x=\"TotalCoinsMined\" and y=\"TotalCoinSupply\".\n",
    "plot_df.hvplot.scatter(x=\"TotalCoinsMined\", y=\"TotalCoinSupply\", by=\"Class\", hover_cols=\"CoinName\")"
   ]
  },
  {
   "cell_type": "code",
   "execution_count": null,
   "metadata": {},
   "outputs": [],
   "source": []
  }
 ],
 "metadata": {
  "file_extension": ".py",
  "kernelspec": {
   "display_name": "PythonData",
   "language": "python",
   "name": "pythondata"
  },
  "language_info": {
   "codemirror_mode": {
    "name": "ipython",
    "version": 3
   },
   "file_extension": ".py",
   "mimetype": "text/x-python",
   "name": "python",
   "nbconvert_exporter": "python",
   "pygments_lexer": "ipython3",
   "version": "3.7.7"
  },
  "latex_envs": {
   "LaTeX_envs_menu_present": true,
   "autoclose": false,
   "autocomplete": true,
   "bibliofile": "biblio.bib",
   "cite_by": "apalike",
   "current_citInitial": 1,
   "eqLabelWithNumbers": true,
   "eqNumInitial": 1,
   "hotkeys": {
    "equation": "Ctrl-E",
    "itemize": "Ctrl-I"
   },
   "labels_anchors": false,
   "latex_user_defs": false,
   "report_style_numbering": false,
   "user_envs_cfg": false
  },
  "mimetype": "text/x-python",
  "name": "python",
  "npconvert_exporter": "python",
  "pygments_lexer": "ipython3",
  "version": 3
 },
 "nbformat": 4,
 "nbformat_minor": 2
}
